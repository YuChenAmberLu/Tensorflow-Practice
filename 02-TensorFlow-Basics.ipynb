{
 "cells": [
  {
   "cell_type": "markdown",
   "metadata": {},
   "source": [
    "# TensorFlow Basics"
   ]
  },
  {
   "cell_type": "markdown",
   "metadata": {},
   "source": [
    "## TF Basic Syntax"
   ]
  },
  {
   "cell_type": "code",
   "execution_count": 520,
   "metadata": {},
   "outputs": [],
   "source": [
    "import tensorflow as tf"
   ]
  },
  {
   "cell_type": "code",
   "execution_count": 521,
   "metadata": {},
   "outputs": [
    {
     "name": "stdout",
     "output_type": "stream",
     "text": [
      "1.3.0\n"
     ]
    }
   ],
   "source": [
    "print(tf.__version__)"
   ]
  },
  {
   "cell_type": "code",
   "execution_count": 522,
   "metadata": {},
   "outputs": [],
   "source": [
    "hello = tf.constant(\"Hello\")"
   ]
  },
  {
   "cell_type": "code",
   "execution_count": 523,
   "metadata": {},
   "outputs": [],
   "source": [
    "world = tf.constant(\"World\")"
   ]
  },
  {
   "cell_type": "code",
   "execution_count": 524,
   "metadata": {},
   "outputs": [
    {
     "data": {
      "text/plain": [
       "tensorflow.python.framework.ops.Tensor"
      ]
     },
     "execution_count": 524,
     "metadata": {},
     "output_type": "execute_result"
    }
   ],
   "source": [
    "type(hello)"
   ]
  },
  {
   "cell_type": "code",
   "execution_count": 525,
   "metadata": {},
   "outputs": [
    {
     "name": "stdout",
     "output_type": "stream",
     "text": [
      "Tensor(\"Const_47:0\", shape=(), dtype=string)\n"
     ]
    }
   ],
   "source": [
    "print(hello)"
   ]
  },
  {
   "cell_type": "code",
   "execution_count": 526,
   "metadata": {},
   "outputs": [],
   "source": [
    "# To print the \"hello\"\n",
    "# Use \"with\" to aviod close the session \n",
    "with tf.Session() as sess: \n",
    "    \n",
    "    result = sess.run(hello + world)"
   ]
  },
  {
   "cell_type": "code",
   "execution_count": 527,
   "metadata": {},
   "outputs": [
    {
     "name": "stdout",
     "output_type": "stream",
     "text": [
      "b'HelloWorld'\n"
     ]
    }
   ],
   "source": [
    "print (result)"
   ]
  },
  {
   "cell_type": "code",
   "execution_count": 528,
   "metadata": {},
   "outputs": [],
   "source": [
    "a = tf.constant(10)\n",
    "b = tf.constant(20)"
   ]
  },
  {
   "cell_type": "code",
   "execution_count": 529,
   "metadata": {},
   "outputs": [
    {
     "data": {
      "text/plain": [
       "tensorflow.python.framework.ops.Tensor"
      ]
     },
     "execution_count": 529,
     "metadata": {},
     "output_type": "execute_result"
    }
   ],
   "source": [
    "type(a)"
   ]
  },
  {
   "cell_type": "code",
   "execution_count": 530,
   "metadata": {},
   "outputs": [
    {
     "data": {
      "text/plain": [
       "<tf.Tensor 'add_136:0' shape=() dtype=int32>"
      ]
     },
     "execution_count": 530,
     "metadata": {},
     "output_type": "execute_result"
    }
   ],
   "source": [
    "a + b \n",
    "\n",
    "# <tf.Tensor 'add_2:0' shape=() dtype=int32> "
   ]
  },
  {
   "cell_type": "code",
   "execution_count": 531,
   "metadata": {},
   "outputs": [
    {
     "data": {
      "text/plain": [
       "<tf.Tensor 'add_137:0' shape=() dtype=int32>"
      ]
     },
     "execution_count": 531,
     "metadata": {},
     "output_type": "execute_result"
    }
   ],
   "source": [
    "a + b \n",
    "\n",
    "# <tf.Tensor 'add_3:0' shape=() dtype=int32> "
   ]
  },
  {
   "cell_type": "code",
   "execution_count": 532,
   "metadata": {},
   "outputs": [
    {
     "data": {
      "text/plain": [
       "<tf.Tensor 'add_138:0' shape=() dtype=int32>"
      ]
     },
     "execution_count": 532,
     "metadata": {},
     "output_type": "execute_result"
    }
   ],
   "source": [
    "a + b \n",
    "\n",
    "# <tf.Tensor 'add_4:0' shape=() dtype=int32> \n",
    "## tensor track how many times you ran"
   ]
  },
  {
   "cell_type": "code",
   "execution_count": 533,
   "metadata": {},
   "outputs": [],
   "source": [
    "with tf.Session() as sess:\n",
    "    \n",
    "    result = sess.run(a+b)"
   ]
  },
  {
   "cell_type": "code",
   "execution_count": 534,
   "metadata": {},
   "outputs": [
    {
     "data": {
      "text/plain": [
       "30"
      ]
     },
     "execution_count": 534,
     "metadata": {},
     "output_type": "execute_result"
    }
   ],
   "source": [
    "result"
   ]
  },
  {
   "cell_type": "code",
   "execution_count": 535,
   "metadata": {},
   "outputs": [],
   "source": [
    "const = tf.constant(10)"
   ]
  },
  {
   "cell_type": "code",
   "execution_count": 536,
   "metadata": {},
   "outputs": [],
   "source": [
    "fill_mat = tf.fill((4,4), 10)"
   ]
  },
  {
   "cell_type": "code",
   "execution_count": 537,
   "metadata": {},
   "outputs": [],
   "source": [
    "myzeros = tf.zeros((4,4))"
   ]
  },
  {
   "cell_type": "code",
   "execution_count": 538,
   "metadata": {},
   "outputs": [],
   "source": [
    "myones = tf.ones((4,4))"
   ]
  },
  {
   "cell_type": "code",
   "execution_count": 539,
   "metadata": {},
   "outputs": [],
   "source": [
    "myrandn = tf.random_normal((4,4),mean=0,stddev=1.0)"
   ]
  },
  {
   "cell_type": "code",
   "execution_count": 540,
   "metadata": {},
   "outputs": [],
   "source": [
    "myrandu = tf.random_uniform((4,4),minval=0,maxval=1)"
   ]
  },
  {
   "cell_type": "code",
   "execution_count": 541,
   "metadata": {},
   "outputs": [],
   "source": [
    "my_ops = [const, fill_mat, myzeros,myones, myrandn, myrandu]"
   ]
  },
  {
   "cell_type": "code",
   "execution_count": 542,
   "metadata": {},
   "outputs": [],
   "source": [
    "sess = tf.InteractiveSession() "
   ]
  },
  {
   "cell_type": "code",
   "execution_count": 543,
   "metadata": {},
   "outputs": [
    {
     "name": "stdout",
     "output_type": "stream",
     "text": [
      "10\n",
      "\n",
      "\n",
      "[[10 10 10 10]\n",
      " [10 10 10 10]\n",
      " [10 10 10 10]\n",
      " [10 10 10 10]]\n",
      "\n",
      "\n",
      "[[ 0.  0.  0.  0.]\n",
      " [ 0.  0.  0.  0.]\n",
      " [ 0.  0.  0.  0.]\n",
      " [ 0.  0.  0.  0.]]\n",
      "\n",
      "\n",
      "[[ 1.  1.  1.  1.]\n",
      " [ 1.  1.  1.  1.]\n",
      " [ 1.  1.  1.  1.]\n",
      " [ 1.  1.  1.  1.]]\n",
      "\n",
      "\n",
      "[[ 1.11792481 -0.12602974 -0.41129205 -0.42375028]\n",
      " [ 1.80429494  2.51863837  1.42562413 -0.91960567]\n",
      " [ 0.30187181  1.32487452  0.36977082 -0.30093992]\n",
      " [ 0.94635051 -0.17704675  1.33241928 -0.07831638]]\n",
      "\n",
      "\n",
      "[[ 0.48268569  0.6604892   0.95762122  0.0093689 ]\n",
      " [ 0.28063059  0.31939459  0.76884758  0.14571357]\n",
      " [ 0.55881846  0.14101636  0.42148185  0.90452933]\n",
      " [ 0.92934394  0.77126801  0.37837923  0.2996285 ]]\n",
      "\n",
      "\n"
     ]
    }
   ],
   "source": [
    "# this can be run \n",
    "# because sess = tf.InteractiveSession() for jupyter notebook environment \n",
    "# Otherwise, it should be run through with tf.Session() as sess:\n",
    "\n",
    "for op in my_ops: \n",
    "    \n",
    "    print(sess.run(op)) # have same result as 'op.eval()'\n",
    "    print('\\n')"
   ]
  },
  {
   "cell_type": "code",
   "execution_count": 544,
   "metadata": {},
   "outputs": [],
   "source": [
    "a = tf.constant([[1,2],\n",
    "                 [3,4]])"
   ]
  },
  {
   "cell_type": "code",
   "execution_count": 545,
   "metadata": {},
   "outputs": [
    {
     "data": {
      "text/plain": [
       "TensorShape([Dimension(2), Dimension(2)])"
      ]
     },
     "execution_count": 545,
     "metadata": {},
     "output_type": "execute_result"
    }
   ],
   "source": [
    "a.get_shape()"
   ]
  },
  {
   "cell_type": "code",
   "execution_count": 546,
   "metadata": {},
   "outputs": [],
   "source": [
    "b = tf.constant([ [10],[100] ])"
   ]
  },
  {
   "cell_type": "code",
   "execution_count": 547,
   "metadata": {},
   "outputs": [
    {
     "data": {
      "text/plain": [
       "TensorShape([Dimension(2), Dimension(1)])"
      ]
     },
     "execution_count": 547,
     "metadata": {},
     "output_type": "execute_result"
    }
   ],
   "source": [
    "b.get_shape()"
   ]
  },
  {
   "cell_type": "code",
   "execution_count": 548,
   "metadata": {},
   "outputs": [],
   "source": [
    "result = tf.matmul(a,b)"
   ]
  },
  {
   "cell_type": "code",
   "execution_count": 549,
   "metadata": {},
   "outputs": [
    {
     "data": {
      "text/plain": [
       "array([[210],\n",
       "       [430]], dtype=int32)"
      ]
     },
     "execution_count": 549,
     "metadata": {},
     "output_type": "execute_result"
    }
   ],
   "source": [
    "result.eval()"
   ]
  },
  {
   "cell_type": "code",
   "execution_count": 550,
   "metadata": {},
   "outputs": [
    {
     "data": {
      "text/plain": [
       "array([[210],\n",
       "       [430]], dtype=int32)"
      ]
     },
     "execution_count": 550,
     "metadata": {},
     "output_type": "execute_result"
    }
   ],
   "source": [
    "sess.run(result)"
   ]
  },
  {
   "cell_type": "markdown",
   "metadata": {},
   "source": [
    "## TF Graphs"
   ]
  },
  {
   "cell_type": "raw",
   "metadata": {},
   "source": [
    "Graphs are sets of connected nodes (vertics)\n",
    "\n",
    "The connections are referred to as edges\n",
    "\n",
    "In TensorFlow each node is an operation with possible inputs that can supply some output"
   ]
  },
  {
   "cell_type": "code",
   "execution_count": 551,
   "metadata": {},
   "outputs": [],
   "source": [
    "n1 = tf.constant(1)"
   ]
  },
  {
   "cell_type": "code",
   "execution_count": 552,
   "metadata": {},
   "outputs": [],
   "source": [
    "n2 = tf.constant(2)"
   ]
  },
  {
   "cell_type": "code",
   "execution_count": 553,
   "metadata": {},
   "outputs": [],
   "source": [
    "n3 = n1 + n2"
   ]
  },
  {
   "cell_type": "code",
   "execution_count": 554,
   "metadata": {},
   "outputs": [],
   "source": [
    "with tf.Session() as sess:\n",
    "    \n",
    "    result = sess.run(n3)"
   ]
  },
  {
   "cell_type": "code",
   "execution_count": 555,
   "metadata": {},
   "outputs": [
    {
     "name": "stdout",
     "output_type": "stream",
     "text": [
      "3\n"
     ]
    }
   ],
   "source": [
    "print(result)"
   ]
  },
  {
   "cell_type": "code",
   "execution_count": 556,
   "metadata": {},
   "outputs": [
    {
     "name": "stdout",
     "output_type": "stream",
     "text": [
      "Tensor(\"add_140:0\", shape=(), dtype=int32)\n"
     ]
    }
   ],
   "source": [
    "print(n3)"
   ]
  },
  {
   "cell_type": "code",
   "execution_count": 557,
   "metadata": {},
   "outputs": [
    {
     "name": "stdout",
     "output_type": "stream",
     "text": [
      "<tensorflow.python.framework.ops.Graph object at 0x10a49fcc0>\n"
     ]
    }
   ],
   "source": [
    "print(tf.get_default_graph())"
   ]
  },
  {
   "cell_type": "code",
   "execution_count": 558,
   "metadata": {},
   "outputs": [],
   "source": [
    "g = tf.Graph()"
   ]
  },
  {
   "cell_type": "code",
   "execution_count": 559,
   "metadata": {},
   "outputs": [
    {
     "name": "stdout",
     "output_type": "stream",
     "text": [
      "<tensorflow.python.framework.ops.Graph object at 0x119df0eb8>\n"
     ]
    }
   ],
   "source": [
    "print(g)"
   ]
  },
  {
   "cell_type": "code",
   "execution_count": 560,
   "metadata": {},
   "outputs": [],
   "source": [
    "graph_one = tf.get_default_graph()"
   ]
  },
  {
   "cell_type": "code",
   "execution_count": 561,
   "metadata": {},
   "outputs": [
    {
     "name": "stdout",
     "output_type": "stream",
     "text": [
      "<tensorflow.python.framework.ops.Graph object at 0x10a49fcc0>\n"
     ]
    }
   ],
   "source": [
    "print(graph_one)"
   ]
  },
  {
   "cell_type": "code",
   "execution_count": 562,
   "metadata": {},
   "outputs": [],
   "source": [
    "graph_two = tf.Graph()"
   ]
  },
  {
   "cell_type": "code",
   "execution_count": 563,
   "metadata": {},
   "outputs": [
    {
     "name": "stdout",
     "output_type": "stream",
     "text": [
      "<tensorflow.python.framework.ops.Graph object at 0x119df0208>\n"
     ]
    }
   ],
   "source": [
    "print(graph_two)"
   ]
  },
  {
   "cell_type": "code",
   "execution_count": 564,
   "metadata": {},
   "outputs": [
    {
     "name": "stdout",
     "output_type": "stream",
     "text": [
      "True\n"
     ]
    }
   ],
   "source": [
    "with graph_two.as_default():\n",
    "    \n",
    "    print (graph_two is tf.get_default_graph())"
   ]
  },
  {
   "cell_type": "code",
   "execution_count": 565,
   "metadata": {},
   "outputs": [
    {
     "name": "stdout",
     "output_type": "stream",
     "text": [
      "False\n"
     ]
    }
   ],
   "source": [
    "print (graph_two is tf.get_default_graph())"
   ]
  },
  {
   "cell_type": "markdown",
   "metadata": {},
   "source": [
    "## TF Variables"
   ]
  },
  {
   "cell_type": "raw",
   "metadata": {},
   "source": [
    "Variables can hold the values of weights and biases throughout the session\n",
    "\n",
    "Variables need to be initialized"
   ]
  },
  {
   "cell_type": "code",
   "execution_count": 566,
   "metadata": {},
   "outputs": [],
   "source": [
    "sess = tf.InteractiveSession() "
   ]
  },
  {
   "cell_type": "code",
   "execution_count": 567,
   "metadata": {},
   "outputs": [],
   "source": [
    "my_tensor = tf.random_uniform((4,4),0,1)"
   ]
  },
  {
   "cell_type": "code",
   "execution_count": 568,
   "metadata": {},
   "outputs": [
    {
     "data": {
      "text/plain": [
       "<tf.Tensor 'random_uniform_11:0' shape=(4, 4) dtype=float32>"
      ]
     },
     "execution_count": 568,
     "metadata": {},
     "output_type": "execute_result"
    }
   ],
   "source": [
    "my_tensor"
   ]
  },
  {
   "cell_type": "code",
   "execution_count": 569,
   "metadata": {},
   "outputs": [],
   "source": [
    "my_var = tf.Variable(initial_value=my_tensor)"
   ]
  },
  {
   "cell_type": "code",
   "execution_count": 570,
   "metadata": {},
   "outputs": [
    {
     "name": "stdout",
     "output_type": "stream",
     "text": [
      "<tf.Variable 'Variable_23:0' shape=(4, 4) dtype=float32_ref>\n"
     ]
    }
   ],
   "source": [
    "print(my_var)"
   ]
  },
  {
   "cell_type": "code",
   "execution_count": 571,
   "metadata": {},
   "outputs": [],
   "source": [
    "init = tf.global_variables_initializer()"
   ]
  },
  {
   "cell_type": "code",
   "execution_count": 572,
   "metadata": {},
   "outputs": [],
   "source": [
    "sess.run(init)"
   ]
  },
  {
   "cell_type": "code",
   "execution_count": 573,
   "metadata": {},
   "outputs": [
    {
     "data": {
      "text/plain": [
       "array([[ 0.60055864,  0.53132474,  0.59162569,  0.80508792],\n",
       "       [ 0.94262564,  0.38468564,  0.63696015,  0.2118845 ],\n",
       "       [ 0.75567353,  0.26108325,  0.23145127,  0.18456721],\n",
       "       [ 0.31447411,  0.99978888,  0.63943005,  0.2765789 ]], dtype=float32)"
      ]
     },
     "execution_count": 573,
     "metadata": {},
     "output_type": "execute_result"
    }
   ],
   "source": [
    "sess.run(my_var)"
   ]
  },
  {
   "cell_type": "markdown",
   "metadata": {},
   "source": [
    "## TF Placeholders"
   ]
  },
  {
   "cell_type": "raw",
   "metadata": {},
   "source": [
    "Placeholders are initially empty are used to feed in the actual training examples"
   ]
  },
  {
   "cell_type": "code",
   "execution_count": 574,
   "metadata": {},
   "outputs": [],
   "source": [
    "ph = tf.placeholder(tf.float32,shape=(4,4))"
   ]
  },
  {
   "cell_type": "code",
   "execution_count": 575,
   "metadata": {},
   "outputs": [],
   "source": [
    "ph = tf.placeholder(tf.float32,shape=(None,5)) \n",
    "# 'None' is becuase it is unknown number of rows(record)"
   ]
  },
  {
   "cell_type": "markdown",
   "metadata": {},
   "source": [
    "# Neural Network"
   ]
  },
  {
   "cell_type": "raw",
   "metadata": {},
   "source": [
    "Build a Graph\n",
    "\n",
    "Initial the session\n",
    "\n",
    "Feed data in and get output"
   ]
  },
  {
   "cell_type": "raw",
   "metadata": {},
   "source": [
    "W [Var] --\n",
    "         |-> tf.matmul()[Op] -> tf.add()[Op] -> Activation Func\n",
    "X [PH]  --                         \n",
    "                            b [Var] ---^\n"
   ]
  },
  {
   "cell_type": "code",
   "execution_count": 576,
   "metadata": {},
   "outputs": [],
   "source": [
    "import numpy as np\n",
    "np.random.seed(101)\n",
    "tf.set_random_seed(101)"
   ]
  },
  {
   "cell_type": "code",
   "execution_count": 577,
   "metadata": {},
   "outputs": [
    {
     "data": {
      "text/plain": [
       "array([[ 51.63986277,  57.06675869,   2.84742265,  17.15216562,\n",
       "         68.52769817],\n",
       "       [ 83.38968626,  30.69662197,  89.36130797,  72.15438618,\n",
       "         18.99389542],\n",
       "       [ 55.42275911,  35.2131954 ,  18.18924027,  78.56017619,\n",
       "         96.54832224],\n",
       "       [ 23.23536618,   8.35614337,  60.35484223,  72.89927573,\n",
       "         27.62388285],\n",
       "       [ 68.53063288,  51.78674742,   4.84845374,  13.78692376,\n",
       "         18.69674261]])"
      ]
     },
     "execution_count": 577,
     "metadata": {},
     "output_type": "execute_result"
    }
   ],
   "source": [
    "rand_a = np.random.uniform(0,100,(5,5))\n",
    "rand_a "
   ]
  },
  {
   "cell_type": "code",
   "execution_count": 578,
   "metadata": {},
   "outputs": [
    {
     "data": {
      "text/plain": [
       "array([[ 99.43179012],\n",
       "       [ 52.06653967],\n",
       "       [ 57.87895355],\n",
       "       [ 73.48190583],\n",
       "       [ 54.19617722]])"
      ]
     },
     "execution_count": 578,
     "metadata": {},
     "output_type": "execute_result"
    }
   ],
   "source": [
    "rand_b = np.random.uniform(0,100,(5,1))\n",
    "rand_b "
   ]
  },
  {
   "cell_type": "code",
   "execution_count": 579,
   "metadata": {},
   "outputs": [],
   "source": [
    "a = tf.placeholder(tf.float32)"
   ]
  },
  {
   "cell_type": "code",
   "execution_count": 580,
   "metadata": {},
   "outputs": [],
   "source": [
    "b = tf.placeholder(tf.float32)"
   ]
  },
  {
   "cell_type": "code",
   "execution_count": 581,
   "metadata": {},
   "outputs": [],
   "source": [
    "add_op = a + b"
   ]
  },
  {
   "cell_type": "code",
   "execution_count": 582,
   "metadata": {},
   "outputs": [],
   "source": [
    "mul_op = a * b"
   ]
  },
  {
   "cell_type": "code",
   "execution_count": 583,
   "metadata": {},
   "outputs": [
    {
     "name": "stdout",
     "output_type": "stream",
     "text": [
      "30.0\n"
     ]
    }
   ],
   "source": [
    "with tf.Session() as sess:\n",
    "    \n",
    "    add_result = sess.run(add_op, feed_dict={a:10,b:20})\n",
    "    \n",
    "    print (add_result)"
   ]
  },
  {
   "cell_type": "code",
   "execution_count": 584,
   "metadata": {},
   "outputs": [
    {
     "name": "stdout",
     "output_type": "stream",
     "text": [
      "[[ 151.07165527  156.49855042  102.27921295  116.58396149  167.95948792]\n",
      " [ 135.45622253   82.76316071  141.42784119  124.22093201   71.06043243]\n",
      " [ 113.30171204   93.09214783   76.06819153  136.43911743  154.42727661]\n",
      " [  96.7172699    81.83804321  133.83674622  146.38117981  101.10578918]\n",
      " [ 122.72680664  105.98292542   59.04463196   67.98310089   72.89292145]]\n",
      "\n",
      "\n",
      "[[ 5134.64404297  5674.25         283.12432861  1705.47070312\n",
      "   6813.83154297]\n",
      " [ 4341.8125      1598.26696777  4652.73388672  3756.8293457    988.9463501 ]\n",
      " [ 3207.8112793   2038.10290527  1052.77416992  4546.98046875\n",
      "   5588.11572266]\n",
      " [ 1707.37902832   614.02526855  4434.98876953  5356.77734375\n",
      "   2029.85546875]\n",
      " [ 3714.09838867  2806.64379883   262.76763916   747.19854736\n",
      "   1013.29199219]]\n"
     ]
    }
   ],
   "source": [
    "with tf.Session() as sess:\n",
    "    \n",
    "    add_result = sess.run(add_op, feed_dict={a:rand_a,b:rand_b})\n",
    "    \n",
    "    print (add_result)\n",
    "    \n",
    "    print('\\n')\n",
    "    \n",
    "    mult_result = sess.run(mul_op, feed_dict={a:rand_a,b:rand_b})\n",
    "    \n",
    "    print (mult_result)\n",
    "    "
   ]
  },
  {
   "cell_type": "markdown",
   "metadata": {},
   "source": [
    "## Example Neural Network"
   ]
  },
  {
   "cell_type": "code",
   "execution_count": 585,
   "metadata": {},
   "outputs": [],
   "source": [
    "n_features = 10 \n",
    "n_dense_neurons = 3"
   ]
  },
  {
   "cell_type": "code",
   "execution_count": 586,
   "metadata": {},
   "outputs": [],
   "source": [
    "x = tf.placeholder(tf.float32,(None,n_features))"
   ]
  },
  {
   "cell_type": "code",
   "execution_count": 587,
   "metadata": {},
   "outputs": [],
   "source": [
    "W = tf.Variable(tf.random_normal([n_features,n_dense_neurons]))\n",
    "\n",
    "b = tf.Variable(tf.ones([n_dense_neurons]))"
   ]
  },
  {
   "cell_type": "code",
   "execution_count": 588,
   "metadata": {},
   "outputs": [],
   "source": [
    "xW = tf.matmul(x,W)"
   ]
  },
  {
   "cell_type": "code",
   "execution_count": 589,
   "metadata": {},
   "outputs": [],
   "source": [
    "z = tf.add(xW,b)"
   ]
  },
  {
   "cell_type": "code",
   "execution_count": 590,
   "metadata": {},
   "outputs": [],
   "source": [
    "a = tf.sigmoid(z)"
   ]
  },
  {
   "cell_type": "code",
   "execution_count": 591,
   "metadata": {},
   "outputs": [],
   "source": [
    "init = tf.global_variables_initializer()"
   ]
  },
  {
   "cell_type": "code",
   "execution_count": 592,
   "metadata": {},
   "outputs": [],
   "source": [
    "with tf.Session() as sess:\n",
    "    \n",
    "    sess.run(init)\n",
    "    \n",
    "    layer_out = sess.run(a,feed_dict={x:np.random.random([1,n_features])})"
   ]
  },
  {
   "cell_type": "code",
   "execution_count": 593,
   "metadata": {},
   "outputs": [
    {
     "name": "stdout",
     "output_type": "stream",
     "text": [
      "[[ 0.99633199  0.88839889  0.2417843 ]]\n"
     ]
    }
   ],
   "source": [
    "print (layer_out)"
   ]
  },
  {
   "cell_type": "markdown",
   "metadata": {},
   "source": [
    "## Simple Regression Example"
   ]
  },
  {
   "cell_type": "code",
   "execution_count": 594,
   "metadata": {},
   "outputs": [
    {
     "data": {
      "text/plain": [
       "array([-1.20856056, -0.08034641,  2.82674411,  4.50477294,  3.42312535,\n",
       "        4.88227319,  7.18414126,  6.77068715,  9.4930023 ,  9.96290567])"
      ]
     },
     "execution_count": 594,
     "metadata": {},
     "output_type": "execute_result"
    }
   ],
   "source": [
    "x_data = np.linspace(0,10,10) + np.random.uniform(-1.5,1.5,10)\n",
    "x_data"
   ]
  },
  {
   "cell_type": "code",
   "execution_count": 595,
   "metadata": {},
   "outputs": [
    {
     "data": {
      "text/plain": [
       "array([ 0.5420333 ,  1.17575569,  0.85241231,  2.50514314,  4.67005971,\n",
       "        4.41685654,  6.66701681,  6.69180648,  7.54731409,  9.03483077])"
      ]
     },
     "execution_count": 595,
     "metadata": {},
     "output_type": "execute_result"
    }
   ],
   "source": [
    "y_label = np.linspace(0,10,10) +np.random.uniform(-1.5,1.5,10)\n",
    "y_label"
   ]
  },
  {
   "cell_type": "code",
   "execution_count": 596,
   "metadata": {},
   "outputs": [
    {
     "data": {
      "text/plain": [
       "[<matplotlib.lines.Line2D at 0x11dc98550>]"
      ]
     },
     "execution_count": 596,
     "metadata": {},
     "output_type": "execute_result"
    },
    {
     "data": {
      "image/png": "[encoded data removed]",
      "text/plain": [
       "<matplotlib.figure.Figure at 0x11dc95ef0>"
      ]
     },
     "metadata": {
      "needs_background": "light"
     },
     "output_type": "display_data"
    }
   ],
   "source": [
    "import matplotlib.pyplot as plt\n",
    "%matplotlib inline\n",
    "plt.plot(x_data, y_label, \"*\")"
   ]
  },
  {
   "cell_type": "raw",
   "metadata": {},
   "source": [
    "y = mx + b "
   ]
  },
  {
   "cell_type": "code",
   "execution_count": 597,
   "metadata": {},
   "outputs": [
    {
     "data": {
      "text/plain": [
       "array([ 0.44236813,  0.87758732])"
      ]
     },
     "execution_count": 597,
     "metadata": {},
     "output_type": "execute_result"
    }
   ],
   "source": [
    "np.random.rand(2)"
   ]
  },
  {
   "cell_type": "code",
   "execution_count": 598,
   "metadata": {},
   "outputs": [],
   "source": [
    "m = tf.Variable(0.49)\n",
    "b = tf.Variable(0.97)"
   ]
  },
  {
   "cell_type": "code",
   "execution_count": 599,
   "metadata": {},
   "outputs": [],
   "source": [
    "error = 0 \n",
    "\n",
    "for x,y in zip(x_data,y_label):\n",
    "    \n",
    "    y_hat = m * x + b \n",
    "    \n",
    "    error  += (y - y_hat)**2"
   ]
  },
  {
   "cell_type": "code",
   "execution_count": 600,
   "metadata": {},
   "outputs": [],
   "source": [
    "optimizer = tf.train.GradientDescentOptimizer(learning_rate=0.001)"
   ]
  },
  {
   "cell_type": "code",
   "execution_count": 601,
   "metadata": {},
   "outputs": [],
   "source": [
    "train = optimizer.minimize(error)"
   ]
  },
  {
   "cell_type": "code",
   "execution_count": 602,
   "metadata": {},
   "outputs": [],
   "source": [
    "init = tf.global_variables_initializer()"
   ]
  },
  {
   "cell_type": "code",
   "execution_count": 603,
   "metadata": {},
   "outputs": [],
   "source": [
    "with tf.Session() as sess:\n",
    "    \n",
    "    sess.run(init)\n",
    "    \n",
    "    training_steps = 100\n",
    "    \n",
    "\n",
    "    for i in range(training_steps):\n",
    "        \n",
    "        sess.run(train)\n",
    "        \n",
    "    final_slope, final_intercept = sess.run([m,b])"
   ]
  },
  {
   "cell_type": "code",
   "execution_count": 604,
   "metadata": {},
   "outputs": [
    {
     "data": {
      "text/plain": [
       "[<matplotlib.lines.Line2D at 0x11a3e20b8>]"
      ]
     },
     "execution_count": 604,
     "metadata": {},
     "output_type": "execute_result"
    },
    {
     "data": {
      "image/png": "[encoded data removed]",
      "text/plain": [
       "<matplotlib.figure.Figure at 0x11dcaaa20>"
      ]
     },
     "metadata": {
      "needs_background": "light"
     },
     "output_type": "display_data"
    }
   ],
   "source": [
    "x_test = np.linspace(-1,11,10)\n",
    "\n",
    "# y = mx + b\n",
    "y_pred_plot = final_slope*x_test + final_intercept\n",
    "\n",
    "plt.plot(x_test, y_pred_plot, 'r')\n",
    "plt.plot(x_data,y_label, '*')"
   ]
  },
  {
   "cell_type": "markdown",
   "metadata": {},
   "source": [
    "# Regression "
   ]
  },
  {
   "cell_type": "code",
   "execution_count": 605,
   "metadata": {},
   "outputs": [],
   "source": [
    "import pandas as pd"
   ]
  },
  {
   "cell_type": "code",
   "execution_count": 606,
   "metadata": {},
   "outputs": [],
   "source": [
    "x_data = np.linspace(0.0,10.0,1000000)"
   ]
  },
  {
   "cell_type": "code",
   "execution_count": 607,
   "metadata": {},
   "outputs": [],
   "source": [
    "noise = np.random.randn(len(x_data))"
   ]
  },
  {
   "cell_type": "code",
   "execution_count": 608,
   "metadata": {},
   "outputs": [
    {
     "data": {
      "text/plain": [
       "array([-0.03157914,  0.64982583,  2.15484644, ..., -0.39165848,\n",
       "        0.26840566, -1.24638586])"
      ]
     },
     "execution_count": 608,
     "metadata": {},
     "output_type": "execute_result"
    }
   ],
   "source": [
    "noise"
   ]
  },
  {
   "cell_type": "raw",
   "metadata": {},
   "source": [
    "y = mx + b \n",
    "\n",
    "b = 5"
   ]
  },
  {
   "cell_type": "code",
   "execution_count": 609,
   "metadata": {},
   "outputs": [],
   "source": [
    "y_true = (0.5 *x_data) +5 + noise"
   ]
  },
  {
   "cell_type": "code",
   "execution_count": 610,
   "metadata": {},
   "outputs": [],
   "source": [
    "x_df = pd.DataFrame(data=x_data, columns=['X Data'])\n",
    "\n",
    "y_df = pd.DataFrame(data=y_true, columns=['Y'])\n",
    "\n",
    "my_data = pd.concat([x_df,y_df], axis=1)"
   ]
  },
  {
   "cell_type": "code",
   "execution_count": 611,
   "metadata": {},
   "outputs": [
    {
     "data": {
      "text/html": [
       "<div>\n",
       "<style>\n",
       "    .dataframe thead tr:only-child th {\n",
       "        text-align: right;\n",
       "    }\n",
       "\n",
       "    .dataframe thead th {\n",
       "        text-align: left;\n",
       "    }\n",
       "\n",
       "    .dataframe tbody tr th {\n",
       "        vertical-align: top;\n",
       "    }\n",
       "</style>\n",
       "<table border=\"1\" class=\"dataframe\">\n",
       "  <thead>\n",
       "    <tr style=\"text-align: right;\">\n",
       "      <th></th>\n",
       "      <th>X Data</th>\n",
       "      <th>Y</th>\n",
       "    </tr>\n",
       "  </thead>\n",
       "  <tbody>\n",
       "    <tr>\n",
       "      <th>0</th>\n",
       "      <td>0.00000</td>\n",
       "      <td>4.968421</td>\n",
       "    </tr>\n",
       "    <tr>\n",
       "      <th>1</th>\n",
       "      <td>0.00001</td>\n",
       "      <td>5.649831</td>\n",
       "    </tr>\n",
       "    <tr>\n",
       "      <th>2</th>\n",
       "      <td>0.00002</td>\n",
       "      <td>7.154856</td>\n",
       "    </tr>\n",
       "    <tr>\n",
       "      <th>3</th>\n",
       "      <td>0.00003</td>\n",
       "      <td>4.389756</td>\n",
       "    </tr>\n",
       "    <tr>\n",
       "      <th>4</th>\n",
       "      <td>0.00004</td>\n",
       "      <td>4.244695</td>\n",
       "    </tr>\n",
       "  </tbody>\n",
       "</table>\n",
       "</div>"
      ],
      "text/plain": [
       "    X Data         Y\n",
       "0  0.00000  4.968421\n",
       "1  0.00001  5.649831\n",
       "2  0.00002  7.154856\n",
       "3  0.00003  4.389756\n",
       "4  0.00004  4.244695"
      ]
     },
     "execution_count": 611,
     "metadata": {},
     "output_type": "execute_result"
    }
   ],
   "source": [
    "my_data.head()"
   ]
  },
  {
   "cell_type": "code",
   "execution_count": 612,
   "metadata": {},
   "outputs": [
    {
     "data": {
      "text/plain": [
       "<matplotlib.axes._subplots.AxesSubplot at 0x119f774a8>"
      ]
     },
     "execution_count": 612,
     "metadata": {},
     "output_type": "execute_result"
    },
    {
     "data": {
      "image/png": "[encoded data removed]",
      "text/plain": [
       "<matplotlib.figure.Figure at 0x119f8e588>"
      ]
     },
     "metadata": {
      "needs_background": "light"
     },
     "output_type": "display_data"
    }
   ],
   "source": [
    "my_data.sample(n=250).plot(kind='scatter',x='X Data', y='Y')"
   ]
  },
  {
   "cell_type": "code",
   "execution_count": 613,
   "metadata": {},
   "outputs": [],
   "source": [
    "batch_size = 8"
   ]
  },
  {
   "cell_type": "code",
   "execution_count": 614,
   "metadata": {},
   "outputs": [
    {
     "data": {
      "text/plain": [
       "array([-0.0333475 ,  1.67028503])"
      ]
     },
     "execution_count": 614,
     "metadata": {},
     "output_type": "execute_result"
    }
   ],
   "source": [
    "np.random.randn(2)"
   ]
  },
  {
   "cell_type": "code",
   "execution_count": 615,
   "metadata": {},
   "outputs": [],
   "source": [
    "m = tf.Variable(-0.28)\n",
    "b = tf.Variable(-1.30)"
   ]
  },
  {
   "cell_type": "code",
   "execution_count": 616,
   "metadata": {},
   "outputs": [],
   "source": [
    "xph = tf.placeholder(tf.float32, [batch_size])\n",
    "\n",
    "yph = tf.placeholder(tf.float32, [batch_size])"
   ]
  },
  {
   "cell_type": "code",
   "execution_count": 617,
   "metadata": {},
   "outputs": [],
   "source": [
    "y_model = m*xph + b"
   ]
  },
  {
   "cell_type": "code",
   "execution_count": 618,
   "metadata": {},
   "outputs": [],
   "source": [
    "error = tf.reduce_sum(tf.square(yph-y_model))"
   ]
  },
  {
   "cell_type": "code",
   "execution_count": 619,
   "metadata": {},
   "outputs": [],
   "source": [
    "optimizer = tf.train.GradientDescentOptimizer(learning_rate=0.001)"
   ]
  },
  {
   "cell_type": "code",
   "execution_count": 620,
   "metadata": {},
   "outputs": [],
   "source": [
    "train = optimizer.minimize(error)\n",
    "\n",
    "init = tf.global_variables_initializer()"
   ]
  },
  {
   "cell_type": "code",
   "execution_count": 621,
   "metadata": {},
   "outputs": [],
   "source": [
    "with tf.Session() as sess:\n",
    "    \n",
    "    sess.run(init)\n",
    "    \n",
    "    batches = 1000\n",
    "    \n",
    "    for i in range(batches):\n",
    "        \n",
    "        rand_ind = np.random.randint(len(x_data),size=batch_size)\n",
    "        \n",
    "        feed = {xph:x_data[rand_ind], yph:y_true[rand_ind]}\n",
    "        \n",
    "        sess.run(train,feed_dict=feed)\n",
    "        \n",
    "    model_m, model_b = sess.run([m,b])"
   ]
  },
  {
   "cell_type": "code",
   "execution_count": 622,
   "metadata": {},
   "outputs": [
    {
     "data": {
      "text/plain": [
       "0.54233748"
      ]
     },
     "execution_count": 622,
     "metadata": {},
     "output_type": "execute_result"
    }
   ],
   "source": [
    "model_m"
   ]
  },
  {
   "cell_type": "code",
   "execution_count": 623,
   "metadata": {},
   "outputs": [
    {
     "data": {
      "text/plain": [
       "4.8887401"
      ]
     },
     "execution_count": 623,
     "metadata": {},
     "output_type": "execute_result"
    }
   ],
   "source": [
    "model_b"
   ]
  },
  {
   "cell_type": "code",
   "execution_count": 624,
   "metadata": {},
   "outputs": [],
   "source": [
    "y_hat = x_data*model_m + model_b"
   ]
  },
  {
   "cell_type": "code",
   "execution_count": 625,
   "metadata": {},
   "outputs": [
    {
     "data": {
      "text/plain": [
       "[<matplotlib.lines.Line2D at 0x11cb86438>]"
      ]
     },
     "execution_count": 625,
     "metadata": {},
     "output_type": "execute_result"
    },
    {
     "data": {
      "image/png": "[encoded data removed]",
      "text/plain": [
       "<matplotlib.figure.Figure at 0x11fa5f668>"
      ]
     },
     "metadata": {
      "needs_background": "light"
     },
     "output_type": "display_data"
    }
   ],
   "source": [
    "my_data.sample(250).plot(kind='scatter', x=\"X Data\", y=\"Y\")\n",
    "plt.plot(x_data,y_hat, \"r\")"
   ]
  },
  {
   "cell_type": "markdown",
   "metadata": {},
   "source": [
    "## Estimator API"
   ]
  },
  {
   "cell_type": "raw",
   "metadata": {},
   "source": [
    "higer level APIs, eg. Keras, Layers, etc\n",
    "\n",
    "\n",
    "Estimator types\n",
    "    tf.estimator.LinearClassifier: Constructs a linear classification model\n",
    "    tf.estimator.LinearRegressor: Constructs a linear regression model\n",
    "    tf.estimator.DNNClassifier: Constructs a neural network classification model\n",
    "    tf.estimator.DNNRegressor: Constructs a neural network regression model\n",
    "    \n",
    "    tf.estimator.DNNLinearCombinedClassifier: Construct a neural network and linear combined classification model\n",
    "    tf.estimator.DNNLinearCombinedRegressor: Construct a neural network and linear combined regression model"
   ]
  },
  {
   "cell_type": "raw",
   "metadata": {},
   "source": [
    "Define a list of feature columns \n",
    "\n",
    "Create the estimator model\n",
    "\n",
    "Create a data input function\n",
    "\n",
    "Call train, evaluate, and predict methods on the estimator object"
   ]
  },
  {
   "cell_type": "code",
   "execution_count": 626,
   "metadata": {},
   "outputs": [],
   "source": [
    "feat_cols = [tf.feature_column.numeric_column('x', shape=[1])] \n",
    "#shape is the dimension"
   ]
  },
  {
   "cell_type": "code",
   "execution_count": 627,
   "metadata": {},
   "outputs": [
    {
     "data": {
      "text/plain": [
       "[_NumericColumn(key='x', shape=(1,), default_value=None, dtype=tf.float32, normalizer_fn=None)]"
      ]
     },
     "execution_count": 627,
     "metadata": {},
     "output_type": "execute_result"
    }
   ],
   "source": [
    "feat_cols"
   ]
  },
  {
   "cell_type": "code",
   "execution_count": 628,
   "metadata": {},
   "outputs": [
    {
     "name": "stdout",
     "output_type": "stream",
     "text": [
      "INFO:tensorflow:Using default config.\n",
      "WARNING:tensorflow:Using temporary folder as model directory: /var/folders/s1/h9x0_mhx4tn1dfstx3w6gvhc0000gn/T/tmphi0jq6px\n",
      "INFO:tensorflow:Using config: {'_keep_checkpoint_every_n_hours': 10000, '_save_checkpoints_steps': None, '_model_dir': '/var/folders/s1/h9x0_mhx4tn1dfstx3w6gvhc0000gn/T/tmphi0jq6px', '_keep_checkpoint_max': 5, '_save_checkpoints_secs': 600, '_session_config': None, '_save_summary_steps': 100, '_tf_random_seed': 1, '_log_step_count_steps': 100}\n"
     ]
    }
   ],
   "source": [
    "estimator = tf.estimator.LinearRegressor(feature_columns=feat_cols)"
   ]
  },
  {
   "cell_type": "code",
   "execution_count": 629,
   "metadata": {},
   "outputs": [],
   "source": [
    "from sklearn.model_selection import train_test_split"
   ]
  },
  {
   "cell_type": "code",
   "execution_count": 630,
   "metadata": {},
   "outputs": [],
   "source": [
    "x_train, x_eval, y_train, y_eval = train_test_split(x_data,y_true,test_size=0.3,\n",
    "                                                    random_state=101)"
   ]
  },
  {
   "cell_type": "code",
   "execution_count": 631,
   "metadata": {},
   "outputs": [
    {
     "name": "stdout",
     "output_type": "stream",
     "text": [
      "(700000,)\n"
     ]
    }
   ],
   "source": [
    "print(x_train.shape)"
   ]
  },
  {
   "cell_type": "code",
   "execution_count": 632,
   "metadata": {},
   "outputs": [
    {
     "data": {
      "text/plain": [
       "(300000,)"
      ]
     },
     "execution_count": 632,
     "metadata": {},
     "output_type": "execute_result"
    }
   ],
   "source": [
    "x_eval.shape"
   ]
  },
  {
   "cell_type": "code",
   "execution_count": 633,
   "metadata": {},
   "outputs": [],
   "source": [
    "input_func = tf.estimator.inputs.numpy_input_fn({'x':x_train},y_train,\n",
    "                                                batch_size=8,num_epochs=None,\n",
    "                                                shuffle=True)"
   ]
  },
  {
   "cell_type": "code",
   "execution_count": 634,
   "metadata": {},
   "outputs": [],
   "source": [
    "train_input_func = tf.estimator.inputs.numpy_input_fn({'x':x_train},y_train,\n",
    "                                                batch_size=8,num_epochs=1000,\n",
    "                                                shuffle=False)"
   ]
  },
  {
   "cell_type": "code",
   "execution_count": 635,
   "metadata": {},
   "outputs": [],
   "source": [
    "eval_input_func = tf.estimator.inputs.numpy_input_fn({'x':x_eval},y_eval,\n",
    "                                                batch_size=8,num_epochs=1000,\n",
    "                                                shuffle=False)"
   ]
  },
  {
   "cell_type": "code",
   "execution_count": 636,
   "metadata": {},
   "outputs": [
    {
     "name": "stdout",
     "output_type": "stream",
     "text": [
      "INFO:tensorflow:Create CheckpointSaverHook.\n",
      "INFO:tensorflow:Saving checkpoints for 1 into /var/folders/s1/h9x0_mhx4tn1dfstx3w6gvhc0000gn/T/tmphi0jq6px/model.ckpt.\n",
      "INFO:tensorflow:loss = 383.024, step = 1\n",
      "INFO:tensorflow:global_step/sec: 539.925\n",
      "INFO:tensorflow:loss = 25.2754, step = 101 (0.186 sec)\n",
      "INFO:tensorflow:global_step/sec: 550.998\n",
      "INFO:tensorflow:loss = 11.3385, step = 201 (0.182 sec)\n",
      "INFO:tensorflow:global_step/sec: 500.077\n",
      "INFO:tensorflow:loss = 11.3193, step = 301 (0.199 sec)\n",
      "INFO:tensorflow:global_step/sec: 480.151\n",
      "INFO:tensorflow:loss = 30.4946, step = 401 (0.209 sec)\n",
      "INFO:tensorflow:global_step/sec: 500.446\n",
      "INFO:tensorflow:loss = 11.5055, step = 501 (0.203 sec)\n",
      "INFO:tensorflow:global_step/sec: 670.799\n",
      "INFO:tensorflow:loss = 18.2087, step = 601 (0.147 sec)\n",
      "INFO:tensorflow:global_step/sec: 629.516\n",
      "INFO:tensorflow:loss = 10.9864, step = 701 (0.158 sec)\n",
      "INFO:tensorflow:global_step/sec: 656.504\n",
      "INFO:tensorflow:loss = 11.8492, step = 801 (0.152 sec)\n",
      "INFO:tensorflow:global_step/sec: 589.362\n",
      "INFO:tensorflow:loss = 15.4997, step = 901 (0.170 sec)\n",
      "INFO:tensorflow:Saving checkpoints for 1000 into /var/folders/s1/h9x0_mhx4tn1dfstx3w6gvhc0000gn/T/tmphi0jq6px/model.ckpt.\n",
      "INFO:tensorflow:Loss for final step: 4.80908.\n"
     ]
    },
    {
     "data": {
      "text/plain": [
       "<tensorflow.python.estimator.canned.linear.LinearRegressor at 0x1214a25c0>"
      ]
     },
     "execution_count": 636,
     "metadata": {},
     "output_type": "execute_result"
    }
   ],
   "source": [
    "estimator.train(input_fn=input_func,steps=1000)"
   ]
  },
  {
   "cell_type": "code",
   "execution_count": 637,
   "metadata": {},
   "outputs": [
    {
     "name": "stdout",
     "output_type": "stream",
     "text": [
      "INFO:tensorflow:Starting evaluation at 2019-06-20-16:44:56\n",
      "INFO:tensorflow:Restoring parameters from /var/folders/s1/h9x0_mhx4tn1dfstx3w6gvhc0000gn/T/tmphi0jq6px/model.ckpt-1000\n",
      "INFO:tensorflow:Evaluation [1/1000]\n",
      "INFO:tensorflow:Evaluation [2/1000]\n",
      "INFO:tensorflow:Evaluation [3/1000]\n",
      "INFO:tensorflow:Evaluation [4/1000]\n",
      "INFO:tensorflow:Evaluation [5/1000]\n",
      "INFO:tensorflow:Evaluation [6/1000]\n",
      "INFO:tensorflow:Evaluation [7/1000]\n",
      "INFO:tensorflow:Evaluation [8/1000]\n",
      "INFO:tensorflow:Evaluation [9/1000]\n",
      "INFO:tensorflow:Evaluation [10/1000]\n",
      "INFO:tensorflow:Evaluation [11/1000]\n",
      "INFO:tensorflow:Evaluation [12/1000]\n",
      "INFO:tensorflow:Evaluation [13/1000]\n",
      "INFO:tensorflow:Evaluation [14/1000]\n",
      "INFO:tensorflow:Evaluation [15/1000]\n",
      "INFO:tensorflow:Evaluation [16/1000]\n",
      "INFO:tensorflow:Evaluation [17/1000]\n",
      "INFO:tensorflow:Evaluation [18/1000]\n",
      "INFO:tensorflow:Evaluation [19/1000]\n",
      "INFO:tensorflow:Evaluation [20/1000]\n",
      "INFO:tensorflow:Evaluation [21/1000]\n",
      "INFO:tensorflow:Evaluation [22/1000]\n",
      "INFO:tensorflow:Evaluation [23/1000]\n",
      "INFO:tensorflow:Evaluation [24/1000]\n",
      "INFO:tensorflow:Evaluation [25/1000]\n",
      "INFO:tensorflow:Evaluation [26/1000]\n",
      "INFO:tensorflow:Evaluation [27/1000]\n",
      "INFO:tensorflow:Evaluation [28/1000]\n",
      "INFO:tensorflow:Evaluation [29/1000]\n",
      "INFO:tensorflow:Evaluation [30/1000]\n",
      "INFO:tensorflow:Evaluation [31/1000]\n",
      "INFO:tensorflow:Evaluation [32/1000]\n",
      "INFO:tensorflow:Evaluation [33/1000]\n",
      "INFO:tensorflow:Evaluation [34/1000]\n",
      "INFO:tensorflow:Evaluation [35/1000]\n",
      "INFO:tensorflow:Evaluation [36/1000]\n",
      "INFO:tensorflow:Evaluation [37/1000]\n",
      "INFO:tensorflow:Evaluation [38/1000]\n",
      "INFO:tensorflow:Evaluation [39/1000]\n",
      "INFO:tensorflow:Evaluation [40/1000]\n",
      "INFO:tensorflow:Evaluation [41/1000]\n",
      "INFO:tensorflow:Evaluation [42/1000]\n",
      "INFO:tensorflow:Evaluation [43/1000]\n",
      "INFO:tensorflow:Evaluation [44/1000]\n",
      "INFO:tensorflow:Evaluation [45/1000]\n",
      "INFO:tensorflow:Evaluation [46/1000]\n",
      "INFO:tensorflow:Evaluation [47/1000]\n",
      "INFO:tensorflow:Evaluation [48/1000]\n",
      "INFO:tensorflow:Evaluation [49/1000]\n",
      "INFO:tensorflow:Evaluation [50/1000]\n",
      "INFO:tensorflow:Evaluation [51/1000]\n",
      "INFO:tensorflow:Evaluation [52/1000]\n",
      "INFO:tensorflow:Evaluation [53/1000]\n",
      "INFO:tensorflow:Evaluation [54/1000]\n",
      "INFO:tensorflow:Evaluation [55/1000]\n",
      "INFO:tensorflow:Evaluation [56/1000]\n",
      "INFO:tensorflow:Evaluation [57/1000]\n",
      "INFO:tensorflow:Evaluation [58/1000]\n",
      "INFO:tensorflow:Evaluation [59/1000]\n",
      "INFO:tensorflow:Evaluation [60/1000]\n",
      "INFO:tensorflow:Evaluation [61/1000]\n",
      "INFO:tensorflow:Evaluation [62/1000]\n",
      "INFO:tensorflow:Evaluation [63/1000]\n",
      "INFO:tensorflow:Evaluation [64/1000]\n",
      "INFO:tensorflow:Evaluation [65/1000]\n",
      "INFO:tensorflow:Evaluation [66/1000]\n",
      "INFO:tensorflow:Evaluation [67/1000]\n",
      "INFO:tensorflow:Evaluation [68/1000]\n",
      "INFO:tensorflow:Evaluation [69/1000]\n",
      "INFO:tensorflow:Evaluation [70/1000]\n",
      "INFO:tensorflow:Evaluation [71/1000]\n",
      "INFO:tensorflow:Evaluation [72/1000]\n",
      "INFO:tensorflow:Evaluation [73/1000]\n",
      "INFO:tensorflow:Evaluation [74/1000]\n",
      "INFO:tensorflow:Evaluation [75/1000]\n",
      "INFO:tensorflow:Evaluation [76/1000]\n",
      "INFO:tensorflow:Evaluation [77/1000]\n",
      "INFO:tensorflow:Evaluation [78/1000]\n",
      "INFO:tensorflow:Evaluation [79/1000]\n",
      "INFO:tensorflow:Evaluation [80/1000]\n",
      "INFO:tensorflow:Evaluation [81/1000]\n",
      "INFO:tensorflow:Evaluation [82/1000]\n",
      "INFO:tensorflow:Evaluation [83/1000]\n",
      "INFO:tensorflow:Evaluation [84/1000]\n",
      "INFO:tensorflow:Evaluation [85/1000]\n",
      "INFO:tensorflow:Evaluation [86/1000]\n",
      "INFO:tensorflow:Evaluation [87/1000]\n",
      "INFO:tensorflow:Evaluation [88/1000]\n",
      "INFO:tensorflow:Evaluation [89/1000]\n",
      "INFO:tensorflow:Evaluation [90/1000]\n",
      "INFO:tensorflow:Evaluation [91/1000]\n",
      "INFO:tensorflow:Evaluation [92/1000]\n",
      "INFO:tensorflow:Evaluation [93/1000]\n",
      "INFO:tensorflow:Evaluation [94/1000]\n",
      "INFO:tensorflow:Evaluation [95/1000]\n",
      "INFO:tensorflow:Evaluation [96/1000]\n",
      "INFO:tensorflow:Evaluation [97/1000]\n",
      "INFO:tensorflow:Evaluation [98/1000]\n",
      "INFO:tensorflow:Evaluation [99/1000]\n",
      "INFO:tensorflow:Evaluation [100/1000]\n",
      "INFO:tensorflow:Evaluation [101/1000]\n",
      "INFO:tensorflow:Evaluation [102/1000]\n",
      "INFO:tensorflow:Evaluation [103/1000]\n",
      "INFO:tensorflow:Evaluation [104/1000]\n",
      "INFO:tensorflow:Evaluation [105/1000]\n",
      "INFO:tensorflow:Evaluation [106/1000]\n",
      "INFO:tensorflow:Evaluation [107/1000]\n",
      "INFO:tensorflow:Evaluation [108/1000]\n",
      "INFO:tensorflow:Evaluation [109/1000]\n",
      "INFO:tensorflow:Evaluation [110/1000]\n",
      "INFO:tensorflow:Evaluation [111/1000]\n",
      "INFO:tensorflow:Evaluation [112/1000]\n",
      "INFO:tensorflow:Evaluation [113/1000]\n",
      "INFO:tensorflow:Evaluation [114/1000]\n",
      "INFO:tensorflow:Evaluation [115/1000]\n",
      "INFO:tensorflow:Evaluation [116/1000]\n",
      "INFO:tensorflow:Evaluation [117/1000]\n",
      "INFO:tensorflow:Evaluation [118/1000]\n",
      "INFO:tensorflow:Evaluation [119/1000]\n",
      "INFO:tensorflow:Evaluation [120/1000]\n",
      "INFO:tensorflow:Evaluation [121/1000]\n",
      "INFO:tensorflow:Evaluation [122/1000]\n",
      "INFO:tensorflow:Evaluation [123/1000]\n",
      "INFO:tensorflow:Evaluation [124/1000]\n",
      "INFO:tensorflow:Evaluation [125/1000]\n",
      "INFO:tensorflow:Evaluation [126/1000]\n",
      "INFO:tensorflow:Evaluation [127/1000]\n",
      "INFO:tensorflow:Evaluation [128/1000]\n",
      "INFO:tensorflow:Evaluation [129/1000]\n",
      "INFO:tensorflow:Evaluation [130/1000]\n",
      "INFO:tensorflow:Evaluation [131/1000]\n",
      "INFO:tensorflow:Evaluation [132/1000]\n",
      "INFO:tensorflow:Evaluation [133/1000]\n",
      "INFO:tensorflow:Evaluation [134/1000]\n",
      "INFO:tensorflow:Evaluation [135/1000]\n",
      "INFO:tensorflow:Evaluation [136/1000]\n",
      "INFO:tensorflow:Evaluation [137/1000]\n",
      "INFO:tensorflow:Evaluation [138/1000]\n",
      "INFO:tensorflow:Evaluation [139/1000]\n",
      "INFO:tensorflow:Evaluation [140/1000]\n",
      "INFO:tensorflow:Evaluation [141/1000]\n",
      "INFO:tensorflow:Evaluation [142/1000]\n",
      "INFO:tensorflow:Evaluation [143/1000]\n",
      "INFO:tensorflow:Evaluation [144/1000]\n",
      "INFO:tensorflow:Evaluation [145/1000]\n",
      "INFO:tensorflow:Evaluation [146/1000]\n",
      "INFO:tensorflow:Evaluation [147/1000]\n",
      "INFO:tensorflow:Evaluation [148/1000]\n",
      "INFO:tensorflow:Evaluation [149/1000]\n",
      "INFO:tensorflow:Evaluation [150/1000]\n",
      "INFO:tensorflow:Evaluation [151/1000]\n",
      "INFO:tensorflow:Evaluation [152/1000]\n",
      "INFO:tensorflow:Evaluation [153/1000]\n",
      "INFO:tensorflow:Evaluation [154/1000]\n",
      "INFO:tensorflow:Evaluation [155/1000]\n",
      "INFO:tensorflow:Evaluation [156/1000]\n",
      "INFO:tensorflow:Evaluation [157/1000]\n",
      "INFO:tensorflow:Evaluation [158/1000]\n",
      "INFO:tensorflow:Evaluation [159/1000]\n",
      "INFO:tensorflow:Evaluation [160/1000]\n",
      "INFO:tensorflow:Evaluation [161/1000]\n",
      "INFO:tensorflow:Evaluation [162/1000]\n",
      "INFO:tensorflow:Evaluation [163/1000]\n",
      "INFO:tensorflow:Evaluation [164/1000]\n",
      "INFO:tensorflow:Evaluation [165/1000]\n",
      "INFO:tensorflow:Evaluation [166/1000]\n",
      "INFO:tensorflow:Evaluation [167/1000]\n",
      "INFO:tensorflow:Evaluation [168/1000]\n",
      "INFO:tensorflow:Evaluation [169/1000]\n",
      "INFO:tensorflow:Evaluation [170/1000]\n",
      "INFO:tensorflow:Evaluation [171/1000]\n",
      "INFO:tensorflow:Evaluation [172/1000]\n",
      "INFO:tensorflow:Evaluation [173/1000]\n",
      "INFO:tensorflow:Evaluation [174/1000]\n",
      "INFO:tensorflow:Evaluation [175/1000]\n",
      "INFO:tensorflow:Evaluation [176/1000]\n",
      "INFO:tensorflow:Evaluation [177/1000]\n",
      "INFO:tensorflow:Evaluation [178/1000]\n",
      "INFO:tensorflow:Evaluation [179/1000]\n",
      "INFO:tensorflow:Evaluation [180/1000]\n",
      "INFO:tensorflow:Evaluation [181/1000]\n",
      "INFO:tensorflow:Evaluation [182/1000]\n",
      "INFO:tensorflow:Evaluation [183/1000]\n",
      "INFO:tensorflow:Evaluation [184/1000]\n",
      "INFO:tensorflow:Evaluation [185/1000]\n",
      "INFO:tensorflow:Evaluation [186/1000]\n",
      "INFO:tensorflow:Evaluation [187/1000]\n",
      "INFO:tensorflow:Evaluation [188/1000]\n",
      "INFO:tensorflow:Evaluation [189/1000]\n",
      "INFO:tensorflow:Evaluation [190/1000]\n",
      "INFO:tensorflow:Evaluation [191/1000]\n",
      "INFO:tensorflow:Evaluation [192/1000]\n",
      "INFO:tensorflow:Evaluation [193/1000]\n",
      "INFO:tensorflow:Evaluation [194/1000]\n",
      "INFO:tensorflow:Evaluation [195/1000]\n",
      "INFO:tensorflow:Evaluation [196/1000]\n",
      "INFO:tensorflow:Evaluation [197/1000]\n",
      "INFO:tensorflow:Evaluation [198/1000]\n",
      "INFO:tensorflow:Evaluation [199/1000]\n",
      "INFO:tensorflow:Evaluation [200/1000]\n",
      "INFO:tensorflow:Evaluation [201/1000]\n",
      "INFO:tensorflow:Evaluation [202/1000]\n",
      "INFO:tensorflow:Evaluation [203/1000]\n",
      "INFO:tensorflow:Evaluation [204/1000]\n",
      "INFO:tensorflow:Evaluation [205/1000]\n",
      "INFO:tensorflow:Evaluation [206/1000]\n",
      "INFO:tensorflow:Evaluation [207/1000]\n",
      "INFO:tensorflow:Evaluation [208/1000]\n",
      "INFO:tensorflow:Evaluation [209/1000]\n",
      "INFO:tensorflow:Evaluation [210/1000]\n",
      "INFO:tensorflow:Evaluation [211/1000]\n",
      "INFO:tensorflow:Evaluation [212/1000]\n",
      "INFO:tensorflow:Evaluation [213/1000]\n",
      "INFO:tensorflow:Evaluation [214/1000]\n",
      "INFO:tensorflow:Evaluation [215/1000]\n",
      "INFO:tensorflow:Evaluation [216/1000]\n",
      "INFO:tensorflow:Evaluation [217/1000]\n",
      "INFO:tensorflow:Evaluation [218/1000]\n",
      "INFO:tensorflow:Evaluation [219/1000]\n",
      "INFO:tensorflow:Evaluation [220/1000]\n",
      "INFO:tensorflow:Evaluation [221/1000]\n",
      "INFO:tensorflow:Evaluation [222/1000]\n",
      "INFO:tensorflow:Evaluation [223/1000]\n",
      "INFO:tensorflow:Evaluation [224/1000]\n",
      "INFO:tensorflow:Evaluation [225/1000]\n",
      "INFO:tensorflow:Evaluation [226/1000]\n",
      "INFO:tensorflow:Evaluation [227/1000]\n",
      "INFO:tensorflow:Evaluation [228/1000]\n",
      "INFO:tensorflow:Evaluation [229/1000]\n",
      "INFO:tensorflow:Evaluation [230/1000]\n",
      "INFO:tensorflow:Evaluation [231/1000]\n",
      "INFO:tensorflow:Evaluation [232/1000]\n",
      "INFO:tensorflow:Evaluation [233/1000]\n",
      "INFO:tensorflow:Evaluation [234/1000]\n",
      "INFO:tensorflow:Evaluation [235/1000]\n",
      "INFO:tensorflow:Evaluation [236/1000]\n",
      "INFO:tensorflow:Evaluation [237/1000]\n",
      "INFO:tensorflow:Evaluation [238/1000]\n",
      "INFO:tensorflow:Evaluation [239/1000]\n",
      "INFO:tensorflow:Evaluation [240/1000]\n",
      "INFO:tensorflow:Evaluation [241/1000]\n",
      "INFO:tensorflow:Evaluation [242/1000]\n",
      "INFO:tensorflow:Evaluation [243/1000]\n",
      "INFO:tensorflow:Evaluation [244/1000]\n",
      "INFO:tensorflow:Evaluation [245/1000]\n",
      "INFO:tensorflow:Evaluation [246/1000]\n",
      "INFO:tensorflow:Evaluation [247/1000]\n",
      "INFO:tensorflow:Evaluation [248/1000]\n",
      "INFO:tensorflow:Evaluation [249/1000]\n",
      "INFO:tensorflow:Evaluation [250/1000]\n",
      "INFO:tensorflow:Evaluation [251/1000]\n",
      "INFO:tensorflow:Evaluation [252/1000]\n",
      "INFO:tensorflow:Evaluation [253/1000]\n",
      "INFO:tensorflow:Evaluation [254/1000]\n",
      "INFO:tensorflow:Evaluation [255/1000]\n",
      "INFO:tensorflow:Evaluation [256/1000]\n",
      "INFO:tensorflow:Evaluation [257/1000]\n",
      "INFO:tensorflow:Evaluation [258/1000]\n",
      "INFO:tensorflow:Evaluation [259/1000]\n",
      "INFO:tensorflow:Evaluation [260/1000]\n",
      "INFO:tensorflow:Evaluation [261/1000]\n",
      "INFO:tensorflow:Evaluation [262/1000]\n",
      "INFO:tensorflow:Evaluation [263/1000]\n",
      "INFO:tensorflow:Evaluation [264/1000]\n",
      "INFO:tensorflow:Evaluation [265/1000]\n",
      "INFO:tensorflow:Evaluation [266/1000]\n",
      "INFO:tensorflow:Evaluation [267/1000]\n",
      "INFO:tensorflow:Evaluation [268/1000]\n",
      "INFO:tensorflow:Evaluation [269/1000]\n",
      "INFO:tensorflow:Evaluation [270/1000]\n",
      "INFO:tensorflow:Evaluation [271/1000]\n",
      "INFO:tensorflow:Evaluation [272/1000]\n",
      "INFO:tensorflow:Evaluation [273/1000]\n",
      "INFO:tensorflow:Evaluation [274/1000]\n",
      "INFO:tensorflow:Evaluation [275/1000]\n",
      "INFO:tensorflow:Evaluation [276/1000]\n",
      "INFO:tensorflow:Evaluation [277/1000]\n",
      "INFO:tensorflow:Evaluation [278/1000]\n",
      "INFO:tensorflow:Evaluation [279/1000]\n",
      "INFO:tensorflow:Evaluation [280/1000]\n",
      "INFO:tensorflow:Evaluation [281/1000]\n",
      "INFO:tensorflow:Evaluation [282/1000]\n",
      "INFO:tensorflow:Evaluation [283/1000]\n",
      "INFO:tensorflow:Evaluation [284/1000]\n",
      "INFO:tensorflow:Evaluation [285/1000]\n",
      "INFO:tensorflow:Evaluation [286/1000]\n",
      "INFO:tensorflow:Evaluation [287/1000]\n",
      "INFO:tensorflow:Evaluation [288/1000]\n",
      "INFO:tensorflow:Evaluation [289/1000]\n",
      "INFO:tensorflow:Evaluation [290/1000]\n",
      "INFO:tensorflow:Evaluation [291/1000]\n",
      "INFO:tensorflow:Evaluation [292/1000]\n",
      "INFO:tensorflow:Evaluation [293/1000]\n",
      "INFO:tensorflow:Evaluation [294/1000]\n",
      "INFO:tensorflow:Evaluation [295/1000]\n",
      "INFO:tensorflow:Evaluation [296/1000]\n",
      "INFO:tensorflow:Evaluation [297/1000]\n",
      "INFO:tensorflow:Evaluation [298/1000]\n",
      "INFO:tensorflow:Evaluation [299/1000]\n",
      "INFO:tensorflow:Evaluation [300/1000]\n",
      "INFO:tensorflow:Evaluation [301/1000]\n",
      "INFO:tensorflow:Evaluation [302/1000]\n",
      "INFO:tensorflow:Evaluation [303/1000]\n",
      "INFO:tensorflow:Evaluation [304/1000]\n",
      "INFO:tensorflow:Evaluation [305/1000]\n",
      "INFO:tensorflow:Evaluation [306/1000]\n",
      "INFO:tensorflow:Evaluation [307/1000]\n",
      "INFO:tensorflow:Evaluation [308/1000]\n",
      "INFO:tensorflow:Evaluation [309/1000]\n",
      "INFO:tensorflow:Evaluation [310/1000]\n",
      "INFO:tensorflow:Evaluation [311/1000]\n",
      "INFO:tensorflow:Evaluation [312/1000]\n",
      "INFO:tensorflow:Evaluation [313/1000]\n",
      "INFO:tensorflow:Evaluation [314/1000]\n",
      "INFO:tensorflow:Evaluation [315/1000]\n",
      "INFO:tensorflow:Evaluation [316/1000]\n",
      "INFO:tensorflow:Evaluation [317/1000]\n",
      "INFO:tensorflow:Evaluation [318/1000]\n",
      "INFO:tensorflow:Evaluation [319/1000]\n",
      "INFO:tensorflow:Evaluation [320/1000]\n",
      "INFO:tensorflow:Evaluation [321/1000]\n",
      "INFO:tensorflow:Evaluation [322/1000]\n",
      "INFO:tensorflow:Evaluation [323/1000]\n",
      "INFO:tensorflow:Evaluation [324/1000]\n",
      "INFO:tensorflow:Evaluation [325/1000]\n",
      "INFO:tensorflow:Evaluation [326/1000]\n",
      "INFO:tensorflow:Evaluation [327/1000]\n",
      "INFO:tensorflow:Evaluation [328/1000]\n",
      "INFO:tensorflow:Evaluation [329/1000]\n",
      "INFO:tensorflow:Evaluation [330/1000]\n",
      "INFO:tensorflow:Evaluation [331/1000]\n",
      "INFO:tensorflow:Evaluation [332/1000]\n",
      "INFO:tensorflow:Evaluation [333/1000]\n",
      "INFO:tensorflow:Evaluation [334/1000]\n",
      "INFO:tensorflow:Evaluation [335/1000]\n",
      "INFO:tensorflow:Evaluation [336/1000]\n",
      "INFO:tensorflow:Evaluation [337/1000]\n",
      "INFO:tensorflow:Evaluation [338/1000]\n",
      "INFO:tensorflow:Evaluation [339/1000]\n",
      "INFO:tensorflow:Evaluation [340/1000]\n",
      "INFO:tensorflow:Evaluation [341/1000]\n",
      "INFO:tensorflow:Evaluation [342/1000]\n",
      "INFO:tensorflow:Evaluation [343/1000]\n",
      "INFO:tensorflow:Evaluation [344/1000]\n",
      "INFO:tensorflow:Evaluation [345/1000]\n",
      "INFO:tensorflow:Evaluation [346/1000]\n",
      "INFO:tensorflow:Evaluation [347/1000]\n",
      "INFO:tensorflow:Evaluation [348/1000]\n",
      "INFO:tensorflow:Evaluation [349/1000]\n",
      "INFO:tensorflow:Evaluation [350/1000]\n",
      "INFO:tensorflow:Evaluation [351/1000]\n",
      "INFO:tensorflow:Evaluation [352/1000]\n",
      "INFO:tensorflow:Evaluation [353/1000]\n",
      "INFO:tensorflow:Evaluation [354/1000]\n",
      "INFO:tensorflow:Evaluation [355/1000]\n",
      "INFO:tensorflow:Evaluation [356/1000]\n",
      "INFO:tensorflow:Evaluation [357/1000]\n",
      "INFO:tensorflow:Evaluation [358/1000]\n",
      "INFO:tensorflow:Evaluation [359/1000]\n",
      "INFO:tensorflow:Evaluation [360/1000]\n",
      "INFO:tensorflow:Evaluation [361/1000]\n",
      "INFO:tensorflow:Evaluation [362/1000]\n",
      "INFO:tensorflow:Evaluation [363/1000]\n",
      "INFO:tensorflow:Evaluation [364/1000]\n",
      "INFO:tensorflow:Evaluation [365/1000]\n",
      "INFO:tensorflow:Evaluation [366/1000]\n",
      "INFO:tensorflow:Evaluation [367/1000]\n",
      "INFO:tensorflow:Evaluation [368/1000]\n",
      "INFO:tensorflow:Evaluation [369/1000]\n",
      "INFO:tensorflow:Evaluation [370/1000]\n",
      "INFO:tensorflow:Evaluation [371/1000]\n",
      "INFO:tensorflow:Evaluation [372/1000]\n",
      "INFO:tensorflow:Evaluation [373/1000]\n",
      "INFO:tensorflow:Evaluation [374/1000]\n",
      "INFO:tensorflow:Evaluation [375/1000]\n",
      "INFO:tensorflow:Evaluation [376/1000]\n",
      "INFO:tensorflow:Evaluation [377/1000]\n",
      "INFO:tensorflow:Evaluation [378/1000]\n",
      "INFO:tensorflow:Evaluation [379/1000]\n",
      "INFO:tensorflow:Evaluation [380/1000]\n",
      "INFO:tensorflow:Evaluation [381/1000]\n",
      "INFO:tensorflow:Evaluation [382/1000]\n",
      "INFO:tensorflow:Evaluation [383/1000]\n",
      "INFO:tensorflow:Evaluation [384/1000]\n",
      "INFO:tensorflow:Evaluation [385/1000]\n",
      "INFO:tensorflow:Evaluation [386/1000]\n",
      "INFO:tensorflow:Evaluation [387/1000]\n",
      "INFO:tensorflow:Evaluation [388/1000]\n",
      "INFO:tensorflow:Evaluation [389/1000]\n",
      "INFO:tensorflow:Evaluation [390/1000]\n",
      "INFO:tensorflow:Evaluation [391/1000]\n",
      "INFO:tensorflow:Evaluation [392/1000]\n",
      "INFO:tensorflow:Evaluation [393/1000]\n",
      "INFO:tensorflow:Evaluation [394/1000]\n",
      "INFO:tensorflow:Evaluation [395/1000]\n",
      "INFO:tensorflow:Evaluation [396/1000]\n",
      "INFO:tensorflow:Evaluation [397/1000]\n",
      "INFO:tensorflow:Evaluation [398/1000]\n",
      "INFO:tensorflow:Evaluation [399/1000]\n",
      "INFO:tensorflow:Evaluation [400/1000]\n",
      "INFO:tensorflow:Evaluation [401/1000]\n",
      "INFO:tensorflow:Evaluation [402/1000]\n",
      "INFO:tensorflow:Evaluation [403/1000]\n",
      "INFO:tensorflow:Evaluation [404/1000]\n",
      "INFO:tensorflow:Evaluation [405/1000]\n",
      "INFO:tensorflow:Evaluation [406/1000]\n",
      "INFO:tensorflow:Evaluation [407/1000]\n",
      "INFO:tensorflow:Evaluation [408/1000]\n",
      "INFO:tensorflow:Evaluation [409/1000]\n",
      "INFO:tensorflow:Evaluation [410/1000]\n",
      "INFO:tensorflow:Evaluation [411/1000]\n",
      "INFO:tensorflow:Evaluation [412/1000]\n",
      "INFO:tensorflow:Evaluation [413/1000]\n",
      "INFO:tensorflow:Evaluation [414/1000]\n",
      "INFO:tensorflow:Evaluation [415/1000]\n",
      "INFO:tensorflow:Evaluation [416/1000]\n",
      "INFO:tensorflow:Evaluation [417/1000]\n",
      "INFO:tensorflow:Evaluation [418/1000]\n",
      "INFO:tensorflow:Evaluation [419/1000]\n",
      "INFO:tensorflow:Evaluation [420/1000]\n",
      "INFO:tensorflow:Evaluation [421/1000]\n",
      "INFO:tensorflow:Evaluation [422/1000]\n",
      "INFO:tensorflow:Evaluation [423/1000]\n",
      "INFO:tensorflow:Evaluation [424/1000]\n",
      "INFO:tensorflow:Evaluation [425/1000]\n",
      "INFO:tensorflow:Evaluation [426/1000]\n",
      "INFO:tensorflow:Evaluation [427/1000]\n",
      "INFO:tensorflow:Evaluation [428/1000]\n",
      "INFO:tensorflow:Evaluation [429/1000]\n",
      "INFO:tensorflow:Evaluation [430/1000]\n",
      "INFO:tensorflow:Evaluation [431/1000]\n",
      "INFO:tensorflow:Evaluation [432/1000]\n",
      "INFO:tensorflow:Evaluation [433/1000]\n",
      "INFO:tensorflow:Evaluation [434/1000]\n",
      "INFO:tensorflow:Evaluation [435/1000]\n",
      "INFO:tensorflow:Evaluation [436/1000]\n",
      "INFO:tensorflow:Evaluation [437/1000]\n",
      "INFO:tensorflow:Evaluation [438/1000]\n",
      "INFO:tensorflow:Evaluation [439/1000]\n",
      "INFO:tensorflow:Evaluation [440/1000]\n",
      "INFO:tensorflow:Evaluation [441/1000]\n",
      "INFO:tensorflow:Evaluation [442/1000]\n",
      "INFO:tensorflow:Evaluation [443/1000]\n",
      "INFO:tensorflow:Evaluation [444/1000]\n",
      "INFO:tensorflow:Evaluation [445/1000]\n",
      "INFO:tensorflow:Evaluation [446/1000]\n",
      "INFO:tensorflow:Evaluation [447/1000]\n",
      "INFO:tensorflow:Evaluation [448/1000]\n",
      "INFO:tensorflow:Evaluation [449/1000]\n",
      "INFO:tensorflow:Evaluation [450/1000]\n",
      "INFO:tensorflow:Evaluation [451/1000]\n",
      "INFO:tensorflow:Evaluation [452/1000]\n",
      "INFO:tensorflow:Evaluation [453/1000]\n",
      "INFO:tensorflow:Evaluation [454/1000]\n",
      "INFO:tensorflow:Evaluation [455/1000]\n",
      "INFO:tensorflow:Evaluation [456/1000]\n",
      "INFO:tensorflow:Evaluation [457/1000]\n",
      "INFO:tensorflow:Evaluation [458/1000]\n",
      "INFO:tensorflow:Evaluation [459/1000]\n",
      "INFO:tensorflow:Evaluation [460/1000]\n",
      "INFO:tensorflow:Evaluation [461/1000]\n",
      "INFO:tensorflow:Evaluation [462/1000]\n",
      "INFO:tensorflow:Evaluation [463/1000]\n",
      "INFO:tensorflow:Evaluation [464/1000]\n",
      "INFO:tensorflow:Evaluation [465/1000]\n",
      "INFO:tensorflow:Evaluation [466/1000]\n",
      "INFO:tensorflow:Evaluation [467/1000]\n",
      "INFO:tensorflow:Evaluation [468/1000]\n",
      "INFO:tensorflow:Evaluation [469/1000]\n",
      "INFO:tensorflow:Evaluation [470/1000]\n",
      "INFO:tensorflow:Evaluation [471/1000]\n",
      "INFO:tensorflow:Evaluation [472/1000]\n",
      "INFO:tensorflow:Evaluation [473/1000]\n",
      "INFO:tensorflow:Evaluation [474/1000]\n",
      "INFO:tensorflow:Evaluation [475/1000]\n",
      "INFO:tensorflow:Evaluation [476/1000]\n",
      "INFO:tensorflow:Evaluation [477/1000]\n",
      "INFO:tensorflow:Evaluation [478/1000]\n",
      "INFO:tensorflow:Evaluation [479/1000]\n",
      "INFO:tensorflow:Evaluation [480/1000]\n",
      "INFO:tensorflow:Evaluation [481/1000]\n",
      "INFO:tensorflow:Evaluation [482/1000]\n",
      "INFO:tensorflow:Evaluation [483/1000]\n",
      "INFO:tensorflow:Evaluation [484/1000]\n",
      "INFO:tensorflow:Evaluation [485/1000]\n",
      "INFO:tensorflow:Evaluation [486/1000]\n",
      "INFO:tensorflow:Evaluation [487/1000]\n",
      "INFO:tensorflow:Evaluation [488/1000]\n",
      "INFO:tensorflow:Evaluation [489/1000]\n",
      "INFO:tensorflow:Evaluation [490/1000]\n",
      "INFO:tensorflow:Evaluation [491/1000]\n",
      "INFO:tensorflow:Evaluation [492/1000]\n",
      "INFO:tensorflow:Evaluation [493/1000]\n",
      "INFO:tensorflow:Evaluation [494/1000]\n",
      "INFO:tensorflow:Evaluation [495/1000]\n",
      "INFO:tensorflow:Evaluation [496/1000]\n",
      "INFO:tensorflow:Evaluation [497/1000]\n",
      "INFO:tensorflow:Evaluation [498/1000]\n",
      "INFO:tensorflow:Evaluation [499/1000]\n",
      "INFO:tensorflow:Evaluation [500/1000]\n",
      "INFO:tensorflow:Evaluation [501/1000]\n",
      "INFO:tensorflow:Evaluation [502/1000]\n",
      "INFO:tensorflow:Evaluation [503/1000]\n",
      "INFO:tensorflow:Evaluation [504/1000]\n",
      "INFO:tensorflow:Evaluation [505/1000]\n",
      "INFO:tensorflow:Evaluation [506/1000]\n",
      "INFO:tensorflow:Evaluation [507/1000]\n",
      "INFO:tensorflow:Evaluation [508/1000]\n",
      "INFO:tensorflow:Evaluation [509/1000]\n",
      "INFO:tensorflow:Evaluation [510/1000]\n",
      "INFO:tensorflow:Evaluation [511/1000]\n",
      "INFO:tensorflow:Evaluation [512/1000]\n",
      "INFO:tensorflow:Evaluation [513/1000]\n",
      "INFO:tensorflow:Evaluation [514/1000]\n",
      "INFO:tensorflow:Evaluation [515/1000]\n",
      "INFO:tensorflow:Evaluation [516/1000]\n",
      "INFO:tensorflow:Evaluation [517/1000]\n",
      "INFO:tensorflow:Evaluation [518/1000]\n",
      "INFO:tensorflow:Evaluation [519/1000]\n",
      "INFO:tensorflow:Evaluation [520/1000]\n",
      "INFO:tensorflow:Evaluation [521/1000]\n",
      "INFO:tensorflow:Evaluation [522/1000]\n",
      "INFO:tensorflow:Evaluation [523/1000]\n",
      "INFO:tensorflow:Evaluation [524/1000]\n",
      "INFO:tensorflow:Evaluation [525/1000]\n",
      "INFO:tensorflow:Evaluation [526/1000]\n",
      "INFO:tensorflow:Evaluation [527/1000]\n",
      "INFO:tensorflow:Evaluation [528/1000]\n",
      "INFO:tensorflow:Evaluation [529/1000]\n",
      "INFO:tensorflow:Evaluation [530/1000]\n",
      "INFO:tensorflow:Evaluation [531/1000]\n",
      "INFO:tensorflow:Evaluation [532/1000]\n",
      "INFO:tensorflow:Evaluation [533/1000]\n",
      "INFO:tensorflow:Evaluation [534/1000]\n",
      "INFO:tensorflow:Evaluation [535/1000]\n",
      "INFO:tensorflow:Evaluation [536/1000]\n",
      "INFO:tensorflow:Evaluation [537/1000]\n",
      "INFO:tensorflow:Evaluation [538/1000]\n",
      "INFO:tensorflow:Evaluation [539/1000]\n",
      "INFO:tensorflow:Evaluation [540/1000]\n",
      "INFO:tensorflow:Evaluation [541/1000]\n",
      "INFO:tensorflow:Evaluation [542/1000]\n",
      "INFO:tensorflow:Evaluation [543/1000]\n",
      "INFO:tensorflow:Evaluation [544/1000]\n",
      "INFO:tensorflow:Evaluation [545/1000]\n",
      "INFO:tensorflow:Evaluation [546/1000]\n",
      "INFO:tensorflow:Evaluation [547/1000]\n",
      "INFO:tensorflow:Evaluation [548/1000]\n",
      "INFO:tensorflow:Evaluation [549/1000]\n",
      "INFO:tensorflow:Evaluation [550/1000]\n",
      "INFO:tensorflow:Evaluation [551/1000]\n",
      "INFO:tensorflow:Evaluation [552/1000]\n",
      "INFO:tensorflow:Evaluation [553/1000]\n",
      "INFO:tensorflow:Evaluation [554/1000]\n",
      "INFO:tensorflow:Evaluation [555/1000]\n",
      "INFO:tensorflow:Evaluation [556/1000]\n",
      "INFO:tensorflow:Evaluation [557/1000]\n",
      "INFO:tensorflow:Evaluation [558/1000]\n",
      "INFO:tensorflow:Evaluation [559/1000]\n",
      "INFO:tensorflow:Evaluation [560/1000]\n",
      "INFO:tensorflow:Evaluation [561/1000]\n",
      "INFO:tensorflow:Evaluation [562/1000]\n",
      "INFO:tensorflow:Evaluation [563/1000]\n",
      "INFO:tensorflow:Evaluation [564/1000]\n",
      "INFO:tensorflow:Evaluation [565/1000]\n",
      "INFO:tensorflow:Evaluation [566/1000]\n",
      "INFO:tensorflow:Evaluation [567/1000]\n",
      "INFO:tensorflow:Evaluation [568/1000]\n",
      "INFO:tensorflow:Evaluation [569/1000]\n",
      "INFO:tensorflow:Evaluation [570/1000]\n",
      "INFO:tensorflow:Evaluation [571/1000]\n",
      "INFO:tensorflow:Evaluation [572/1000]\n",
      "INFO:tensorflow:Evaluation [573/1000]\n",
      "INFO:tensorflow:Evaluation [574/1000]\n",
      "INFO:tensorflow:Evaluation [575/1000]\n",
      "INFO:tensorflow:Evaluation [576/1000]\n",
      "INFO:tensorflow:Evaluation [577/1000]\n",
      "INFO:tensorflow:Evaluation [578/1000]\n",
      "INFO:tensorflow:Evaluation [579/1000]\n",
      "INFO:tensorflow:Evaluation [580/1000]\n",
      "INFO:tensorflow:Evaluation [581/1000]\n",
      "INFO:tensorflow:Evaluation [582/1000]\n",
      "INFO:tensorflow:Evaluation [583/1000]\n",
      "INFO:tensorflow:Evaluation [584/1000]\n",
      "INFO:tensorflow:Evaluation [585/1000]\n",
      "INFO:tensorflow:Evaluation [586/1000]\n",
      "INFO:tensorflow:Evaluation [587/1000]\n",
      "INFO:tensorflow:Evaluation [588/1000]\n",
      "INFO:tensorflow:Evaluation [589/1000]\n",
      "INFO:tensorflow:Evaluation [590/1000]\n",
      "INFO:tensorflow:Evaluation [591/1000]\n",
      "INFO:tensorflow:Evaluation [592/1000]\n",
      "INFO:tensorflow:Evaluation [593/1000]\n",
      "INFO:tensorflow:Evaluation [594/1000]\n",
      "INFO:tensorflow:Evaluation [595/1000]\n",
      "INFO:tensorflow:Evaluation [596/1000]\n",
      "INFO:tensorflow:Evaluation [597/1000]\n",
      "INFO:tensorflow:Evaluation [598/1000]\n",
      "INFO:tensorflow:Evaluation [599/1000]\n",
      "INFO:tensorflow:Evaluation [600/1000]\n",
      "INFO:tensorflow:Evaluation [601/1000]\n",
      "INFO:tensorflow:Evaluation [602/1000]\n",
      "INFO:tensorflow:Evaluation [603/1000]\n",
      "INFO:tensorflow:Evaluation [604/1000]\n",
      "INFO:tensorflow:Evaluation [605/1000]\n",
      "INFO:tensorflow:Evaluation [606/1000]\n",
      "INFO:tensorflow:Evaluation [607/1000]\n",
      "INFO:tensorflow:Evaluation [608/1000]\n",
      "INFO:tensorflow:Evaluation [609/1000]\n",
      "INFO:tensorflow:Evaluation [610/1000]\n",
      "INFO:tensorflow:Evaluation [611/1000]\n",
      "INFO:tensorflow:Evaluation [612/1000]\n",
      "INFO:tensorflow:Evaluation [613/1000]\n",
      "INFO:tensorflow:Evaluation [614/1000]\n",
      "INFO:tensorflow:Evaluation [615/1000]\n",
      "INFO:tensorflow:Evaluation [616/1000]\n",
      "INFO:tensorflow:Evaluation [617/1000]\n",
      "INFO:tensorflow:Evaluation [618/1000]\n",
      "INFO:tensorflow:Evaluation [619/1000]\n",
      "INFO:tensorflow:Evaluation [620/1000]\n",
      "INFO:tensorflow:Evaluation [621/1000]\n",
      "INFO:tensorflow:Evaluation [622/1000]\n",
      "INFO:tensorflow:Evaluation [623/1000]\n",
      "INFO:tensorflow:Evaluation [624/1000]\n",
      "INFO:tensorflow:Evaluation [625/1000]\n",
      "INFO:tensorflow:Evaluation [626/1000]\n",
      "INFO:tensorflow:Evaluation [627/1000]\n",
      "INFO:tensorflow:Evaluation [628/1000]\n",
      "INFO:tensorflow:Evaluation [629/1000]\n",
      "INFO:tensorflow:Evaluation [630/1000]\n",
      "INFO:tensorflow:Evaluation [631/1000]\n",
      "INFO:tensorflow:Evaluation [632/1000]\n",
      "INFO:tensorflow:Evaluation [633/1000]\n",
      "INFO:tensorflow:Evaluation [634/1000]\n",
      "INFO:tensorflow:Evaluation [635/1000]\n",
      "INFO:tensorflow:Evaluation [636/1000]\n",
      "INFO:tensorflow:Evaluation [637/1000]\n",
      "INFO:tensorflow:Evaluation [638/1000]\n",
      "INFO:tensorflow:Evaluation [639/1000]\n",
      "INFO:tensorflow:Evaluation [640/1000]\n",
      "INFO:tensorflow:Evaluation [641/1000]\n",
      "INFO:tensorflow:Evaluation [642/1000]\n",
      "INFO:tensorflow:Evaluation [643/1000]\n",
      "INFO:tensorflow:Evaluation [644/1000]\n",
      "INFO:tensorflow:Evaluation [645/1000]\n",
      "INFO:tensorflow:Evaluation [646/1000]\n",
      "INFO:tensorflow:Evaluation [647/1000]\n",
      "INFO:tensorflow:Evaluation [648/1000]\n",
      "INFO:tensorflow:Evaluation [649/1000]\n",
      "INFO:tensorflow:Evaluation [650/1000]\n",
      "INFO:tensorflow:Evaluation [651/1000]\n",
      "INFO:tensorflow:Evaluation [652/1000]\n",
      "INFO:tensorflow:Evaluation [653/1000]\n",
      "INFO:tensorflow:Evaluation [654/1000]\n",
      "INFO:tensorflow:Evaluation [655/1000]\n",
      "INFO:tensorflow:Evaluation [656/1000]\n",
      "INFO:tensorflow:Evaluation [657/1000]\n",
      "INFO:tensorflow:Evaluation [658/1000]\n",
      "INFO:tensorflow:Evaluation [659/1000]\n",
      "INFO:tensorflow:Evaluation [660/1000]\n",
      "INFO:tensorflow:Evaluation [661/1000]\n",
      "INFO:tensorflow:Evaluation [662/1000]\n",
      "INFO:tensorflow:Evaluation [663/1000]\n",
      "INFO:tensorflow:Evaluation [664/1000]\n",
      "INFO:tensorflow:Evaluation [665/1000]\n",
      "INFO:tensorflow:Evaluation [666/1000]\n",
      "INFO:tensorflow:Evaluation [667/1000]\n",
      "INFO:tensorflow:Evaluation [668/1000]\n",
      "INFO:tensorflow:Evaluation [669/1000]\n",
      "INFO:tensorflow:Evaluation [670/1000]\n",
      "INFO:tensorflow:Evaluation [671/1000]\n",
      "INFO:tensorflow:Evaluation [672/1000]\n",
      "INFO:tensorflow:Evaluation [673/1000]\n",
      "INFO:tensorflow:Evaluation [674/1000]\n",
      "INFO:tensorflow:Evaluation [675/1000]\n",
      "INFO:tensorflow:Evaluation [676/1000]\n",
      "INFO:tensorflow:Evaluation [677/1000]\n",
      "INFO:tensorflow:Evaluation [678/1000]\n",
      "INFO:tensorflow:Evaluation [679/1000]\n",
      "INFO:tensorflow:Evaluation [680/1000]\n",
      "INFO:tensorflow:Evaluation [681/1000]\n",
      "INFO:tensorflow:Evaluation [682/1000]\n",
      "INFO:tensorflow:Evaluation [683/1000]\n",
      "INFO:tensorflow:Evaluation [684/1000]\n",
      "INFO:tensorflow:Evaluation [685/1000]\n",
      "INFO:tensorflow:Evaluation [686/1000]\n",
      "INFO:tensorflow:Evaluation [687/1000]\n",
      "INFO:tensorflow:Evaluation [688/1000]\n",
      "INFO:tensorflow:Evaluation [689/1000]\n",
      "INFO:tensorflow:Evaluation [690/1000]\n",
      "INFO:tensorflow:Evaluation [691/1000]\n",
      "INFO:tensorflow:Evaluation [692/1000]\n",
      "INFO:tensorflow:Evaluation [693/1000]\n",
      "INFO:tensorflow:Evaluation [694/1000]\n",
      "INFO:tensorflow:Evaluation [695/1000]\n",
      "INFO:tensorflow:Evaluation [696/1000]\n",
      "INFO:tensorflow:Evaluation [697/1000]\n",
      "INFO:tensorflow:Evaluation [698/1000]\n",
      "INFO:tensorflow:Evaluation [699/1000]\n",
      "INFO:tensorflow:Evaluation [700/1000]\n",
      "INFO:tensorflow:Evaluation [701/1000]\n",
      "INFO:tensorflow:Evaluation [702/1000]\n",
      "INFO:tensorflow:Evaluation [703/1000]\n",
      "INFO:tensorflow:Evaluation [704/1000]\n",
      "INFO:tensorflow:Evaluation [705/1000]\n",
      "INFO:tensorflow:Evaluation [706/1000]\n",
      "INFO:tensorflow:Evaluation [707/1000]\n",
      "INFO:tensorflow:Evaluation [708/1000]\n",
      "INFO:tensorflow:Evaluation [709/1000]\n",
      "INFO:tensorflow:Evaluation [710/1000]\n",
      "INFO:tensorflow:Evaluation [711/1000]\n",
      "INFO:tensorflow:Evaluation [712/1000]\n",
      "INFO:tensorflow:Evaluation [713/1000]\n",
      "INFO:tensorflow:Evaluation [714/1000]\n",
      "INFO:tensorflow:Evaluation [715/1000]\n",
      "INFO:tensorflow:Evaluation [716/1000]\n",
      "INFO:tensorflow:Evaluation [717/1000]\n",
      "INFO:tensorflow:Evaluation [718/1000]\n",
      "INFO:tensorflow:Evaluation [719/1000]\n",
      "INFO:tensorflow:Evaluation [720/1000]\n",
      "INFO:tensorflow:Evaluation [721/1000]\n",
      "INFO:tensorflow:Evaluation [722/1000]\n",
      "INFO:tensorflow:Evaluation [723/1000]\n",
      "INFO:tensorflow:Evaluation [724/1000]\n",
      "INFO:tensorflow:Evaluation [725/1000]\n",
      "INFO:tensorflow:Evaluation [726/1000]\n",
      "INFO:tensorflow:Evaluation [727/1000]\n",
      "INFO:tensorflow:Evaluation [728/1000]\n",
      "INFO:tensorflow:Evaluation [729/1000]\n",
      "INFO:tensorflow:Evaluation [730/1000]\n",
      "INFO:tensorflow:Evaluation [731/1000]\n",
      "INFO:tensorflow:Evaluation [732/1000]\n",
      "INFO:tensorflow:Evaluation [733/1000]\n",
      "INFO:tensorflow:Evaluation [734/1000]\n",
      "INFO:tensorflow:Evaluation [735/1000]\n",
      "INFO:tensorflow:Evaluation [736/1000]\n",
      "INFO:tensorflow:Evaluation [737/1000]\n",
      "INFO:tensorflow:Evaluation [738/1000]\n",
      "INFO:tensorflow:Evaluation [739/1000]\n",
      "INFO:tensorflow:Evaluation [740/1000]\n",
      "INFO:tensorflow:Evaluation [741/1000]\n",
      "INFO:tensorflow:Evaluation [742/1000]\n",
      "INFO:tensorflow:Evaluation [743/1000]\n",
      "INFO:tensorflow:Evaluation [744/1000]\n",
      "INFO:tensorflow:Evaluation [745/1000]\n",
      "INFO:tensorflow:Evaluation [746/1000]\n",
      "INFO:tensorflow:Evaluation [747/1000]\n",
      "INFO:tensorflow:Evaluation [748/1000]\n",
      "INFO:tensorflow:Evaluation [749/1000]\n",
      "INFO:tensorflow:Evaluation [750/1000]\n",
      "INFO:tensorflow:Evaluation [751/1000]\n",
      "INFO:tensorflow:Evaluation [752/1000]\n",
      "INFO:tensorflow:Evaluation [753/1000]\n",
      "INFO:tensorflow:Evaluation [754/1000]\n",
      "INFO:tensorflow:Evaluation [755/1000]\n",
      "INFO:tensorflow:Evaluation [756/1000]\n",
      "INFO:tensorflow:Evaluation [757/1000]\n",
      "INFO:tensorflow:Evaluation [758/1000]\n",
      "INFO:tensorflow:Evaluation [759/1000]\n",
      "INFO:tensorflow:Evaluation [760/1000]\n",
      "INFO:tensorflow:Evaluation [761/1000]\n",
      "INFO:tensorflow:Evaluation [762/1000]\n",
      "INFO:tensorflow:Evaluation [763/1000]\n",
      "INFO:tensorflow:Evaluation [764/1000]\n",
      "INFO:tensorflow:Evaluation [765/1000]\n",
      "INFO:tensorflow:Evaluation [766/1000]\n",
      "INFO:tensorflow:Evaluation [767/1000]\n",
      "INFO:tensorflow:Evaluation [768/1000]\n",
      "INFO:tensorflow:Evaluation [769/1000]\n",
      "INFO:tensorflow:Evaluation [770/1000]\n",
      "INFO:tensorflow:Evaluation [771/1000]\n",
      "INFO:tensorflow:Evaluation [772/1000]\n",
      "INFO:tensorflow:Evaluation [773/1000]\n",
      "INFO:tensorflow:Evaluation [774/1000]\n",
      "INFO:tensorflow:Evaluation [775/1000]\n",
      "INFO:tensorflow:Evaluation [776/1000]\n",
      "INFO:tensorflow:Evaluation [777/1000]\n",
      "INFO:tensorflow:Evaluation [778/1000]\n",
      "INFO:tensorflow:Evaluation [779/1000]\n",
      "INFO:tensorflow:Evaluation [780/1000]\n",
      "INFO:tensorflow:Evaluation [781/1000]\n",
      "INFO:tensorflow:Evaluation [782/1000]\n",
      "INFO:tensorflow:Evaluation [783/1000]\n",
      "INFO:tensorflow:Evaluation [784/1000]\n",
      "INFO:tensorflow:Evaluation [785/1000]\n",
      "INFO:tensorflow:Evaluation [786/1000]\n",
      "INFO:tensorflow:Evaluation [787/1000]\n",
      "INFO:tensorflow:Evaluation [788/1000]\n",
      "INFO:tensorflow:Evaluation [789/1000]\n",
      "INFO:tensorflow:Evaluation [790/1000]\n",
      "INFO:tensorflow:Evaluation [791/1000]\n",
      "INFO:tensorflow:Evaluation [792/1000]\n",
      "INFO:tensorflow:Evaluation [793/1000]\n",
      "INFO:tensorflow:Evaluation [794/1000]\n",
      "INFO:tensorflow:Evaluation [795/1000]\n",
      "INFO:tensorflow:Evaluation [796/1000]\n",
      "INFO:tensorflow:Evaluation [797/1000]\n",
      "INFO:tensorflow:Evaluation [798/1000]\n",
      "INFO:tensorflow:Evaluation [799/1000]\n",
      "INFO:tensorflow:Evaluation [800/1000]\n",
      "INFO:tensorflow:Evaluation [801/1000]\n",
      "INFO:tensorflow:Evaluation [802/1000]\n",
      "INFO:tensorflow:Evaluation [803/1000]\n",
      "INFO:tensorflow:Evaluation [804/1000]\n",
      "INFO:tensorflow:Evaluation [805/1000]\n",
      "INFO:tensorflow:Evaluation [806/1000]\n",
      "INFO:tensorflow:Evaluation [807/1000]\n",
      "INFO:tensorflow:Evaluation [808/1000]\n",
      "INFO:tensorflow:Evaluation [809/1000]\n",
      "INFO:tensorflow:Evaluation [810/1000]\n",
      "INFO:tensorflow:Evaluation [811/1000]\n",
      "INFO:tensorflow:Evaluation [812/1000]\n",
      "INFO:tensorflow:Evaluation [813/1000]\n",
      "INFO:tensorflow:Evaluation [814/1000]\n",
      "INFO:tensorflow:Evaluation [815/1000]\n",
      "INFO:tensorflow:Evaluation [816/1000]\n",
      "INFO:tensorflow:Evaluation [817/1000]\n",
      "INFO:tensorflow:Evaluation [818/1000]\n",
      "INFO:tensorflow:Evaluation [819/1000]\n",
      "INFO:tensorflow:Evaluation [820/1000]\n",
      "INFO:tensorflow:Evaluation [821/1000]\n",
      "INFO:tensorflow:Evaluation [822/1000]\n",
      "INFO:tensorflow:Evaluation [823/1000]\n",
      "INFO:tensorflow:Evaluation [824/1000]\n",
      "INFO:tensorflow:Evaluation [825/1000]\n",
      "INFO:tensorflow:Evaluation [826/1000]\n",
      "INFO:tensorflow:Evaluation [827/1000]\n",
      "INFO:tensorflow:Evaluation [828/1000]\n",
      "INFO:tensorflow:Evaluation [829/1000]\n",
      "INFO:tensorflow:Evaluation [830/1000]\n",
      "INFO:tensorflow:Evaluation [831/1000]\n",
      "INFO:tensorflow:Evaluation [832/1000]\n",
      "INFO:tensorflow:Evaluation [833/1000]\n",
      "INFO:tensorflow:Evaluation [834/1000]\n",
      "INFO:tensorflow:Evaluation [835/1000]\n",
      "INFO:tensorflow:Evaluation [836/1000]\n",
      "INFO:tensorflow:Evaluation [837/1000]\n",
      "INFO:tensorflow:Evaluation [838/1000]\n",
      "INFO:tensorflow:Evaluation [839/1000]\n",
      "INFO:tensorflow:Evaluation [840/1000]\n",
      "INFO:tensorflow:Evaluation [841/1000]\n",
      "INFO:tensorflow:Evaluation [842/1000]\n",
      "INFO:tensorflow:Evaluation [843/1000]\n",
      "INFO:tensorflow:Evaluation [844/1000]\n",
      "INFO:tensorflow:Evaluation [845/1000]\n",
      "INFO:tensorflow:Evaluation [846/1000]\n",
      "INFO:tensorflow:Evaluation [847/1000]\n",
      "INFO:tensorflow:Evaluation [848/1000]\n",
      "INFO:tensorflow:Evaluation [849/1000]\n",
      "INFO:tensorflow:Evaluation [850/1000]\n",
      "INFO:tensorflow:Evaluation [851/1000]\n",
      "INFO:tensorflow:Evaluation [852/1000]\n",
      "INFO:tensorflow:Evaluation [853/1000]\n",
      "INFO:tensorflow:Evaluation [854/1000]\n",
      "INFO:tensorflow:Evaluation [855/1000]\n",
      "INFO:tensorflow:Evaluation [856/1000]\n",
      "INFO:tensorflow:Evaluation [857/1000]\n",
      "INFO:tensorflow:Evaluation [858/1000]\n",
      "INFO:tensorflow:Evaluation [859/1000]\n",
      "INFO:tensorflow:Evaluation [860/1000]\n",
      "INFO:tensorflow:Evaluation [861/1000]\n",
      "INFO:tensorflow:Evaluation [862/1000]\n",
      "INFO:tensorflow:Evaluation [863/1000]\n",
      "INFO:tensorflow:Evaluation [864/1000]\n",
      "INFO:tensorflow:Evaluation [865/1000]\n",
      "INFO:tensorflow:Evaluation [866/1000]\n",
      "INFO:tensorflow:Evaluation [867/1000]\n",
      "INFO:tensorflow:Evaluation [868/1000]\n",
      "INFO:tensorflow:Evaluation [869/1000]\n",
      "INFO:tensorflow:Evaluation [870/1000]\n",
      "INFO:tensorflow:Evaluation [871/1000]\n",
      "INFO:tensorflow:Evaluation [872/1000]\n",
      "INFO:tensorflow:Evaluation [873/1000]\n",
      "INFO:tensorflow:Evaluation [874/1000]\n",
      "INFO:tensorflow:Evaluation [875/1000]\n",
      "INFO:tensorflow:Evaluation [876/1000]\n",
      "INFO:tensorflow:Evaluation [877/1000]\n",
      "INFO:tensorflow:Evaluation [878/1000]\n",
      "INFO:tensorflow:Evaluation [879/1000]\n",
      "INFO:tensorflow:Evaluation [880/1000]\n",
      "INFO:tensorflow:Evaluation [881/1000]\n",
      "INFO:tensorflow:Evaluation [882/1000]\n",
      "INFO:tensorflow:Evaluation [883/1000]\n",
      "INFO:tensorflow:Evaluation [884/1000]\n",
      "INFO:tensorflow:Evaluation [885/1000]\n",
      "INFO:tensorflow:Evaluation [886/1000]\n",
      "INFO:tensorflow:Evaluation [887/1000]\n",
      "INFO:tensorflow:Evaluation [888/1000]\n",
      "INFO:tensorflow:Evaluation [889/1000]\n",
      "INFO:tensorflow:Evaluation [890/1000]\n",
      "INFO:tensorflow:Evaluation [891/1000]\n",
      "INFO:tensorflow:Evaluation [892/1000]\n",
      "INFO:tensorflow:Evaluation [893/1000]\n",
      "INFO:tensorflow:Evaluation [894/1000]\n",
      "INFO:tensorflow:Evaluation [895/1000]\n",
      "INFO:tensorflow:Evaluation [896/1000]\n",
      "INFO:tensorflow:Evaluation [897/1000]\n",
      "INFO:tensorflow:Evaluation [898/1000]\n",
      "INFO:tensorflow:Evaluation [899/1000]\n",
      "INFO:tensorflow:Evaluation [900/1000]\n",
      "INFO:tensorflow:Evaluation [901/1000]\n",
      "INFO:tensorflow:Evaluation [902/1000]\n",
      "INFO:tensorflow:Evaluation [903/1000]\n",
      "INFO:tensorflow:Evaluation [904/1000]\n",
      "INFO:tensorflow:Evaluation [905/1000]\n",
      "INFO:tensorflow:Evaluation [906/1000]\n",
      "INFO:tensorflow:Evaluation [907/1000]\n",
      "INFO:tensorflow:Evaluation [908/1000]\n",
      "INFO:tensorflow:Evaluation [909/1000]\n",
      "INFO:tensorflow:Evaluation [910/1000]\n",
      "INFO:tensorflow:Evaluation [911/1000]\n",
      "INFO:tensorflow:Evaluation [912/1000]\n",
      "INFO:tensorflow:Evaluation [913/1000]\n",
      "INFO:tensorflow:Evaluation [914/1000]\n",
      "INFO:tensorflow:Evaluation [915/1000]\n",
      "INFO:tensorflow:Evaluation [916/1000]\n",
      "INFO:tensorflow:Evaluation [917/1000]\n",
      "INFO:tensorflow:Evaluation [918/1000]\n",
      "INFO:tensorflow:Evaluation [919/1000]\n",
      "INFO:tensorflow:Evaluation [920/1000]\n",
      "INFO:tensorflow:Evaluation [921/1000]\n",
      "INFO:tensorflow:Evaluation [922/1000]\n",
      "INFO:tensorflow:Evaluation [923/1000]\n",
      "INFO:tensorflow:Evaluation [924/1000]\n",
      "INFO:tensorflow:Evaluation [925/1000]\n",
      "INFO:tensorflow:Evaluation [926/1000]\n",
      "INFO:tensorflow:Evaluation [927/1000]\n",
      "INFO:tensorflow:Evaluation [928/1000]\n",
      "INFO:tensorflow:Evaluation [929/1000]\n",
      "INFO:tensorflow:Evaluation [930/1000]\n",
      "INFO:tensorflow:Evaluation [931/1000]\n",
      "INFO:tensorflow:Evaluation [932/1000]\n",
      "INFO:tensorflow:Evaluation [933/1000]\n",
      "INFO:tensorflow:Evaluation [934/1000]\n",
      "INFO:tensorflow:Evaluation [935/1000]\n",
      "INFO:tensorflow:Evaluation [936/1000]\n",
      "INFO:tensorflow:Evaluation [937/1000]\n",
      "INFO:tensorflow:Evaluation [938/1000]\n",
      "INFO:tensorflow:Evaluation [939/1000]\n",
      "INFO:tensorflow:Evaluation [940/1000]\n",
      "INFO:tensorflow:Evaluation [941/1000]\n",
      "INFO:tensorflow:Evaluation [942/1000]\n",
      "INFO:tensorflow:Evaluation [943/1000]\n",
      "INFO:tensorflow:Evaluation [944/1000]\n",
      "INFO:tensorflow:Evaluation [945/1000]\n",
      "INFO:tensorflow:Evaluation [946/1000]\n",
      "INFO:tensorflow:Evaluation [947/1000]\n",
      "INFO:tensorflow:Evaluation [948/1000]\n",
      "INFO:tensorflow:Evaluation [949/1000]\n",
      "INFO:tensorflow:Evaluation [950/1000]\n",
      "INFO:tensorflow:Evaluation [951/1000]\n",
      "INFO:tensorflow:Evaluation [952/1000]\n",
      "INFO:tensorflow:Evaluation [953/1000]\n",
      "INFO:tensorflow:Evaluation [954/1000]\n",
      "INFO:tensorflow:Evaluation [955/1000]\n",
      "INFO:tensorflow:Evaluation [956/1000]\n",
      "INFO:tensorflow:Evaluation [957/1000]\n",
      "INFO:tensorflow:Evaluation [958/1000]\n",
      "INFO:tensorflow:Evaluation [959/1000]\n",
      "INFO:tensorflow:Evaluation [960/1000]\n",
      "INFO:tensorflow:Evaluation [961/1000]\n",
      "INFO:tensorflow:Evaluation [962/1000]\n",
      "INFO:tensorflow:Evaluation [963/1000]\n",
      "INFO:tensorflow:Evaluation [964/1000]\n",
      "INFO:tensorflow:Evaluation [965/1000]\n",
      "INFO:tensorflow:Evaluation [966/1000]\n",
      "INFO:tensorflow:Evaluation [967/1000]\n",
      "INFO:tensorflow:Evaluation [968/1000]\n",
      "INFO:tensorflow:Evaluation [969/1000]\n",
      "INFO:tensorflow:Evaluation [970/1000]\n",
      "INFO:tensorflow:Evaluation [971/1000]\n",
      "INFO:tensorflow:Evaluation [972/1000]\n",
      "INFO:tensorflow:Evaluation [973/1000]\n",
      "INFO:tensorflow:Evaluation [974/1000]\n",
      "INFO:tensorflow:Evaluation [975/1000]\n",
      "INFO:tensorflow:Evaluation [976/1000]\n",
      "INFO:tensorflow:Evaluation [977/1000]\n",
      "INFO:tensorflow:Evaluation [978/1000]\n",
      "INFO:tensorflow:Evaluation [979/1000]\n",
      "INFO:tensorflow:Evaluation [980/1000]\n",
      "INFO:tensorflow:Evaluation [981/1000]\n",
      "INFO:tensorflow:Evaluation [982/1000]\n",
      "INFO:tensorflow:Evaluation [983/1000]\n",
      "INFO:tensorflow:Evaluation [984/1000]\n",
      "INFO:tensorflow:Evaluation [985/1000]\n",
      "INFO:tensorflow:Evaluation [986/1000]\n",
      "INFO:tensorflow:Evaluation [987/1000]\n",
      "INFO:tensorflow:Evaluation [988/1000]\n",
      "INFO:tensorflow:Evaluation [989/1000]\n",
      "INFO:tensorflow:Evaluation [990/1000]\n",
      "INFO:tensorflow:Evaluation [991/1000]\n",
      "INFO:tensorflow:Evaluation [992/1000]\n",
      "INFO:tensorflow:Evaluation [993/1000]\n",
      "INFO:tensorflow:Evaluation [994/1000]\n",
      "INFO:tensorflow:Evaluation [995/1000]\n",
      "INFO:tensorflow:Evaluation [996/1000]\n",
      "INFO:tensorflow:Evaluation [997/1000]\n",
      "INFO:tensorflow:Evaluation [998/1000]\n",
      "INFO:tensorflow:Evaluation [999/1000]\n",
      "INFO:tensorflow:Evaluation [1000/1000]\n",
      "INFO:tensorflow:Finished evaluation at 2019-06-20-16:45:00\n",
      "INFO:tensorflow:Saving dict for global step 1000: average_loss = 1.08179, global_step = 1000, loss = 8.65435\n"
     ]
    }
   ],
   "source": [
    "train_metrics = estimator.evaluate(input_fn=train_input_func, steps=1000)"
   ]
  },
  {
   "cell_type": "code",
   "execution_count": 638,
   "metadata": {},
   "outputs": [
    {
     "name": "stdout",
     "output_type": "stream",
     "text": [
      "INFO:tensorflow:Starting evaluation at 2019-06-20-16:45:01\n",
      "INFO:tensorflow:Restoring parameters from /var/folders/s1/h9x0_mhx4tn1dfstx3w6gvhc0000gn/T/tmphi0jq6px/model.ckpt-1000\n",
      "INFO:tensorflow:Evaluation [1/1000]\n",
      "INFO:tensorflow:Evaluation [2/1000]\n",
      "INFO:tensorflow:Evaluation [3/1000]\n",
      "INFO:tensorflow:Evaluation [4/1000]\n",
      "INFO:tensorflow:Evaluation [5/1000]\n",
      "INFO:tensorflow:Evaluation [6/1000]\n",
      "INFO:tensorflow:Evaluation [7/1000]\n",
      "INFO:tensorflow:Evaluation [8/1000]\n",
      "INFO:tensorflow:Evaluation [9/1000]\n",
      "INFO:tensorflow:Evaluation [10/1000]\n",
      "INFO:tensorflow:Evaluation [11/1000]\n",
      "INFO:tensorflow:Evaluation [12/1000]\n",
      "INFO:tensorflow:Evaluation [13/1000]\n",
      "INFO:tensorflow:Evaluation [14/1000]\n",
      "INFO:tensorflow:Evaluation [15/1000]\n",
      "INFO:tensorflow:Evaluation [16/1000]\n",
      "INFO:tensorflow:Evaluation [17/1000]\n",
      "INFO:tensorflow:Evaluation [18/1000]\n",
      "INFO:tensorflow:Evaluation [19/1000]\n",
      "INFO:tensorflow:Evaluation [20/1000]\n",
      "INFO:tensorflow:Evaluation [21/1000]\n",
      "INFO:tensorflow:Evaluation [22/1000]\n",
      "INFO:tensorflow:Evaluation [23/1000]\n",
      "INFO:tensorflow:Evaluation [24/1000]\n",
      "INFO:tensorflow:Evaluation [25/1000]\n",
      "INFO:tensorflow:Evaluation [26/1000]\n",
      "INFO:tensorflow:Evaluation [27/1000]\n",
      "INFO:tensorflow:Evaluation [28/1000]\n",
      "INFO:tensorflow:Evaluation [29/1000]\n",
      "INFO:tensorflow:Evaluation [30/1000]\n",
      "INFO:tensorflow:Evaluation [31/1000]\n",
      "INFO:tensorflow:Evaluation [32/1000]\n",
      "INFO:tensorflow:Evaluation [33/1000]\n",
      "INFO:tensorflow:Evaluation [34/1000]\n",
      "INFO:tensorflow:Evaluation [35/1000]\n",
      "INFO:tensorflow:Evaluation [36/1000]\n",
      "INFO:tensorflow:Evaluation [37/1000]\n",
      "INFO:tensorflow:Evaluation [38/1000]\n",
      "INFO:tensorflow:Evaluation [39/1000]\n",
      "INFO:tensorflow:Evaluation [40/1000]\n",
      "INFO:tensorflow:Evaluation [41/1000]\n",
      "INFO:tensorflow:Evaluation [42/1000]\n",
      "INFO:tensorflow:Evaluation [43/1000]\n",
      "INFO:tensorflow:Evaluation [44/1000]\n",
      "INFO:tensorflow:Evaluation [45/1000]\n",
      "INFO:tensorflow:Evaluation [46/1000]\n",
      "INFO:tensorflow:Evaluation [47/1000]\n",
      "INFO:tensorflow:Evaluation [48/1000]\n",
      "INFO:tensorflow:Evaluation [49/1000]\n",
      "INFO:tensorflow:Evaluation [50/1000]\n",
      "INFO:tensorflow:Evaluation [51/1000]\n",
      "INFO:tensorflow:Evaluation [52/1000]\n",
      "INFO:tensorflow:Evaluation [53/1000]\n",
      "INFO:tensorflow:Evaluation [54/1000]\n",
      "INFO:tensorflow:Evaluation [55/1000]\n",
      "INFO:tensorflow:Evaluation [56/1000]\n",
      "INFO:tensorflow:Evaluation [57/1000]\n",
      "INFO:tensorflow:Evaluation [58/1000]\n",
      "INFO:tensorflow:Evaluation [59/1000]\n",
      "INFO:tensorflow:Evaluation [60/1000]\n",
      "INFO:tensorflow:Evaluation [61/1000]\n",
      "INFO:tensorflow:Evaluation [62/1000]\n",
      "INFO:tensorflow:Evaluation [63/1000]\n",
      "INFO:tensorflow:Evaluation [64/1000]\n",
      "INFO:tensorflow:Evaluation [65/1000]\n",
      "INFO:tensorflow:Evaluation [66/1000]\n",
      "INFO:tensorflow:Evaluation [67/1000]\n",
      "INFO:tensorflow:Evaluation [68/1000]\n",
      "INFO:tensorflow:Evaluation [69/1000]\n",
      "INFO:tensorflow:Evaluation [70/1000]\n",
      "INFO:tensorflow:Evaluation [71/1000]\n",
      "INFO:tensorflow:Evaluation [72/1000]\n",
      "INFO:tensorflow:Evaluation [73/1000]\n",
      "INFO:tensorflow:Evaluation [74/1000]\n",
      "INFO:tensorflow:Evaluation [75/1000]\n",
      "INFO:tensorflow:Evaluation [76/1000]\n",
      "INFO:tensorflow:Evaluation [77/1000]\n",
      "INFO:tensorflow:Evaluation [78/1000]\n",
      "INFO:tensorflow:Evaluation [79/1000]\n",
      "INFO:tensorflow:Evaluation [80/1000]\n",
      "INFO:tensorflow:Evaluation [81/1000]\n",
      "INFO:tensorflow:Evaluation [82/1000]\n",
      "INFO:tensorflow:Evaluation [83/1000]\n",
      "INFO:tensorflow:Evaluation [84/1000]\n",
      "INFO:tensorflow:Evaluation [85/1000]\n",
      "INFO:tensorflow:Evaluation [86/1000]\n",
      "INFO:tensorflow:Evaluation [87/1000]\n",
      "INFO:tensorflow:Evaluation [88/1000]\n",
      "INFO:tensorflow:Evaluation [89/1000]\n",
      "INFO:tensorflow:Evaluation [90/1000]\n",
      "INFO:tensorflow:Evaluation [91/1000]\n",
      "INFO:tensorflow:Evaluation [92/1000]\n",
      "INFO:tensorflow:Evaluation [93/1000]\n",
      "INFO:tensorflow:Evaluation [94/1000]\n",
      "INFO:tensorflow:Evaluation [95/1000]\n",
      "INFO:tensorflow:Evaluation [96/1000]\n",
      "INFO:tensorflow:Evaluation [97/1000]\n",
      "INFO:tensorflow:Evaluation [98/1000]\n",
      "INFO:tensorflow:Evaluation [99/1000]\n",
      "INFO:tensorflow:Evaluation [100/1000]\n",
      "INFO:tensorflow:Evaluation [101/1000]\n",
      "INFO:tensorflow:Evaluation [102/1000]\n",
      "INFO:tensorflow:Evaluation [103/1000]\n",
      "INFO:tensorflow:Evaluation [104/1000]\n",
      "INFO:tensorflow:Evaluation [105/1000]\n",
      "INFO:tensorflow:Evaluation [106/1000]\n",
      "INFO:tensorflow:Evaluation [107/1000]\n",
      "INFO:tensorflow:Evaluation [108/1000]\n",
      "INFO:tensorflow:Evaluation [109/1000]\n",
      "INFO:tensorflow:Evaluation [110/1000]\n",
      "INFO:tensorflow:Evaluation [111/1000]\n",
      "INFO:tensorflow:Evaluation [112/1000]\n",
      "INFO:tensorflow:Evaluation [113/1000]\n",
      "INFO:tensorflow:Evaluation [114/1000]\n",
      "INFO:tensorflow:Evaluation [115/1000]\n",
      "INFO:tensorflow:Evaluation [116/1000]\n",
      "INFO:tensorflow:Evaluation [117/1000]\n",
      "INFO:tensorflow:Evaluation [118/1000]\n",
      "INFO:tensorflow:Evaluation [119/1000]\n",
      "INFO:tensorflow:Evaluation [120/1000]\n",
      "INFO:tensorflow:Evaluation [121/1000]\n",
      "INFO:tensorflow:Evaluation [122/1000]\n",
      "INFO:tensorflow:Evaluation [123/1000]\n",
      "INFO:tensorflow:Evaluation [124/1000]\n",
      "INFO:tensorflow:Evaluation [125/1000]\n",
      "INFO:tensorflow:Evaluation [126/1000]\n",
      "INFO:tensorflow:Evaluation [127/1000]\n",
      "INFO:tensorflow:Evaluation [128/1000]\n",
      "INFO:tensorflow:Evaluation [129/1000]\n",
      "INFO:tensorflow:Evaluation [130/1000]\n",
      "INFO:tensorflow:Evaluation [131/1000]\n",
      "INFO:tensorflow:Evaluation [132/1000]\n",
      "INFO:tensorflow:Evaluation [133/1000]\n",
      "INFO:tensorflow:Evaluation [134/1000]\n",
      "INFO:tensorflow:Evaluation [135/1000]\n",
      "INFO:tensorflow:Evaluation [136/1000]\n",
      "INFO:tensorflow:Evaluation [137/1000]\n",
      "INFO:tensorflow:Evaluation [138/1000]\n",
      "INFO:tensorflow:Evaluation [139/1000]\n",
      "INFO:tensorflow:Evaluation [140/1000]\n",
      "INFO:tensorflow:Evaluation [141/1000]\n",
      "INFO:tensorflow:Evaluation [142/1000]\n",
      "INFO:tensorflow:Evaluation [143/1000]\n",
      "INFO:tensorflow:Evaluation [144/1000]\n",
      "INFO:tensorflow:Evaluation [145/1000]\n",
      "INFO:tensorflow:Evaluation [146/1000]\n",
      "INFO:tensorflow:Evaluation [147/1000]\n",
      "INFO:tensorflow:Evaluation [148/1000]\n",
      "INFO:tensorflow:Evaluation [149/1000]\n",
      "INFO:tensorflow:Evaluation [150/1000]\n",
      "INFO:tensorflow:Evaluation [151/1000]\n",
      "INFO:tensorflow:Evaluation [152/1000]\n",
      "INFO:tensorflow:Evaluation [153/1000]\n",
      "INFO:tensorflow:Evaluation [154/1000]\n",
      "INFO:tensorflow:Evaluation [155/1000]\n",
      "INFO:tensorflow:Evaluation [156/1000]\n",
      "INFO:tensorflow:Evaluation [157/1000]\n",
      "INFO:tensorflow:Evaluation [158/1000]\n",
      "INFO:tensorflow:Evaluation [159/1000]\n",
      "INFO:tensorflow:Evaluation [160/1000]\n",
      "INFO:tensorflow:Evaluation [161/1000]\n",
      "INFO:tensorflow:Evaluation [162/1000]\n",
      "INFO:tensorflow:Evaluation [163/1000]\n",
      "INFO:tensorflow:Evaluation [164/1000]\n",
      "INFO:tensorflow:Evaluation [165/1000]\n",
      "INFO:tensorflow:Evaluation [166/1000]\n",
      "INFO:tensorflow:Evaluation [167/1000]\n",
      "INFO:tensorflow:Evaluation [168/1000]\n",
      "INFO:tensorflow:Evaluation [169/1000]\n",
      "INFO:tensorflow:Evaluation [170/1000]\n",
      "INFO:tensorflow:Evaluation [171/1000]\n",
      "INFO:tensorflow:Evaluation [172/1000]\n",
      "INFO:tensorflow:Evaluation [173/1000]\n",
      "INFO:tensorflow:Evaluation [174/1000]\n",
      "INFO:tensorflow:Evaluation [175/1000]\n",
      "INFO:tensorflow:Evaluation [176/1000]\n",
      "INFO:tensorflow:Evaluation [177/1000]\n",
      "INFO:tensorflow:Evaluation [178/1000]\n",
      "INFO:tensorflow:Evaluation [179/1000]\n",
      "INFO:tensorflow:Evaluation [180/1000]\n",
      "INFO:tensorflow:Evaluation [181/1000]\n",
      "INFO:tensorflow:Evaluation [182/1000]\n",
      "INFO:tensorflow:Evaluation [183/1000]\n",
      "INFO:tensorflow:Evaluation [184/1000]\n",
      "INFO:tensorflow:Evaluation [185/1000]\n",
      "INFO:tensorflow:Evaluation [186/1000]\n",
      "INFO:tensorflow:Evaluation [187/1000]\n",
      "INFO:tensorflow:Evaluation [188/1000]\n",
      "INFO:tensorflow:Evaluation [189/1000]\n",
      "INFO:tensorflow:Evaluation [190/1000]\n",
      "INFO:tensorflow:Evaluation [191/1000]\n",
      "INFO:tensorflow:Evaluation [192/1000]\n",
      "INFO:tensorflow:Evaluation [193/1000]\n",
      "INFO:tensorflow:Evaluation [194/1000]\n",
      "INFO:tensorflow:Evaluation [195/1000]\n",
      "INFO:tensorflow:Evaluation [196/1000]\n",
      "INFO:tensorflow:Evaluation [197/1000]\n",
      "INFO:tensorflow:Evaluation [198/1000]\n",
      "INFO:tensorflow:Evaluation [199/1000]\n",
      "INFO:tensorflow:Evaluation [200/1000]\n",
      "INFO:tensorflow:Evaluation [201/1000]\n",
      "INFO:tensorflow:Evaluation [202/1000]\n",
      "INFO:tensorflow:Evaluation [203/1000]\n",
      "INFO:tensorflow:Evaluation [204/1000]\n",
      "INFO:tensorflow:Evaluation [205/1000]\n",
      "INFO:tensorflow:Evaluation [206/1000]\n",
      "INFO:tensorflow:Evaluation [207/1000]\n",
      "INFO:tensorflow:Evaluation [208/1000]\n",
      "INFO:tensorflow:Evaluation [209/1000]\n",
      "INFO:tensorflow:Evaluation [210/1000]\n",
      "INFO:tensorflow:Evaluation [211/1000]\n",
      "INFO:tensorflow:Evaluation [212/1000]\n",
      "INFO:tensorflow:Evaluation [213/1000]\n",
      "INFO:tensorflow:Evaluation [214/1000]\n",
      "INFO:tensorflow:Evaluation [215/1000]\n",
      "INFO:tensorflow:Evaluation [216/1000]\n",
      "INFO:tensorflow:Evaluation [217/1000]\n",
      "INFO:tensorflow:Evaluation [218/1000]\n",
      "INFO:tensorflow:Evaluation [219/1000]\n",
      "INFO:tensorflow:Evaluation [220/1000]\n",
      "INFO:tensorflow:Evaluation [221/1000]\n",
      "INFO:tensorflow:Evaluation [222/1000]\n",
      "INFO:tensorflow:Evaluation [223/1000]\n",
      "INFO:tensorflow:Evaluation [224/1000]\n",
      "INFO:tensorflow:Evaluation [225/1000]\n",
      "INFO:tensorflow:Evaluation [226/1000]\n",
      "INFO:tensorflow:Evaluation [227/1000]\n",
      "INFO:tensorflow:Evaluation [228/1000]\n",
      "INFO:tensorflow:Evaluation [229/1000]\n",
      "INFO:tensorflow:Evaluation [230/1000]\n",
      "INFO:tensorflow:Evaluation [231/1000]\n",
      "INFO:tensorflow:Evaluation [232/1000]\n",
      "INFO:tensorflow:Evaluation [233/1000]\n",
      "INFO:tensorflow:Evaluation [234/1000]\n",
      "INFO:tensorflow:Evaluation [235/1000]\n",
      "INFO:tensorflow:Evaluation [236/1000]\n",
      "INFO:tensorflow:Evaluation [237/1000]\n",
      "INFO:tensorflow:Evaluation [238/1000]\n",
      "INFO:tensorflow:Evaluation [239/1000]\n",
      "INFO:tensorflow:Evaluation [240/1000]\n",
      "INFO:tensorflow:Evaluation [241/1000]\n",
      "INFO:tensorflow:Evaluation [242/1000]\n",
      "INFO:tensorflow:Evaluation [243/1000]\n",
      "INFO:tensorflow:Evaluation [244/1000]\n",
      "INFO:tensorflow:Evaluation [245/1000]\n",
      "INFO:tensorflow:Evaluation [246/1000]\n",
      "INFO:tensorflow:Evaluation [247/1000]\n",
      "INFO:tensorflow:Evaluation [248/1000]\n",
      "INFO:tensorflow:Evaluation [249/1000]\n",
      "INFO:tensorflow:Evaluation [250/1000]\n",
      "INFO:tensorflow:Evaluation [251/1000]\n",
      "INFO:tensorflow:Evaluation [252/1000]\n",
      "INFO:tensorflow:Evaluation [253/1000]\n",
      "INFO:tensorflow:Evaluation [254/1000]\n",
      "INFO:tensorflow:Evaluation [255/1000]\n",
      "INFO:tensorflow:Evaluation [256/1000]\n",
      "INFO:tensorflow:Evaluation [257/1000]\n",
      "INFO:tensorflow:Evaluation [258/1000]\n",
      "INFO:tensorflow:Evaluation [259/1000]\n",
      "INFO:tensorflow:Evaluation [260/1000]\n",
      "INFO:tensorflow:Evaluation [261/1000]\n",
      "INFO:tensorflow:Evaluation [262/1000]\n",
      "INFO:tensorflow:Evaluation [263/1000]\n",
      "INFO:tensorflow:Evaluation [264/1000]\n",
      "INFO:tensorflow:Evaluation [265/1000]\n",
      "INFO:tensorflow:Evaluation [266/1000]\n",
      "INFO:tensorflow:Evaluation [267/1000]\n",
      "INFO:tensorflow:Evaluation [268/1000]\n",
      "INFO:tensorflow:Evaluation [269/1000]\n",
      "INFO:tensorflow:Evaluation [270/1000]\n",
      "INFO:tensorflow:Evaluation [271/1000]\n",
      "INFO:tensorflow:Evaluation [272/1000]\n",
      "INFO:tensorflow:Evaluation [273/1000]\n",
      "INFO:tensorflow:Evaluation [274/1000]\n",
      "INFO:tensorflow:Evaluation [275/1000]\n",
      "INFO:tensorflow:Evaluation [276/1000]\n",
      "INFO:tensorflow:Evaluation [277/1000]\n",
      "INFO:tensorflow:Evaluation [278/1000]\n",
      "INFO:tensorflow:Evaluation [279/1000]\n",
      "INFO:tensorflow:Evaluation [280/1000]\n",
      "INFO:tensorflow:Evaluation [281/1000]\n",
      "INFO:tensorflow:Evaluation [282/1000]\n",
      "INFO:tensorflow:Evaluation [283/1000]\n",
      "INFO:tensorflow:Evaluation [284/1000]\n",
      "INFO:tensorflow:Evaluation [285/1000]\n",
      "INFO:tensorflow:Evaluation [286/1000]\n",
      "INFO:tensorflow:Evaluation [287/1000]\n",
      "INFO:tensorflow:Evaluation [288/1000]\n",
      "INFO:tensorflow:Evaluation [289/1000]\n",
      "INFO:tensorflow:Evaluation [290/1000]\n",
      "INFO:tensorflow:Evaluation [291/1000]\n",
      "INFO:tensorflow:Evaluation [292/1000]\n",
      "INFO:tensorflow:Evaluation [293/1000]\n",
      "INFO:tensorflow:Evaluation [294/1000]\n",
      "INFO:tensorflow:Evaluation [295/1000]\n",
      "INFO:tensorflow:Evaluation [296/1000]\n",
      "INFO:tensorflow:Evaluation [297/1000]\n",
      "INFO:tensorflow:Evaluation [298/1000]\n",
      "INFO:tensorflow:Evaluation [299/1000]\n",
      "INFO:tensorflow:Evaluation [300/1000]\n",
      "INFO:tensorflow:Evaluation [301/1000]\n",
      "INFO:tensorflow:Evaluation [302/1000]\n",
      "INFO:tensorflow:Evaluation [303/1000]\n",
      "INFO:tensorflow:Evaluation [304/1000]\n",
      "INFO:tensorflow:Evaluation [305/1000]\n",
      "INFO:tensorflow:Evaluation [306/1000]\n",
      "INFO:tensorflow:Evaluation [307/1000]\n",
      "INFO:tensorflow:Evaluation [308/1000]\n",
      "INFO:tensorflow:Evaluation [309/1000]\n",
      "INFO:tensorflow:Evaluation [310/1000]\n",
      "INFO:tensorflow:Evaluation [311/1000]\n",
      "INFO:tensorflow:Evaluation [312/1000]\n",
      "INFO:tensorflow:Evaluation [313/1000]\n",
      "INFO:tensorflow:Evaluation [314/1000]\n",
      "INFO:tensorflow:Evaluation [315/1000]\n",
      "INFO:tensorflow:Evaluation [316/1000]\n",
      "INFO:tensorflow:Evaluation [317/1000]\n",
      "INFO:tensorflow:Evaluation [318/1000]\n",
      "INFO:tensorflow:Evaluation [319/1000]\n",
      "INFO:tensorflow:Evaluation [320/1000]\n",
      "INFO:tensorflow:Evaluation [321/1000]\n",
      "INFO:tensorflow:Evaluation [322/1000]\n",
      "INFO:tensorflow:Evaluation [323/1000]\n",
      "INFO:tensorflow:Evaluation [324/1000]\n",
      "INFO:tensorflow:Evaluation [325/1000]\n",
      "INFO:tensorflow:Evaluation [326/1000]\n",
      "INFO:tensorflow:Evaluation [327/1000]\n",
      "INFO:tensorflow:Evaluation [328/1000]\n",
      "INFO:tensorflow:Evaluation [329/1000]\n",
      "INFO:tensorflow:Evaluation [330/1000]\n",
      "INFO:tensorflow:Evaluation [331/1000]\n",
      "INFO:tensorflow:Evaluation [332/1000]\n",
      "INFO:tensorflow:Evaluation [333/1000]\n",
      "INFO:tensorflow:Evaluation [334/1000]\n",
      "INFO:tensorflow:Evaluation [335/1000]\n",
      "INFO:tensorflow:Evaluation [336/1000]\n",
      "INFO:tensorflow:Evaluation [337/1000]\n",
      "INFO:tensorflow:Evaluation [338/1000]\n",
      "INFO:tensorflow:Evaluation [339/1000]\n",
      "INFO:tensorflow:Evaluation [340/1000]\n",
      "INFO:tensorflow:Evaluation [341/1000]\n",
      "INFO:tensorflow:Evaluation [342/1000]\n",
      "INFO:tensorflow:Evaluation [343/1000]\n",
      "INFO:tensorflow:Evaluation [344/1000]\n",
      "INFO:tensorflow:Evaluation [345/1000]\n",
      "INFO:tensorflow:Evaluation [346/1000]\n",
      "INFO:tensorflow:Evaluation [347/1000]\n",
      "INFO:tensorflow:Evaluation [348/1000]\n",
      "INFO:tensorflow:Evaluation [349/1000]\n",
      "INFO:tensorflow:Evaluation [350/1000]\n",
      "INFO:tensorflow:Evaluation [351/1000]\n",
      "INFO:tensorflow:Evaluation [352/1000]\n",
      "INFO:tensorflow:Evaluation [353/1000]\n",
      "INFO:tensorflow:Evaluation [354/1000]\n",
      "INFO:tensorflow:Evaluation [355/1000]\n",
      "INFO:tensorflow:Evaluation [356/1000]\n",
      "INFO:tensorflow:Evaluation [357/1000]\n",
      "INFO:tensorflow:Evaluation [358/1000]\n",
      "INFO:tensorflow:Evaluation [359/1000]\n",
      "INFO:tensorflow:Evaluation [360/1000]\n",
      "INFO:tensorflow:Evaluation [361/1000]\n",
      "INFO:tensorflow:Evaluation [362/1000]\n",
      "INFO:tensorflow:Evaluation [363/1000]\n",
      "INFO:tensorflow:Evaluation [364/1000]\n",
      "INFO:tensorflow:Evaluation [365/1000]\n",
      "INFO:tensorflow:Evaluation [366/1000]\n",
      "INFO:tensorflow:Evaluation [367/1000]\n",
      "INFO:tensorflow:Evaluation [368/1000]\n",
      "INFO:tensorflow:Evaluation [369/1000]\n",
      "INFO:tensorflow:Evaluation [370/1000]\n",
      "INFO:tensorflow:Evaluation [371/1000]\n",
      "INFO:tensorflow:Evaluation [372/1000]\n",
      "INFO:tensorflow:Evaluation [373/1000]\n",
      "INFO:tensorflow:Evaluation [374/1000]\n",
      "INFO:tensorflow:Evaluation [375/1000]\n",
      "INFO:tensorflow:Evaluation [376/1000]\n",
      "INFO:tensorflow:Evaluation [377/1000]\n",
      "INFO:tensorflow:Evaluation [378/1000]\n",
      "INFO:tensorflow:Evaluation [379/1000]\n",
      "INFO:tensorflow:Evaluation [380/1000]\n",
      "INFO:tensorflow:Evaluation [381/1000]\n",
      "INFO:tensorflow:Evaluation [382/1000]\n",
      "INFO:tensorflow:Evaluation [383/1000]\n",
      "INFO:tensorflow:Evaluation [384/1000]\n",
      "INFO:tensorflow:Evaluation [385/1000]\n",
      "INFO:tensorflow:Evaluation [386/1000]\n",
      "INFO:tensorflow:Evaluation [387/1000]\n",
      "INFO:tensorflow:Evaluation [388/1000]\n",
      "INFO:tensorflow:Evaluation [389/1000]\n",
      "INFO:tensorflow:Evaluation [390/1000]\n",
      "INFO:tensorflow:Evaluation [391/1000]\n",
      "INFO:tensorflow:Evaluation [392/1000]\n",
      "INFO:tensorflow:Evaluation [393/1000]\n",
      "INFO:tensorflow:Evaluation [394/1000]\n",
      "INFO:tensorflow:Evaluation [395/1000]\n",
      "INFO:tensorflow:Evaluation [396/1000]\n",
      "INFO:tensorflow:Evaluation [397/1000]\n",
      "INFO:tensorflow:Evaluation [398/1000]\n",
      "INFO:tensorflow:Evaluation [399/1000]\n",
      "INFO:tensorflow:Evaluation [400/1000]\n",
      "INFO:tensorflow:Evaluation [401/1000]\n",
      "INFO:tensorflow:Evaluation [402/1000]\n",
      "INFO:tensorflow:Evaluation [403/1000]\n",
      "INFO:tensorflow:Evaluation [404/1000]\n",
      "INFO:tensorflow:Evaluation [405/1000]\n",
      "INFO:tensorflow:Evaluation [406/1000]\n",
      "INFO:tensorflow:Evaluation [407/1000]\n",
      "INFO:tensorflow:Evaluation [408/1000]\n",
      "INFO:tensorflow:Evaluation [409/1000]\n",
      "INFO:tensorflow:Evaluation [410/1000]\n",
      "INFO:tensorflow:Evaluation [411/1000]\n",
      "INFO:tensorflow:Evaluation [412/1000]\n",
      "INFO:tensorflow:Evaluation [413/1000]\n",
      "INFO:tensorflow:Evaluation [414/1000]\n",
      "INFO:tensorflow:Evaluation [415/1000]\n",
      "INFO:tensorflow:Evaluation [416/1000]\n",
      "INFO:tensorflow:Evaluation [417/1000]\n",
      "INFO:tensorflow:Evaluation [418/1000]\n",
      "INFO:tensorflow:Evaluation [419/1000]\n",
      "INFO:tensorflow:Evaluation [420/1000]\n",
      "INFO:tensorflow:Evaluation [421/1000]\n",
      "INFO:tensorflow:Evaluation [422/1000]\n",
      "INFO:tensorflow:Evaluation [423/1000]\n",
      "INFO:tensorflow:Evaluation [424/1000]\n",
      "INFO:tensorflow:Evaluation [425/1000]\n",
      "INFO:tensorflow:Evaluation [426/1000]\n",
      "INFO:tensorflow:Evaluation [427/1000]\n",
      "INFO:tensorflow:Evaluation [428/1000]\n",
      "INFO:tensorflow:Evaluation [429/1000]\n",
      "INFO:tensorflow:Evaluation [430/1000]\n",
      "INFO:tensorflow:Evaluation [431/1000]\n",
      "INFO:tensorflow:Evaluation [432/1000]\n",
      "INFO:tensorflow:Evaluation [433/1000]\n",
      "INFO:tensorflow:Evaluation [434/1000]\n",
      "INFO:tensorflow:Evaluation [435/1000]\n",
      "INFO:tensorflow:Evaluation [436/1000]\n",
      "INFO:tensorflow:Evaluation [437/1000]\n",
      "INFO:tensorflow:Evaluation [438/1000]\n",
      "INFO:tensorflow:Evaluation [439/1000]\n",
      "INFO:tensorflow:Evaluation [440/1000]\n",
      "INFO:tensorflow:Evaluation [441/1000]\n",
      "INFO:tensorflow:Evaluation [442/1000]\n",
      "INFO:tensorflow:Evaluation [443/1000]\n",
      "INFO:tensorflow:Evaluation [444/1000]\n",
      "INFO:tensorflow:Evaluation [445/1000]\n",
      "INFO:tensorflow:Evaluation [446/1000]\n",
      "INFO:tensorflow:Evaluation [447/1000]\n",
      "INFO:tensorflow:Evaluation [448/1000]\n",
      "INFO:tensorflow:Evaluation [449/1000]\n",
      "INFO:tensorflow:Evaluation [450/1000]\n",
      "INFO:tensorflow:Evaluation [451/1000]\n",
      "INFO:tensorflow:Evaluation [452/1000]\n",
      "INFO:tensorflow:Evaluation [453/1000]\n",
      "INFO:tensorflow:Evaluation [454/1000]\n",
      "INFO:tensorflow:Evaluation [455/1000]\n",
      "INFO:tensorflow:Evaluation [456/1000]\n",
      "INFO:tensorflow:Evaluation [457/1000]\n",
      "INFO:tensorflow:Evaluation [458/1000]\n",
      "INFO:tensorflow:Evaluation [459/1000]\n",
      "INFO:tensorflow:Evaluation [460/1000]\n",
      "INFO:tensorflow:Evaluation [461/1000]\n",
      "INFO:tensorflow:Evaluation [462/1000]\n",
      "INFO:tensorflow:Evaluation [463/1000]\n",
      "INFO:tensorflow:Evaluation [464/1000]\n",
      "INFO:tensorflow:Evaluation [465/1000]\n",
      "INFO:tensorflow:Evaluation [466/1000]\n",
      "INFO:tensorflow:Evaluation [467/1000]\n",
      "INFO:tensorflow:Evaluation [468/1000]\n",
      "INFO:tensorflow:Evaluation [469/1000]\n",
      "INFO:tensorflow:Evaluation [470/1000]\n",
      "INFO:tensorflow:Evaluation [471/1000]\n",
      "INFO:tensorflow:Evaluation [472/1000]\n",
      "INFO:tensorflow:Evaluation [473/1000]\n",
      "INFO:tensorflow:Evaluation [474/1000]\n",
      "INFO:tensorflow:Evaluation [475/1000]\n",
      "INFO:tensorflow:Evaluation [476/1000]\n",
      "INFO:tensorflow:Evaluation [477/1000]\n",
      "INFO:tensorflow:Evaluation [478/1000]\n",
      "INFO:tensorflow:Evaluation [479/1000]\n",
      "INFO:tensorflow:Evaluation [480/1000]\n",
      "INFO:tensorflow:Evaluation [481/1000]\n",
      "INFO:tensorflow:Evaluation [482/1000]\n",
      "INFO:tensorflow:Evaluation [483/1000]\n",
      "INFO:tensorflow:Evaluation [484/1000]\n",
      "INFO:tensorflow:Evaluation [485/1000]\n",
      "INFO:tensorflow:Evaluation [486/1000]\n",
      "INFO:tensorflow:Evaluation [487/1000]\n",
      "INFO:tensorflow:Evaluation [488/1000]\n",
      "INFO:tensorflow:Evaluation [489/1000]\n",
      "INFO:tensorflow:Evaluation [490/1000]\n",
      "INFO:tensorflow:Evaluation [491/1000]\n",
      "INFO:tensorflow:Evaluation [492/1000]\n",
      "INFO:tensorflow:Evaluation [493/1000]\n",
      "INFO:tensorflow:Evaluation [494/1000]\n",
      "INFO:tensorflow:Evaluation [495/1000]\n",
      "INFO:tensorflow:Evaluation [496/1000]\n",
      "INFO:tensorflow:Evaluation [497/1000]\n",
      "INFO:tensorflow:Evaluation [498/1000]\n",
      "INFO:tensorflow:Evaluation [499/1000]\n",
      "INFO:tensorflow:Evaluation [500/1000]\n",
      "INFO:tensorflow:Evaluation [501/1000]\n",
      "INFO:tensorflow:Evaluation [502/1000]\n",
      "INFO:tensorflow:Evaluation [503/1000]\n",
      "INFO:tensorflow:Evaluation [504/1000]\n",
      "INFO:tensorflow:Evaluation [505/1000]\n",
      "INFO:tensorflow:Evaluation [506/1000]\n",
      "INFO:tensorflow:Evaluation [507/1000]\n",
      "INFO:tensorflow:Evaluation [508/1000]\n",
      "INFO:tensorflow:Evaluation [509/1000]\n",
      "INFO:tensorflow:Evaluation [510/1000]\n",
      "INFO:tensorflow:Evaluation [511/1000]\n",
      "INFO:tensorflow:Evaluation [512/1000]\n",
      "INFO:tensorflow:Evaluation [513/1000]\n",
      "INFO:tensorflow:Evaluation [514/1000]\n",
      "INFO:tensorflow:Evaluation [515/1000]\n",
      "INFO:tensorflow:Evaluation [516/1000]\n",
      "INFO:tensorflow:Evaluation [517/1000]\n",
      "INFO:tensorflow:Evaluation [518/1000]\n",
      "INFO:tensorflow:Evaluation [519/1000]\n",
      "INFO:tensorflow:Evaluation [520/1000]\n",
      "INFO:tensorflow:Evaluation [521/1000]\n",
      "INFO:tensorflow:Evaluation [522/1000]\n",
      "INFO:tensorflow:Evaluation [523/1000]\n",
      "INFO:tensorflow:Evaluation [524/1000]\n",
      "INFO:tensorflow:Evaluation [525/1000]\n",
      "INFO:tensorflow:Evaluation [526/1000]\n",
      "INFO:tensorflow:Evaluation [527/1000]\n",
      "INFO:tensorflow:Evaluation [528/1000]\n",
      "INFO:tensorflow:Evaluation [529/1000]\n",
      "INFO:tensorflow:Evaluation [530/1000]\n",
      "INFO:tensorflow:Evaluation [531/1000]\n",
      "INFO:tensorflow:Evaluation [532/1000]\n",
      "INFO:tensorflow:Evaluation [533/1000]\n",
      "INFO:tensorflow:Evaluation [534/1000]\n",
      "INFO:tensorflow:Evaluation [535/1000]\n",
      "INFO:tensorflow:Evaluation [536/1000]\n",
      "INFO:tensorflow:Evaluation [537/1000]\n",
      "INFO:tensorflow:Evaluation [538/1000]\n",
      "INFO:tensorflow:Evaluation [539/1000]\n",
      "INFO:tensorflow:Evaluation [540/1000]\n",
      "INFO:tensorflow:Evaluation [541/1000]\n",
      "INFO:tensorflow:Evaluation [542/1000]\n",
      "INFO:tensorflow:Evaluation [543/1000]\n",
      "INFO:tensorflow:Evaluation [544/1000]\n",
      "INFO:tensorflow:Evaluation [545/1000]\n",
      "INFO:tensorflow:Evaluation [546/1000]\n",
      "INFO:tensorflow:Evaluation [547/1000]\n",
      "INFO:tensorflow:Evaluation [548/1000]\n",
      "INFO:tensorflow:Evaluation [549/1000]\n",
      "INFO:tensorflow:Evaluation [550/1000]\n",
      "INFO:tensorflow:Evaluation [551/1000]\n",
      "INFO:tensorflow:Evaluation [552/1000]\n",
      "INFO:tensorflow:Evaluation [553/1000]\n",
      "INFO:tensorflow:Evaluation [554/1000]\n",
      "INFO:tensorflow:Evaluation [555/1000]\n",
      "INFO:tensorflow:Evaluation [556/1000]\n",
      "INFO:tensorflow:Evaluation [557/1000]\n",
      "INFO:tensorflow:Evaluation [558/1000]\n",
      "INFO:tensorflow:Evaluation [559/1000]\n",
      "INFO:tensorflow:Evaluation [560/1000]\n",
      "INFO:tensorflow:Evaluation [561/1000]\n",
      "INFO:tensorflow:Evaluation [562/1000]\n",
      "INFO:tensorflow:Evaluation [563/1000]\n",
      "INFO:tensorflow:Evaluation [564/1000]\n",
      "INFO:tensorflow:Evaluation [565/1000]\n",
      "INFO:tensorflow:Evaluation [566/1000]\n",
      "INFO:tensorflow:Evaluation [567/1000]\n",
      "INFO:tensorflow:Evaluation [568/1000]\n",
      "INFO:tensorflow:Evaluation [569/1000]\n",
      "INFO:tensorflow:Evaluation [570/1000]\n",
      "INFO:tensorflow:Evaluation [571/1000]\n",
      "INFO:tensorflow:Evaluation [572/1000]\n",
      "INFO:tensorflow:Evaluation [573/1000]\n",
      "INFO:tensorflow:Evaluation [574/1000]\n",
      "INFO:tensorflow:Evaluation [575/1000]\n",
      "INFO:tensorflow:Evaluation [576/1000]\n",
      "INFO:tensorflow:Evaluation [577/1000]\n",
      "INFO:tensorflow:Evaluation [578/1000]\n",
      "INFO:tensorflow:Evaluation [579/1000]\n",
      "INFO:tensorflow:Evaluation [580/1000]\n",
      "INFO:tensorflow:Evaluation [581/1000]\n",
      "INFO:tensorflow:Evaluation [582/1000]\n",
      "INFO:tensorflow:Evaluation [583/1000]\n",
      "INFO:tensorflow:Evaluation [584/1000]\n",
      "INFO:tensorflow:Evaluation [585/1000]\n",
      "INFO:tensorflow:Evaluation [586/1000]\n",
      "INFO:tensorflow:Evaluation [587/1000]\n",
      "INFO:tensorflow:Evaluation [588/1000]\n",
      "INFO:tensorflow:Evaluation [589/1000]\n",
      "INFO:tensorflow:Evaluation [590/1000]\n",
      "INFO:tensorflow:Evaluation [591/1000]\n",
      "INFO:tensorflow:Evaluation [592/1000]\n",
      "INFO:tensorflow:Evaluation [593/1000]\n",
      "INFO:tensorflow:Evaluation [594/1000]\n",
      "INFO:tensorflow:Evaluation [595/1000]\n",
      "INFO:tensorflow:Evaluation [596/1000]\n",
      "INFO:tensorflow:Evaluation [597/1000]\n",
      "INFO:tensorflow:Evaluation [598/1000]\n",
      "INFO:tensorflow:Evaluation [599/1000]\n",
      "INFO:tensorflow:Evaluation [600/1000]\n",
      "INFO:tensorflow:Evaluation [601/1000]\n",
      "INFO:tensorflow:Evaluation [602/1000]\n",
      "INFO:tensorflow:Evaluation [603/1000]\n",
      "INFO:tensorflow:Evaluation [604/1000]\n",
      "INFO:tensorflow:Evaluation [605/1000]\n",
      "INFO:tensorflow:Evaluation [606/1000]\n",
      "INFO:tensorflow:Evaluation [607/1000]\n",
      "INFO:tensorflow:Evaluation [608/1000]\n",
      "INFO:tensorflow:Evaluation [609/1000]\n",
      "INFO:tensorflow:Evaluation [610/1000]\n",
      "INFO:tensorflow:Evaluation [611/1000]\n",
      "INFO:tensorflow:Evaluation [612/1000]\n",
      "INFO:tensorflow:Evaluation [613/1000]\n",
      "INFO:tensorflow:Evaluation [614/1000]\n",
      "INFO:tensorflow:Evaluation [615/1000]\n",
      "INFO:tensorflow:Evaluation [616/1000]\n",
      "INFO:tensorflow:Evaluation [617/1000]\n",
      "INFO:tensorflow:Evaluation [618/1000]\n",
      "INFO:tensorflow:Evaluation [619/1000]\n",
      "INFO:tensorflow:Evaluation [620/1000]\n",
      "INFO:tensorflow:Evaluation [621/1000]\n",
      "INFO:tensorflow:Evaluation [622/1000]\n",
      "INFO:tensorflow:Evaluation [623/1000]\n",
      "INFO:tensorflow:Evaluation [624/1000]\n",
      "INFO:tensorflow:Evaluation [625/1000]\n",
      "INFO:tensorflow:Evaluation [626/1000]\n",
      "INFO:tensorflow:Evaluation [627/1000]\n",
      "INFO:tensorflow:Evaluation [628/1000]\n",
      "INFO:tensorflow:Evaluation [629/1000]\n",
      "INFO:tensorflow:Evaluation [630/1000]\n",
      "INFO:tensorflow:Evaluation [631/1000]\n",
      "INFO:tensorflow:Evaluation [632/1000]\n",
      "INFO:tensorflow:Evaluation [633/1000]\n",
      "INFO:tensorflow:Evaluation [634/1000]\n",
      "INFO:tensorflow:Evaluation [635/1000]\n",
      "INFO:tensorflow:Evaluation [636/1000]\n",
      "INFO:tensorflow:Evaluation [637/1000]\n",
      "INFO:tensorflow:Evaluation [638/1000]\n",
      "INFO:tensorflow:Evaluation [639/1000]\n",
      "INFO:tensorflow:Evaluation [640/1000]\n",
      "INFO:tensorflow:Evaluation [641/1000]\n",
      "INFO:tensorflow:Evaluation [642/1000]\n",
      "INFO:tensorflow:Evaluation [643/1000]\n",
      "INFO:tensorflow:Evaluation [644/1000]\n",
      "INFO:tensorflow:Evaluation [645/1000]\n",
      "INFO:tensorflow:Evaluation [646/1000]\n",
      "INFO:tensorflow:Evaluation [647/1000]\n",
      "INFO:tensorflow:Evaluation [648/1000]\n",
      "INFO:tensorflow:Evaluation [649/1000]\n",
      "INFO:tensorflow:Evaluation [650/1000]\n",
      "INFO:tensorflow:Evaluation [651/1000]\n",
      "INFO:tensorflow:Evaluation [652/1000]\n",
      "INFO:tensorflow:Evaluation [653/1000]\n",
      "INFO:tensorflow:Evaluation [654/1000]\n",
      "INFO:tensorflow:Evaluation [655/1000]\n",
      "INFO:tensorflow:Evaluation [656/1000]\n",
      "INFO:tensorflow:Evaluation [657/1000]\n",
      "INFO:tensorflow:Evaluation [658/1000]\n",
      "INFO:tensorflow:Evaluation [659/1000]\n",
      "INFO:tensorflow:Evaluation [660/1000]\n",
      "INFO:tensorflow:Evaluation [661/1000]\n",
      "INFO:tensorflow:Evaluation [662/1000]\n",
      "INFO:tensorflow:Evaluation [663/1000]\n",
      "INFO:tensorflow:Evaluation [664/1000]\n",
      "INFO:tensorflow:Evaluation [665/1000]\n",
      "INFO:tensorflow:Evaluation [666/1000]\n",
      "INFO:tensorflow:Evaluation [667/1000]\n",
      "INFO:tensorflow:Evaluation [668/1000]\n",
      "INFO:tensorflow:Evaluation [669/1000]\n",
      "INFO:tensorflow:Evaluation [670/1000]\n",
      "INFO:tensorflow:Evaluation [671/1000]\n",
      "INFO:tensorflow:Evaluation [672/1000]\n",
      "INFO:tensorflow:Evaluation [673/1000]\n",
      "INFO:tensorflow:Evaluation [674/1000]\n",
      "INFO:tensorflow:Evaluation [675/1000]\n",
      "INFO:tensorflow:Evaluation [676/1000]\n",
      "INFO:tensorflow:Evaluation [677/1000]\n",
      "INFO:tensorflow:Evaluation [678/1000]\n",
      "INFO:tensorflow:Evaluation [679/1000]\n",
      "INFO:tensorflow:Evaluation [680/1000]\n",
      "INFO:tensorflow:Evaluation [681/1000]\n",
      "INFO:tensorflow:Evaluation [682/1000]\n",
      "INFO:tensorflow:Evaluation [683/1000]\n",
      "INFO:tensorflow:Evaluation [684/1000]\n",
      "INFO:tensorflow:Evaluation [685/1000]\n",
      "INFO:tensorflow:Evaluation [686/1000]\n",
      "INFO:tensorflow:Evaluation [687/1000]\n",
      "INFO:tensorflow:Evaluation [688/1000]\n",
      "INFO:tensorflow:Evaluation [689/1000]\n",
      "INFO:tensorflow:Evaluation [690/1000]\n",
      "INFO:tensorflow:Evaluation [691/1000]\n",
      "INFO:tensorflow:Evaluation [692/1000]\n",
      "INFO:tensorflow:Evaluation [693/1000]\n",
      "INFO:tensorflow:Evaluation [694/1000]\n",
      "INFO:tensorflow:Evaluation [695/1000]\n",
      "INFO:tensorflow:Evaluation [696/1000]\n",
      "INFO:tensorflow:Evaluation [697/1000]\n",
      "INFO:tensorflow:Evaluation [698/1000]\n",
      "INFO:tensorflow:Evaluation [699/1000]\n",
      "INFO:tensorflow:Evaluation [700/1000]\n",
      "INFO:tensorflow:Evaluation [701/1000]\n",
      "INFO:tensorflow:Evaluation [702/1000]\n",
      "INFO:tensorflow:Evaluation [703/1000]\n",
      "INFO:tensorflow:Evaluation [704/1000]\n",
      "INFO:tensorflow:Evaluation [705/1000]\n",
      "INFO:tensorflow:Evaluation [706/1000]\n",
      "INFO:tensorflow:Evaluation [707/1000]\n",
      "INFO:tensorflow:Evaluation [708/1000]\n",
      "INFO:tensorflow:Evaluation [709/1000]\n",
      "INFO:tensorflow:Evaluation [710/1000]\n",
      "INFO:tensorflow:Evaluation [711/1000]\n",
      "INFO:tensorflow:Evaluation [712/1000]\n",
      "INFO:tensorflow:Evaluation [713/1000]\n",
      "INFO:tensorflow:Evaluation [714/1000]\n",
      "INFO:tensorflow:Evaluation [715/1000]\n",
      "INFO:tensorflow:Evaluation [716/1000]\n",
      "INFO:tensorflow:Evaluation [717/1000]\n",
      "INFO:tensorflow:Evaluation [718/1000]\n",
      "INFO:tensorflow:Evaluation [719/1000]\n",
      "INFO:tensorflow:Evaluation [720/1000]\n",
      "INFO:tensorflow:Evaluation [721/1000]\n",
      "INFO:tensorflow:Evaluation [722/1000]\n",
      "INFO:tensorflow:Evaluation [723/1000]\n",
      "INFO:tensorflow:Evaluation [724/1000]\n",
      "INFO:tensorflow:Evaluation [725/1000]\n",
      "INFO:tensorflow:Evaluation [726/1000]\n",
      "INFO:tensorflow:Evaluation [727/1000]\n",
      "INFO:tensorflow:Evaluation [728/1000]\n",
      "INFO:tensorflow:Evaluation [729/1000]\n",
      "INFO:tensorflow:Evaluation [730/1000]\n",
      "INFO:tensorflow:Evaluation [731/1000]\n",
      "INFO:tensorflow:Evaluation [732/1000]\n",
      "INFO:tensorflow:Evaluation [733/1000]\n",
      "INFO:tensorflow:Evaluation [734/1000]\n",
      "INFO:tensorflow:Evaluation [735/1000]\n",
      "INFO:tensorflow:Evaluation [736/1000]\n",
      "INFO:tensorflow:Evaluation [737/1000]\n",
      "INFO:tensorflow:Evaluation [738/1000]\n",
      "INFO:tensorflow:Evaluation [739/1000]\n",
      "INFO:tensorflow:Evaluation [740/1000]\n",
      "INFO:tensorflow:Evaluation [741/1000]\n",
      "INFO:tensorflow:Evaluation [742/1000]\n",
      "INFO:tensorflow:Evaluation [743/1000]\n",
      "INFO:tensorflow:Evaluation [744/1000]\n",
      "INFO:tensorflow:Evaluation [745/1000]\n",
      "INFO:tensorflow:Evaluation [746/1000]\n",
      "INFO:tensorflow:Evaluation [747/1000]\n",
      "INFO:tensorflow:Evaluation [748/1000]\n",
      "INFO:tensorflow:Evaluation [749/1000]\n",
      "INFO:tensorflow:Evaluation [750/1000]\n",
      "INFO:tensorflow:Evaluation [751/1000]\n",
      "INFO:tensorflow:Evaluation [752/1000]\n",
      "INFO:tensorflow:Evaluation [753/1000]\n",
      "INFO:tensorflow:Evaluation [754/1000]\n",
      "INFO:tensorflow:Evaluation [755/1000]\n",
      "INFO:tensorflow:Evaluation [756/1000]\n",
      "INFO:tensorflow:Evaluation [757/1000]\n",
      "INFO:tensorflow:Evaluation [758/1000]\n",
      "INFO:tensorflow:Evaluation [759/1000]\n",
      "INFO:tensorflow:Evaluation [760/1000]\n",
      "INFO:tensorflow:Evaluation [761/1000]\n",
      "INFO:tensorflow:Evaluation [762/1000]\n",
      "INFO:tensorflow:Evaluation [763/1000]\n",
      "INFO:tensorflow:Evaluation [764/1000]\n",
      "INFO:tensorflow:Evaluation [765/1000]\n",
      "INFO:tensorflow:Evaluation [766/1000]\n",
      "INFO:tensorflow:Evaluation [767/1000]\n",
      "INFO:tensorflow:Evaluation [768/1000]\n",
      "INFO:tensorflow:Evaluation [769/1000]\n",
      "INFO:tensorflow:Evaluation [770/1000]\n",
      "INFO:tensorflow:Evaluation [771/1000]\n",
      "INFO:tensorflow:Evaluation [772/1000]\n",
      "INFO:tensorflow:Evaluation [773/1000]\n",
      "INFO:tensorflow:Evaluation [774/1000]\n",
      "INFO:tensorflow:Evaluation [775/1000]\n",
      "INFO:tensorflow:Evaluation [776/1000]\n",
      "INFO:tensorflow:Evaluation [777/1000]\n",
      "INFO:tensorflow:Evaluation [778/1000]\n",
      "INFO:tensorflow:Evaluation [779/1000]\n",
      "INFO:tensorflow:Evaluation [780/1000]\n",
      "INFO:tensorflow:Evaluation [781/1000]\n",
      "INFO:tensorflow:Evaluation [782/1000]\n",
      "INFO:tensorflow:Evaluation [783/1000]\n",
      "INFO:tensorflow:Evaluation [784/1000]\n",
      "INFO:tensorflow:Evaluation [785/1000]\n",
      "INFO:tensorflow:Evaluation [786/1000]\n",
      "INFO:tensorflow:Evaluation [787/1000]\n",
      "INFO:tensorflow:Evaluation [788/1000]\n",
      "INFO:tensorflow:Evaluation [789/1000]\n",
      "INFO:tensorflow:Evaluation [790/1000]\n",
      "INFO:tensorflow:Evaluation [791/1000]\n",
      "INFO:tensorflow:Evaluation [792/1000]\n",
      "INFO:tensorflow:Evaluation [793/1000]\n",
      "INFO:tensorflow:Evaluation [794/1000]\n",
      "INFO:tensorflow:Evaluation [795/1000]\n",
      "INFO:tensorflow:Evaluation [796/1000]\n",
      "INFO:tensorflow:Evaluation [797/1000]\n",
      "INFO:tensorflow:Evaluation [798/1000]\n",
      "INFO:tensorflow:Evaluation [799/1000]\n",
      "INFO:tensorflow:Evaluation [800/1000]\n",
      "INFO:tensorflow:Evaluation [801/1000]\n",
      "INFO:tensorflow:Evaluation [802/1000]\n",
      "INFO:tensorflow:Evaluation [803/1000]\n",
      "INFO:tensorflow:Evaluation [804/1000]\n",
      "INFO:tensorflow:Evaluation [805/1000]\n",
      "INFO:tensorflow:Evaluation [806/1000]\n",
      "INFO:tensorflow:Evaluation [807/1000]\n",
      "INFO:tensorflow:Evaluation [808/1000]\n",
      "INFO:tensorflow:Evaluation [809/1000]\n",
      "INFO:tensorflow:Evaluation [810/1000]\n",
      "INFO:tensorflow:Evaluation [811/1000]\n",
      "INFO:tensorflow:Evaluation [812/1000]\n",
      "INFO:tensorflow:Evaluation [813/1000]\n",
      "INFO:tensorflow:Evaluation [814/1000]\n",
      "INFO:tensorflow:Evaluation [815/1000]\n",
      "INFO:tensorflow:Evaluation [816/1000]\n",
      "INFO:tensorflow:Evaluation [817/1000]\n",
      "INFO:tensorflow:Evaluation [818/1000]\n",
      "INFO:tensorflow:Evaluation [819/1000]\n",
      "INFO:tensorflow:Evaluation [820/1000]\n",
      "INFO:tensorflow:Evaluation [821/1000]\n",
      "INFO:tensorflow:Evaluation [822/1000]\n",
      "INFO:tensorflow:Evaluation [823/1000]\n",
      "INFO:tensorflow:Evaluation [824/1000]\n",
      "INFO:tensorflow:Evaluation [825/1000]\n",
      "INFO:tensorflow:Evaluation [826/1000]\n",
      "INFO:tensorflow:Evaluation [827/1000]\n",
      "INFO:tensorflow:Evaluation [828/1000]\n",
      "INFO:tensorflow:Evaluation [829/1000]\n",
      "INFO:tensorflow:Evaluation [830/1000]\n",
      "INFO:tensorflow:Evaluation [831/1000]\n",
      "INFO:tensorflow:Evaluation [832/1000]\n",
      "INFO:tensorflow:Evaluation [833/1000]\n",
      "INFO:tensorflow:Evaluation [834/1000]\n",
      "INFO:tensorflow:Evaluation [835/1000]\n",
      "INFO:tensorflow:Evaluation [836/1000]\n",
      "INFO:tensorflow:Evaluation [837/1000]\n",
      "INFO:tensorflow:Evaluation [838/1000]\n",
      "INFO:tensorflow:Evaluation [839/1000]\n",
      "INFO:tensorflow:Evaluation [840/1000]\n",
      "INFO:tensorflow:Evaluation [841/1000]\n",
      "INFO:tensorflow:Evaluation [842/1000]\n",
      "INFO:tensorflow:Evaluation [843/1000]\n",
      "INFO:tensorflow:Evaluation [844/1000]\n",
      "INFO:tensorflow:Evaluation [845/1000]\n",
      "INFO:tensorflow:Evaluation [846/1000]\n",
      "INFO:tensorflow:Evaluation [847/1000]\n",
      "INFO:tensorflow:Evaluation [848/1000]\n",
      "INFO:tensorflow:Evaluation [849/1000]\n",
      "INFO:tensorflow:Evaluation [850/1000]\n",
      "INFO:tensorflow:Evaluation [851/1000]\n",
      "INFO:tensorflow:Evaluation [852/1000]\n",
      "INFO:tensorflow:Evaluation [853/1000]\n",
      "INFO:tensorflow:Evaluation [854/1000]\n",
      "INFO:tensorflow:Evaluation [855/1000]\n",
      "INFO:tensorflow:Evaluation [856/1000]\n",
      "INFO:tensorflow:Evaluation [857/1000]\n",
      "INFO:tensorflow:Evaluation [858/1000]\n",
      "INFO:tensorflow:Evaluation [859/1000]\n",
      "INFO:tensorflow:Evaluation [860/1000]\n",
      "INFO:tensorflow:Evaluation [861/1000]\n",
      "INFO:tensorflow:Evaluation [862/1000]\n",
      "INFO:tensorflow:Evaluation [863/1000]\n",
      "INFO:tensorflow:Evaluation [864/1000]\n",
      "INFO:tensorflow:Evaluation [865/1000]\n",
      "INFO:tensorflow:Evaluation [866/1000]\n",
      "INFO:tensorflow:Evaluation [867/1000]\n",
      "INFO:tensorflow:Evaluation [868/1000]\n",
      "INFO:tensorflow:Evaluation [869/1000]\n",
      "INFO:tensorflow:Evaluation [870/1000]\n",
      "INFO:tensorflow:Evaluation [871/1000]\n",
      "INFO:tensorflow:Evaluation [872/1000]\n",
      "INFO:tensorflow:Evaluation [873/1000]\n",
      "INFO:tensorflow:Evaluation [874/1000]\n",
      "INFO:tensorflow:Evaluation [875/1000]\n",
      "INFO:tensorflow:Evaluation [876/1000]\n",
      "INFO:tensorflow:Evaluation [877/1000]\n",
      "INFO:tensorflow:Evaluation [878/1000]\n",
      "INFO:tensorflow:Evaluation [879/1000]\n",
      "INFO:tensorflow:Evaluation [880/1000]\n",
      "INFO:tensorflow:Evaluation [881/1000]\n",
      "INFO:tensorflow:Evaluation [882/1000]\n",
      "INFO:tensorflow:Evaluation [883/1000]\n",
      "INFO:tensorflow:Evaluation [884/1000]\n",
      "INFO:tensorflow:Evaluation [885/1000]\n",
      "INFO:tensorflow:Evaluation [886/1000]\n",
      "INFO:tensorflow:Evaluation [887/1000]\n",
      "INFO:tensorflow:Evaluation [888/1000]\n",
      "INFO:tensorflow:Evaluation [889/1000]\n",
      "INFO:tensorflow:Evaluation [890/1000]\n",
      "INFO:tensorflow:Evaluation [891/1000]\n",
      "INFO:tensorflow:Evaluation [892/1000]\n",
      "INFO:tensorflow:Evaluation [893/1000]\n",
      "INFO:tensorflow:Evaluation [894/1000]\n",
      "INFO:tensorflow:Evaluation [895/1000]\n",
      "INFO:tensorflow:Evaluation [896/1000]\n",
      "INFO:tensorflow:Evaluation [897/1000]\n",
      "INFO:tensorflow:Evaluation [898/1000]\n",
      "INFO:tensorflow:Evaluation [899/1000]\n",
      "INFO:tensorflow:Evaluation [900/1000]\n",
      "INFO:tensorflow:Evaluation [901/1000]\n",
      "INFO:tensorflow:Evaluation [902/1000]\n",
      "INFO:tensorflow:Evaluation [903/1000]\n",
      "INFO:tensorflow:Evaluation [904/1000]\n",
      "INFO:tensorflow:Evaluation [905/1000]\n",
      "INFO:tensorflow:Evaluation [906/1000]\n",
      "INFO:tensorflow:Evaluation [907/1000]\n",
      "INFO:tensorflow:Evaluation [908/1000]\n",
      "INFO:tensorflow:Evaluation [909/1000]\n",
      "INFO:tensorflow:Evaluation [910/1000]\n",
      "INFO:tensorflow:Evaluation [911/1000]\n",
      "INFO:tensorflow:Evaluation [912/1000]\n",
      "INFO:tensorflow:Evaluation [913/1000]\n",
      "INFO:tensorflow:Evaluation [914/1000]\n",
      "INFO:tensorflow:Evaluation [915/1000]\n",
      "INFO:tensorflow:Evaluation [916/1000]\n",
      "INFO:tensorflow:Evaluation [917/1000]\n",
      "INFO:tensorflow:Evaluation [918/1000]\n",
      "INFO:tensorflow:Evaluation [919/1000]\n",
      "INFO:tensorflow:Evaluation [920/1000]\n",
      "INFO:tensorflow:Evaluation [921/1000]\n",
      "INFO:tensorflow:Evaluation [922/1000]\n",
      "INFO:tensorflow:Evaluation [923/1000]\n",
      "INFO:tensorflow:Evaluation [924/1000]\n",
      "INFO:tensorflow:Evaluation [925/1000]\n",
      "INFO:tensorflow:Evaluation [926/1000]\n",
      "INFO:tensorflow:Evaluation [927/1000]\n",
      "INFO:tensorflow:Evaluation [928/1000]\n",
      "INFO:tensorflow:Evaluation [929/1000]\n",
      "INFO:tensorflow:Evaluation [930/1000]\n",
      "INFO:tensorflow:Evaluation [931/1000]\n",
      "INFO:tensorflow:Evaluation [932/1000]\n",
      "INFO:tensorflow:Evaluation [933/1000]\n",
      "INFO:tensorflow:Evaluation [934/1000]\n",
      "INFO:tensorflow:Evaluation [935/1000]\n",
      "INFO:tensorflow:Evaluation [936/1000]\n",
      "INFO:tensorflow:Evaluation [937/1000]\n",
      "INFO:tensorflow:Evaluation [938/1000]\n",
      "INFO:tensorflow:Evaluation [939/1000]\n",
      "INFO:tensorflow:Evaluation [940/1000]\n",
      "INFO:tensorflow:Evaluation [941/1000]\n",
      "INFO:tensorflow:Evaluation [942/1000]\n",
      "INFO:tensorflow:Evaluation [943/1000]\n",
      "INFO:tensorflow:Evaluation [944/1000]\n",
      "INFO:tensorflow:Evaluation [945/1000]\n",
      "INFO:tensorflow:Evaluation [946/1000]\n",
      "INFO:tensorflow:Evaluation [947/1000]\n",
      "INFO:tensorflow:Evaluation [948/1000]\n",
      "INFO:tensorflow:Evaluation [949/1000]\n",
      "INFO:tensorflow:Evaluation [950/1000]\n",
      "INFO:tensorflow:Evaluation [951/1000]\n",
      "INFO:tensorflow:Evaluation [952/1000]\n",
      "INFO:tensorflow:Evaluation [953/1000]\n",
      "INFO:tensorflow:Evaluation [954/1000]\n",
      "INFO:tensorflow:Evaluation [955/1000]\n",
      "INFO:tensorflow:Evaluation [956/1000]\n",
      "INFO:tensorflow:Evaluation [957/1000]\n",
      "INFO:tensorflow:Evaluation [958/1000]\n",
      "INFO:tensorflow:Evaluation [959/1000]\n",
      "INFO:tensorflow:Evaluation [960/1000]\n",
      "INFO:tensorflow:Evaluation [961/1000]\n",
      "INFO:tensorflow:Evaluation [962/1000]\n",
      "INFO:tensorflow:Evaluation [963/1000]\n",
      "INFO:tensorflow:Evaluation [964/1000]\n",
      "INFO:tensorflow:Evaluation [965/1000]\n",
      "INFO:tensorflow:Evaluation [966/1000]\n",
      "INFO:tensorflow:Evaluation [967/1000]\n",
      "INFO:tensorflow:Evaluation [968/1000]\n",
      "INFO:tensorflow:Evaluation [969/1000]\n",
      "INFO:tensorflow:Evaluation [970/1000]\n",
      "INFO:tensorflow:Evaluation [971/1000]\n",
      "INFO:tensorflow:Evaluation [972/1000]\n",
      "INFO:tensorflow:Evaluation [973/1000]\n",
      "INFO:tensorflow:Evaluation [974/1000]\n",
      "INFO:tensorflow:Evaluation [975/1000]\n",
      "INFO:tensorflow:Evaluation [976/1000]\n",
      "INFO:tensorflow:Evaluation [977/1000]\n",
      "INFO:tensorflow:Evaluation [978/1000]\n",
      "INFO:tensorflow:Evaluation [979/1000]\n",
      "INFO:tensorflow:Evaluation [980/1000]\n",
      "INFO:tensorflow:Evaluation [981/1000]\n",
      "INFO:tensorflow:Evaluation [982/1000]\n",
      "INFO:tensorflow:Evaluation [983/1000]\n",
      "INFO:tensorflow:Evaluation [984/1000]\n",
      "INFO:tensorflow:Evaluation [985/1000]\n",
      "INFO:tensorflow:Evaluation [986/1000]\n",
      "INFO:tensorflow:Evaluation [987/1000]\n",
      "INFO:tensorflow:Evaluation [988/1000]\n",
      "INFO:tensorflow:Evaluation [989/1000]\n",
      "INFO:tensorflow:Evaluation [990/1000]\n",
      "INFO:tensorflow:Evaluation [991/1000]\n",
      "INFO:tensorflow:Evaluation [992/1000]\n",
      "INFO:tensorflow:Evaluation [993/1000]\n",
      "INFO:tensorflow:Evaluation [994/1000]\n",
      "INFO:tensorflow:Evaluation [995/1000]\n",
      "INFO:tensorflow:Evaluation [996/1000]\n",
      "INFO:tensorflow:Evaluation [997/1000]\n",
      "INFO:tensorflow:Evaluation [998/1000]\n",
      "INFO:tensorflow:Evaluation [999/1000]\n",
      "INFO:tensorflow:Evaluation [1000/1000]\n",
      "INFO:tensorflow:Finished evaluation at 2019-06-20-16:45:05\n",
      "INFO:tensorflow:Saving dict for global step 1000: average_loss = 1.05231, global_step = 1000, loss = 8.41845\n"
     ]
    }
   ],
   "source": [
    "eval_metrics = estimator.evaluate(input_fn=eval_input_func,steps=1000)"
   ]
  },
  {
   "cell_type": "code",
   "execution_count": 639,
   "metadata": {},
   "outputs": [
    {
     "name": "stdout",
     "output_type": "stream",
     "text": [
      "TRAINING DATA METRICS\n",
      "{'global_step': 1000, 'average_loss': 1.0817941, 'loss': 8.6543531}\n"
     ]
    }
   ],
   "source": [
    "print(\"TRAINING DATA METRICS\")\n",
    "print(train_metrics)"
   ]
  },
  {
   "cell_type": "code",
   "execution_count": 640,
   "metadata": {},
   "outputs": [
    {
     "name": "stdout",
     "output_type": "stream",
     "text": [
      "EVAL DATA METRICS\n",
      "{'global_step': 1000, 'average_loss': 1.0523065, 'loss': 8.4184523}\n"
     ]
    }
   ],
   "source": [
    "print(\"EVAL DATA METRICS\")\n",
    "print(eval_metrics)"
   ]
  },
  {
   "cell_type": "code",
   "execution_count": 641,
   "metadata": {},
   "outputs": [],
   "source": [
    "brand_new_data = np.linspace(0,10,10)\n",
    "input_fn_predict = tf.estimator.inputs.numpy_input_fn({'x':brand_new_data},\n",
    "                                                     shuffle=False)"
   ]
  },
  {
   "cell_type": "code",
   "execution_count": 642,
   "metadata": {},
   "outputs": [
    {
     "name": "stdout",
     "output_type": "stream",
     "text": [
      "INFO:tensorflow:Restoring parameters from /var/folders/s1/h9x0_mhx4tn1dfstx3w6gvhc0000gn/T/tmphi0jq6px/model.ckpt-1000\n"
     ]
    },
    {
     "data": {
      "text/plain": [
       "[{'predictions': array([ 4.41204643], dtype=float32)},\n",
       " {'predictions': array([ 5.06675959], dtype=float32)},\n",
       " {'predictions': array([ 5.72147274], dtype=float32)},\n",
       " {'predictions': array([ 6.37618542], dtype=float32)},\n",
       " {'predictions': array([ 7.03089857], dtype=float32)},\n",
       " {'predictions': array([ 7.68561125], dtype=float32)},\n",
       " {'predictions': array([ 8.3403244], dtype=float32)},\n",
       " {'predictions': array([ 8.99503708], dtype=float32)},\n",
       " {'predictions': array([ 9.64975071], dtype=float32)},\n",
       " {'predictions': array([ 10.30446339], dtype=float32)}]"
      ]
     },
     "execution_count": 642,
     "metadata": {},
     "output_type": "execute_result"
    }
   ],
   "source": [
    "list(estimator.predict(input_fn=input_fn_predict))"
   ]
  },
  {
   "cell_type": "code",
   "execution_count": 643,
   "metadata": {},
   "outputs": [
    {
     "name": "stdout",
     "output_type": "stream",
     "text": [
      "INFO:tensorflow:Restoring parameters from /var/folders/s1/h9x0_mhx4tn1dfstx3w6gvhc0000gn/T/tmphi0jq6px/model.ckpt-1000\n"
     ]
    }
   ],
   "source": [
    "predictions = []\n",
    "\n",
    "for pred in estimator.predict(input_fn=input_fn_predict):\n",
    "    \n",
    "    predictions.append(pred['predictions'])"
   ]
  },
  {
   "cell_type": "code",
   "execution_count": 644,
   "metadata": {},
   "outputs": [
    {
     "data": {
      "text/plain": [
       "[array([ 4.41204643], dtype=float32),\n",
       " array([ 5.06675959], dtype=float32),\n",
       " array([ 5.72147274], dtype=float32),\n",
       " array([ 6.37618542], dtype=float32),\n",
       " array([ 7.03089857], dtype=float32),\n",
       " array([ 7.68561125], dtype=float32),\n",
       " array([ 8.3403244], dtype=float32),\n",
       " array([ 8.99503708], dtype=float32),\n",
       " array([ 9.64975071], dtype=float32),\n",
       " array([ 10.30446339], dtype=float32)]"
      ]
     },
     "execution_count": 644,
     "metadata": {},
     "output_type": "execute_result"
    }
   ],
   "source": [
    "predictions"
   ]
  },
  {
   "cell_type": "code",
   "execution_count": 645,
   "metadata": {},
   "outputs": [
    {
     "data": {
      "text/plain": [
       "[<matplotlib.lines.Line2D at 0x12124def0>]"
      ]
     },
     "execution_count": 645,
     "metadata": {},
     "output_type": "execute_result"
    },
    {
     "data": {
      "image/png": "[encoded data removed]",
      "text/plain": [
       "<matplotlib.figure.Figure at 0x11a187ef0>"
      ]
     },
     "metadata": {
      "needs_background": "light"
     },
     "output_type": "display_data"
    }
   ],
   "source": [
    "my_data.sample(n=250).plot(kind='scatter',x='X Data',y='Y')\n",
    "plt.plot(brand_new_data,predictions,'r')"
   ]
  },
  {
   "cell_type": "markdown",
   "metadata": {},
   "source": [
    "# Classification"
   ]
  },
  {
   "cell_type": "code",
   "execution_count": 646,
   "metadata": {},
   "outputs": [],
   "source": [
    "diabetes = pd.read_csv('02-TensorFlow-Basics/pima-indians-diabetes.csv')"
   ]
  },
  {
   "cell_type": "code",
   "execution_count": 647,
   "metadata": {},
   "outputs": [
    {
     "data": {
      "text/html": [
       "<div>\n",
       "<style>\n",
       "    .dataframe thead tr:only-child th {\n",
       "        text-align: right;\n",
       "    }\n",
       "\n",
       "    .dataframe thead th {\n",
       "        text-align: left;\n",
       "    }\n",
       "\n",
       "    .dataframe tbody tr th {\n",
       "        vertical-align: top;\n",
       "    }\n",
       "</style>\n",
       "<table border=\"1\" class=\"dataframe\">\n",
       "  <thead>\n",
       "    <tr style=\"text-align: right;\">\n",
       "      <th></th>\n",
       "      <th>Number_pregnant</th>\n",
       "      <th>Glucose_concentration</th>\n",
       "      <th>Blood_pressure</th>\n",
       "      <th>Triceps</th>\n",
       "      <th>Insulin</th>\n",
       "      <th>BMI</th>\n",
       "      <th>Pedigree</th>\n",
       "      <th>Age</th>\n",
       "      <th>Class</th>\n",
       "      <th>Group</th>\n",
       "    </tr>\n",
       "  </thead>\n",
       "  <tbody>\n",
       "    <tr>\n",
       "      <th>0</th>\n",
       "      <td>6</td>\n",
       "      <td>0.743719</td>\n",
       "      <td>0.590164</td>\n",
       "      <td>0.353535</td>\n",
       "      <td>0.000000</td>\n",
       "      <td>0.500745</td>\n",
       "      <td>0.234415</td>\n",
       "      <td>50</td>\n",
       "      <td>1</td>\n",
       "      <td>B</td>\n",
       "    </tr>\n",
       "    <tr>\n",
       "      <th>1</th>\n",
       "      <td>1</td>\n",
       "      <td>0.427136</td>\n",
       "      <td>0.540984</td>\n",
       "      <td>0.292929</td>\n",
       "      <td>0.000000</td>\n",
       "      <td>0.396423</td>\n",
       "      <td>0.116567</td>\n",
       "      <td>31</td>\n",
       "      <td>0</td>\n",
       "      <td>C</td>\n",
       "    </tr>\n",
       "    <tr>\n",
       "      <th>2</th>\n",
       "      <td>8</td>\n",
       "      <td>0.919598</td>\n",
       "      <td>0.524590</td>\n",
       "      <td>0.000000</td>\n",
       "      <td>0.000000</td>\n",
       "      <td>0.347243</td>\n",
       "      <td>0.253629</td>\n",
       "      <td>32</td>\n",
       "      <td>1</td>\n",
       "      <td>B</td>\n",
       "    </tr>\n",
       "    <tr>\n",
       "      <th>3</th>\n",
       "      <td>1</td>\n",
       "      <td>0.447236</td>\n",
       "      <td>0.540984</td>\n",
       "      <td>0.232323</td>\n",
       "      <td>0.111111</td>\n",
       "      <td>0.418778</td>\n",
       "      <td>0.038002</td>\n",
       "      <td>21</td>\n",
       "      <td>0</td>\n",
       "      <td>B</td>\n",
       "    </tr>\n",
       "    <tr>\n",
       "      <th>4</th>\n",
       "      <td>0</td>\n",
       "      <td>0.688442</td>\n",
       "      <td>0.327869</td>\n",
       "      <td>0.353535</td>\n",
       "      <td>0.198582</td>\n",
       "      <td>0.642325</td>\n",
       "      <td>0.943638</td>\n",
       "      <td>33</td>\n",
       "      <td>1</td>\n",
       "      <td>C</td>\n",
       "    </tr>\n",
       "  </tbody>\n",
       "</table>\n",
       "</div>"
      ],
      "text/plain": [
       "   Number_pregnant  Glucose_concentration  Blood_pressure   Triceps   Insulin  \\\n",
       "0                6               0.743719        0.590164  0.353535  0.000000   \n",
       "1                1               0.427136        0.540984  0.292929  0.000000   \n",
       "2                8               0.919598        0.524590  0.000000  0.000000   \n",
       "3                1               0.447236        0.540984  0.232323  0.111111   \n",
       "4                0               0.688442        0.327869  0.353535  0.198582   \n",
       "\n",
       "        BMI  Pedigree  Age  Class Group  \n",
       "0  0.500745  0.234415   50      1     B  \n",
       "1  0.396423  0.116567   31      0     C  \n",
       "2  0.347243  0.253629   32      1     B  \n",
       "3  0.418778  0.038002   21      0     B  \n",
       "4  0.642325  0.943638   33      1     C  "
      ]
     },
     "execution_count": 647,
     "metadata": {},
     "output_type": "execute_result"
    }
   ],
   "source": [
    "diabetes.head()"
   ]
  },
  {
   "cell_type": "code",
   "execution_count": 648,
   "metadata": {},
   "outputs": [
    {
     "data": {
      "text/plain": [
       "Index(['Number_pregnant', 'Glucose_concentration', 'Blood_pressure', 'Triceps',\n",
       "       'Insulin', 'BMI', 'Pedigree', 'Age', 'Class', 'Group'],\n",
       "      dtype='object')"
      ]
     },
     "execution_count": 648,
     "metadata": {},
     "output_type": "execute_result"
    }
   ],
   "source": [
    "diabetes.columns"
   ]
  },
  {
   "cell_type": "code",
   "execution_count": 649,
   "metadata": {},
   "outputs": [],
   "source": [
    "# normalize data\n",
    "\n",
    "cols_to_norm = ['Number_pregnant', 'Glucose_concentration', 'Blood_pressure', 'Triceps',\n",
    "       'Insulin', 'BMI', 'Pedigree']\n"
   ]
  },
  {
   "cell_type": "code",
   "execution_count": 650,
   "metadata": {},
   "outputs": [],
   "source": [
    "diabetes[cols_to_norm] = diabetes[cols_to_norm].apply(lambda x: (x - x.min()) / (x.max() - x.min())) "
   ]
  },
  {
   "cell_type": "code",
   "execution_count": 651,
   "metadata": {},
   "outputs": [
    {
     "data": {
      "text/html": [
       "<div>\n",
       "<style>\n",
       "    .dataframe thead tr:only-child th {\n",
       "        text-align: right;\n",
       "    }\n",
       "\n",
       "    .dataframe thead th {\n",
       "        text-align: left;\n",
       "    }\n",
       "\n",
       "    .dataframe tbody tr th {\n",
       "        vertical-align: top;\n",
       "    }\n",
       "</style>\n",
       "<table border=\"1\" class=\"dataframe\">\n",
       "  <thead>\n",
       "    <tr style=\"text-align: right;\">\n",
       "      <th></th>\n",
       "      <th>Number_pregnant</th>\n",
       "      <th>Glucose_concentration</th>\n",
       "      <th>Blood_pressure</th>\n",
       "      <th>Triceps</th>\n",
       "      <th>Insulin</th>\n",
       "      <th>BMI</th>\n",
       "      <th>Pedigree</th>\n",
       "      <th>Age</th>\n",
       "      <th>Class</th>\n",
       "      <th>Group</th>\n",
       "    </tr>\n",
       "  </thead>\n",
       "  <tbody>\n",
       "    <tr>\n",
       "      <th>0</th>\n",
       "      <td>0.352941</td>\n",
       "      <td>0.743719</td>\n",
       "      <td>0.590164</td>\n",
       "      <td>0.353535</td>\n",
       "      <td>0.000000</td>\n",
       "      <td>0.500745</td>\n",
       "      <td>0.234415</td>\n",
       "      <td>50</td>\n",
       "      <td>1</td>\n",
       "      <td>B</td>\n",
       "    </tr>\n",
       "    <tr>\n",
       "      <th>1</th>\n",
       "      <td>0.058824</td>\n",
       "      <td>0.427136</td>\n",
       "      <td>0.540984</td>\n",
       "      <td>0.292929</td>\n",
       "      <td>0.000000</td>\n",
       "      <td>0.396423</td>\n",
       "      <td>0.116567</td>\n",
       "      <td>31</td>\n",
       "      <td>0</td>\n",
       "      <td>C</td>\n",
       "    </tr>\n",
       "    <tr>\n",
       "      <th>2</th>\n",
       "      <td>0.470588</td>\n",
       "      <td>0.919598</td>\n",
       "      <td>0.524590</td>\n",
       "      <td>0.000000</td>\n",
       "      <td>0.000000</td>\n",
       "      <td>0.347243</td>\n",
       "      <td>0.253629</td>\n",
       "      <td>32</td>\n",
       "      <td>1</td>\n",
       "      <td>B</td>\n",
       "    </tr>\n",
       "    <tr>\n",
       "      <th>3</th>\n",
       "      <td>0.058824</td>\n",
       "      <td>0.447236</td>\n",
       "      <td>0.540984</td>\n",
       "      <td>0.232323</td>\n",
       "      <td>0.111111</td>\n",
       "      <td>0.418778</td>\n",
       "      <td>0.038002</td>\n",
       "      <td>21</td>\n",
       "      <td>0</td>\n",
       "      <td>B</td>\n",
       "    </tr>\n",
       "    <tr>\n",
       "      <th>4</th>\n",
       "      <td>0.000000</td>\n",
       "      <td>0.688442</td>\n",
       "      <td>0.327869</td>\n",
       "      <td>0.353535</td>\n",
       "      <td>0.198582</td>\n",
       "      <td>0.642325</td>\n",
       "      <td>0.943638</td>\n",
       "      <td>33</td>\n",
       "      <td>1</td>\n",
       "      <td>C</td>\n",
       "    </tr>\n",
       "  </tbody>\n",
       "</table>\n",
       "</div>"
      ],
      "text/plain": [
       "   Number_pregnant  Glucose_concentration  Blood_pressure   Triceps   Insulin  \\\n",
       "0         0.352941               0.743719        0.590164  0.353535  0.000000   \n",
       "1         0.058824               0.427136        0.540984  0.292929  0.000000   \n",
       "2         0.470588               0.919598        0.524590  0.000000  0.000000   \n",
       "3         0.058824               0.447236        0.540984  0.232323  0.111111   \n",
       "4         0.000000               0.688442        0.327869  0.353535  0.198582   \n",
       "\n",
       "        BMI  Pedigree  Age  Class Group  \n",
       "0  0.500745  0.234415   50      1     B  \n",
       "1  0.396423  0.116567   31      0     C  \n",
       "2  0.347243  0.253629   32      1     B  \n",
       "3  0.418778  0.038002   21      0     B  \n",
       "4  0.642325  0.943638   33      1     C  "
      ]
     },
     "execution_count": 651,
     "metadata": {},
     "output_type": "execute_result"
    }
   ],
   "source": [
    "diabetes.head()"
   ]
  },
  {
   "cell_type": "code",
   "execution_count": 652,
   "metadata": {},
   "outputs": [
    {
     "data": {
      "text/plain": [
       "Index(['Number_pregnant', 'Glucose_concentration', 'Blood_pressure', 'Triceps',\n",
       "       'Insulin', 'BMI', 'Pedigree', 'Age', 'Class', 'Group'],\n",
       "      dtype='object')"
      ]
     },
     "execution_count": 652,
     "metadata": {},
     "output_type": "execute_result"
    }
   ],
   "source": [
    "diabetes.columns"
   ]
  },
  {
   "cell_type": "code",
   "execution_count": 653,
   "metadata": {},
   "outputs": [],
   "source": [
    "num_preg = tf.feature_column.numeric_column('Number_pregnant')\n",
    "plasma_gluc = tf.feature_column.numeric_column('Glucose_concentration')\n",
    "dias_press = tf.feature_column.numeric_column('Blood_pressure')\n",
    "tricep = tf.feature_column.numeric_column('Triceps')\n",
    "insulin = tf.feature_column.numeric_column('Insulin')\n",
    "bmi = tf.feature_column.numeric_column('BMI')\n",
    "diabetes_pedigress = tf.feature_column.numeric_column('Pedigree')\n",
    "age = tf.feature_column.numeric_column('Age')"
   ]
  },
  {
   "cell_type": "code",
   "execution_count": 654,
   "metadata": {},
   "outputs": [],
   "source": [
    "assigned_group = tf.feature_column.categorical_column_with_vocabulary_list('Group',['A','B','C','D'])\n"
   ]
  },
  {
   "cell_type": "code",
   "execution_count": 655,
   "metadata": {},
   "outputs": [],
   "source": [
    "#assigned_group = tf.feature_column.categorical_column_with_hash_bucket('Group',hash_bucket_size=10)"
   ]
  },
  {
   "cell_type": "code",
   "execution_count": 656,
   "metadata": {},
   "outputs": [
    {
     "data": {
      "text/plain": [
       "<matplotlib.axes._subplots.AxesSubplot at 0x1202b28d0>"
      ]
     },
     "execution_count": 656,
     "metadata": {},
     "output_type": "execute_result"
    },
    {
     "data": {
      "image/png": "[encoded data removed]",
      "text/plain": [
       "<matplotlib.figure.Figure at 0x11e0b2080>"
      ]
     },
     "metadata": {
      "needs_background": "light"
     },
     "output_type": "display_data"
    }
   ],
   "source": [
    "diabetes['Age'].hist(bins=20)"
   ]
  },
  {
   "cell_type": "code",
   "execution_count": 657,
   "metadata": {},
   "outputs": [],
   "source": [
    "age_bucket = tf.feature_column.bucketized_column(age,boundaries=[20,30,40,50,60,70,80])"
   ]
  },
  {
   "cell_type": "code",
   "execution_count": 658,
   "metadata": {},
   "outputs": [],
   "source": [
    "feat_cols = [num_preg,plasma_gluc,dias_press,tricep,insulin,bmi,\n",
    "             diabetes_pedigress,age_bucket]"
   ]
  },
  {
   "cell_type": "code",
   "execution_count": 659,
   "metadata": {},
   "outputs": [],
   "source": [
    "# TRAIN TEST SPLIT\n",
    "\n",
    "x_data = diabetes.drop('Class',axis=1)"
   ]
  },
  {
   "cell_type": "code",
   "execution_count": 660,
   "metadata": {},
   "outputs": [
    {
     "data": {
      "text/html": [
       "<div>\n",
       "<style>\n",
       "    .dataframe thead tr:only-child th {\n",
       "        text-align: right;\n",
       "    }\n",
       "\n",
       "    .dataframe thead th {\n",
       "        text-align: left;\n",
       "    }\n",
       "\n",
       "    .dataframe tbody tr th {\n",
       "        vertical-align: top;\n",
       "    }\n",
       "</style>\n",
       "<table border=\"1\" class=\"dataframe\">\n",
       "  <thead>\n",
       "    <tr style=\"text-align: right;\">\n",
       "      <th></th>\n",
       "      <th>Number_pregnant</th>\n",
       "      <th>Glucose_concentration</th>\n",
       "      <th>Blood_pressure</th>\n",
       "      <th>Triceps</th>\n",
       "      <th>Insulin</th>\n",
       "      <th>BMI</th>\n",
       "      <th>Pedigree</th>\n",
       "      <th>Age</th>\n",
       "      <th>Group</th>\n",
       "    </tr>\n",
       "  </thead>\n",
       "  <tbody>\n",
       "    <tr>\n",
       "      <th>0</th>\n",
       "      <td>0.352941</td>\n",
       "      <td>0.743719</td>\n",
       "      <td>0.590164</td>\n",
       "      <td>0.353535</td>\n",
       "      <td>0.000000</td>\n",
       "      <td>0.500745</td>\n",
       "      <td>0.234415</td>\n",
       "      <td>50</td>\n",
       "      <td>B</td>\n",
       "    </tr>\n",
       "    <tr>\n",
       "      <th>1</th>\n",
       "      <td>0.058824</td>\n",
       "      <td>0.427136</td>\n",
       "      <td>0.540984</td>\n",
       "      <td>0.292929</td>\n",
       "      <td>0.000000</td>\n",
       "      <td>0.396423</td>\n",
       "      <td>0.116567</td>\n",
       "      <td>31</td>\n",
       "      <td>C</td>\n",
       "    </tr>\n",
       "    <tr>\n",
       "      <th>2</th>\n",
       "      <td>0.470588</td>\n",
       "      <td>0.919598</td>\n",
       "      <td>0.524590</td>\n",
       "      <td>0.000000</td>\n",
       "      <td>0.000000</td>\n",
       "      <td>0.347243</td>\n",
       "      <td>0.253629</td>\n",
       "      <td>32</td>\n",
       "      <td>B</td>\n",
       "    </tr>\n",
       "    <tr>\n",
       "      <th>3</th>\n",
       "      <td>0.058824</td>\n",
       "      <td>0.447236</td>\n",
       "      <td>0.540984</td>\n",
       "      <td>0.232323</td>\n",
       "      <td>0.111111</td>\n",
       "      <td>0.418778</td>\n",
       "      <td>0.038002</td>\n",
       "      <td>21</td>\n",
       "      <td>B</td>\n",
       "    </tr>\n",
       "    <tr>\n",
       "      <th>4</th>\n",
       "      <td>0.000000</td>\n",
       "      <td>0.688442</td>\n",
       "      <td>0.327869</td>\n",
       "      <td>0.353535</td>\n",
       "      <td>0.198582</td>\n",
       "      <td>0.642325</td>\n",
       "      <td>0.943638</td>\n",
       "      <td>33</td>\n",
       "      <td>C</td>\n",
       "    </tr>\n",
       "  </tbody>\n",
       "</table>\n",
       "</div>"
      ],
      "text/plain": [
       "   Number_pregnant  Glucose_concentration  Blood_pressure   Triceps   Insulin  \\\n",
       "0         0.352941               0.743719        0.590164  0.353535  0.000000   \n",
       "1         0.058824               0.427136        0.540984  0.292929  0.000000   \n",
       "2         0.470588               0.919598        0.524590  0.000000  0.000000   \n",
       "3         0.058824               0.447236        0.540984  0.232323  0.111111   \n",
       "4         0.000000               0.688442        0.327869  0.353535  0.198582   \n",
       "\n",
       "        BMI  Pedigree  Age Group  \n",
       "0  0.500745  0.234415   50     B  \n",
       "1  0.396423  0.116567   31     C  \n",
       "2  0.347243  0.253629   32     B  \n",
       "3  0.418778  0.038002   21     B  \n",
       "4  0.642325  0.943638   33     C  "
      ]
     },
     "execution_count": 660,
     "metadata": {},
     "output_type": "execute_result"
    }
   ],
   "source": [
    "x_data.head()"
   ]
  },
  {
   "cell_type": "code",
   "execution_count": 661,
   "metadata": {},
   "outputs": [],
   "source": [
    "labels = diabetes['Class']"
   ]
  },
  {
   "cell_type": "code",
   "execution_count": 662,
   "metadata": {},
   "outputs": [],
   "source": [
    "# labels"
   ]
  },
  {
   "cell_type": "code",
   "execution_count": 663,
   "metadata": {},
   "outputs": [],
   "source": [
    "X_train, X_test, y_train, y_test = train_test_split(x_data,labels,test_size=0.3,random_state=101)"
   ]
  },
  {
   "cell_type": "code",
   "execution_count": 664,
   "metadata": {},
   "outputs": [],
   "source": [
    "input_func = tf.estimator.inputs.pandas_input_fn(x=X_train, y=y_train, \n",
    "                                                 batch_size=10, num_epochs=1000,\n",
    "                                                shuffle=True)\n"
   ]
  },
  {
   "cell_type": "code",
   "execution_count": 665,
   "metadata": {},
   "outputs": [
    {
     "name": "stdout",
     "output_type": "stream",
     "text": [
      "INFO:tensorflow:Using default config.\n",
      "WARNING:tensorflow:Using temporary folder as model directory: /var/folders/s1/h9x0_mhx4tn1dfstx3w6gvhc0000gn/T/tmpkt8zwhil\n",
      "INFO:tensorflow:Using config: {'_keep_checkpoint_every_n_hours': 10000, '_save_checkpoints_steps': None, '_model_dir': '/var/folders/s1/h9x0_mhx4tn1dfstx3w6gvhc0000gn/T/tmpkt8zwhil', '_keep_checkpoint_max': 5, '_save_checkpoints_secs': 600, '_session_config': None, '_save_summary_steps': 100, '_tf_random_seed': 1, '_log_step_count_steps': 100}\n"
     ]
    }
   ],
   "source": [
    "model = tf.estimator.LinearClassifier(feature_columns=feat_cols, n_classes=2)"
   ]
  },
  {
   "cell_type": "code",
   "execution_count": 666,
   "metadata": {},
   "outputs": [
    {
     "name": "stdout",
     "output_type": "stream",
     "text": [
      "INFO:tensorflow:Create CheckpointSaverHook.\n",
      "INFO:tensorflow:Saving checkpoints for 1 into /var/folders/s1/h9x0_mhx4tn1dfstx3w6gvhc0000gn/T/tmpkt8zwhil/model.ckpt.\n",
      "INFO:tensorflow:loss = 6.93147, step = 1\n",
      "INFO:tensorflow:global_step/sec: 262.471\n",
      "INFO:tensorflow:loss = 4.67199, step = 101 (0.382 sec)\n",
      "INFO:tensorflow:global_step/sec: 279.493\n",
      "INFO:tensorflow:loss = 5.00093, step = 201 (0.363 sec)\n",
      "INFO:tensorflow:global_step/sec: 251.259\n",
      "INFO:tensorflow:loss = 5.52063, step = 301 (0.396 sec)\n",
      "INFO:tensorflow:global_step/sec: 224.263\n",
      "INFO:tensorflow:loss = 4.85328, step = 401 (0.446 sec)\n",
      "INFO:tensorflow:global_step/sec: 242.985\n",
      "INFO:tensorflow:loss = 3.25719, step = 501 (0.415 sec)\n",
      "INFO:tensorflow:global_step/sec: 256.699\n",
      "INFO:tensorflow:loss = 5.63308, step = 601 (0.385 sec)\n",
      "INFO:tensorflow:global_step/sec: 235.886\n",
      "INFO:tensorflow:loss = 4.78308, step = 701 (0.425 sec)\n",
      "INFO:tensorflow:global_step/sec: 305.913\n",
      "INFO:tensorflow:loss = 5.38971, step = 801 (0.330 sec)\n",
      "INFO:tensorflow:global_step/sec: 283.233\n",
      "INFO:tensorflow:loss = 5.3445, step = 901 (0.351 sec)\n",
      "INFO:tensorflow:Saving checkpoints for 1000 into /var/folders/s1/h9x0_mhx4tn1dfstx3w6gvhc0000gn/T/tmpkt8zwhil/model.ckpt.\n",
      "INFO:tensorflow:Loss for final step: 3.46789.\n"
     ]
    },
    {
     "data": {
      "text/plain": [
       "<tensorflow.python.estimator.canned.linear.LinearClassifier at 0x11fc48860>"
      ]
     },
     "execution_count": 666,
     "metadata": {},
     "output_type": "execute_result"
    }
   ],
   "source": [
    "model.train(input_fn=input_func, steps =1000)"
   ]
  },
  {
   "cell_type": "code",
   "execution_count": 667,
   "metadata": {},
   "outputs": [],
   "source": [
    "eval_input_func = tf.estimator.inputs.pandas_input_fn(x=X_test,y=y_test, \n",
    "                                                      batch_size=10,\n",
    "                                                     num_epochs=1,\n",
    "                                                     shuffle=False)"
   ]
  },
  {
   "cell_type": "code",
   "execution_count": 668,
   "metadata": {},
   "outputs": [
    {
     "name": "stdout",
     "output_type": "stream",
     "text": [
      "WARNING:tensorflow:Casting <dtype: 'float32'> labels to bool.\n",
      "WARNING:tensorflow:Casting <dtype: 'float32'> labels to bool.\n",
      "INFO:tensorflow:Starting evaluation at 2019-06-20-16:45:23\n",
      "INFO:tensorflow:Restoring parameters from /var/folders/s1/h9x0_mhx4tn1dfstx3w6gvhc0000gn/T/tmpkt8zwhil/model.ckpt-1000\n",
      "INFO:tensorflow:Finished evaluation at 2019-06-20-16:45:24\n",
      "INFO:tensorflow:Saving dict for global step 1000: accuracy = 0.718615, accuracy_baseline = 0.649351, auc = 0.799753, auc_precision_recall = 0.648247, average_loss = 0.526921, global_step = 1000, label/mean = 0.350649, loss = 5.07162, prediction/mean = 0.341573\n"
     ]
    }
   ],
   "source": [
    "results = model.evaluate(eval_input_func)"
   ]
  },
  {
   "cell_type": "code",
   "execution_count": 669,
   "metadata": {},
   "outputs": [
    {
     "data": {
      "text/plain": [
       "{'accuracy': 0.7186147,\n",
       " 'accuracy_baseline': 0.64935064,\n",
       " 'auc': 0.79975307,\n",
       " 'auc_precision_recall': 0.64824659,\n",
       " 'average_loss': 0.52692145,\n",
       " 'global_step': 1000,\n",
       " 'label/mean': 0.35064936,\n",
       " 'loss': 5.071619,\n",
       " 'prediction/mean': 0.34157306}"
      ]
     },
     "execution_count": 669,
     "metadata": {},
     "output_type": "execute_result"
    }
   ],
   "source": [
    "results"
   ]
  },
  {
   "cell_type": "code",
   "execution_count": 670,
   "metadata": {},
   "outputs": [],
   "source": [
    "# Prediction does not have y \n",
    "pred_input_func = tf.estimator.inputs.pandas_input_fn(x=X_test,\n",
    "                                                     batch_size=10,\n",
    "                                                     num_epochs=1,\n",
    "                                                     shuffle=False)"
   ]
  },
  {
   "cell_type": "code",
   "execution_count": 671,
   "metadata": {},
   "outputs": [],
   "source": [
    "predictions = model.predict(pred_input_func)"
   ]
  },
  {
   "cell_type": "code",
   "execution_count": 672,
   "metadata": {},
   "outputs": [
    {
     "name": "stdout",
     "output_type": "stream",
     "text": [
      "INFO:tensorflow:Restoring parameters from /var/folders/s1/h9x0_mhx4tn1dfstx3w6gvhc0000gn/T/tmpkt8zwhil/model.ckpt-1000\n"
     ]
    },
    {
     "data": {
      "text/plain": [
       "[{'class_ids': array([0]),\n",
       "  'classes': array([b'0'], dtype=object),\n",
       "  'logistic': array([ 0.47524917], dtype=float32),\n",
       "  'logits': array([-0.09908414], dtype=float32),\n",
       "  'probabilities': array([ 0.52475077,  0.47524917], dtype=float32)},\n",
       " {'class_ids': array([1]),\n",
       "  'classes': array([b'1'], dtype=object),\n",
       "  'logistic': array([ 0.58930862], dtype=float32),\n",
       "  'logits': array([ 0.36110795], dtype=float32),\n",
       "  'probabilities': array([ 0.41069141,  0.58930862], dtype=float32)},\n",
       " {'class_ids': array([0]),\n",
       "  'classes': array([b'0'], dtype=object),\n",
       "  'logistic': array([ 0.35368395], dtype=float32),\n",
       "  'logits': array([-0.60288483], dtype=float32),\n",
       "  'probabilities': array([ 0.64631599,  0.35368398], dtype=float32)},\n",
       " {'class_ids': array([0]),\n",
       "  'classes': array([b'0'], dtype=object),\n",
       "  'logistic': array([ 0.29528078], dtype=float32),\n",
       "  'logits': array([-0.86987281], dtype=float32),\n",
       "  'probabilities': array([ 0.70471919,  0.29528075], dtype=float32)},\n",
       " {'class_ids': array([0]),\n",
       "  'classes': array([b'0'], dtype=object),\n",
       "  'logistic': array([ 0.12496386], dtype=float32),\n",
       "  'logits': array([-1.94624054], dtype=float32),\n",
       "  'probabilities': array([ 0.87503612,  0.12496387], dtype=float32)},\n",
       " {'class_ids': array([1]),\n",
       "  'classes': array([b'1'], dtype=object),\n",
       "  'logistic': array([ 0.65189993], dtype=float32),\n",
       "  'logits': array([ 0.62740111], dtype=float32),\n",
       "  'probabilities': array([ 0.34810007,  0.65189993], dtype=float32)},\n",
       " {'class_ids': array([1]),\n",
       "  'classes': array([b'1'], dtype=object),\n",
       "  'logistic': array([ 0.56606317], dtype=float32),\n",
       "  'logits': array([ 0.26580667], dtype=float32),\n",
       "  'probabilities': array([ 0.43393683,  0.56606317], dtype=float32)},\n",
       " {'class_ids': array([0]),\n",
       "  'classes': array([b'0'], dtype=object),\n",
       "  'logistic': array([ 0.31004569], dtype=float32),\n",
       "  'logits': array([-0.79990572], dtype=float32),\n",
       "  'probabilities': array([ 0.68995428,  0.31004569], dtype=float32)},\n",
       " {'class_ids': array([0]),\n",
       "  'classes': array([b'0'], dtype=object),\n",
       "  'logistic': array([ 0.22099784], dtype=float32),\n",
       "  'logits': array([-1.25986075], dtype=float32),\n",
       "  'probabilities': array([ 0.77900213,  0.22099786], dtype=float32)},\n",
       " {'class_ids': array([0]),\n",
       "  'classes': array([b'0'], dtype=object),\n",
       "  'logistic': array([ 0.20036899], dtype=float32),\n",
       "  'logits': array([-1.38398969], dtype=float32),\n",
       "  'probabilities': array([ 0.799631,  0.200369], dtype=float32)},\n",
       " {'class_ids': array([0]),\n",
       "  'classes': array([b'0'], dtype=object),\n",
       "  'logistic': array([ 0.13994168], dtype=float32),\n",
       "  'logits': array([-1.81577444], dtype=float32),\n",
       "  'probabilities': array([ 0.86005831,  0.13994169], dtype=float32)},\n",
       " {'class_ids': array([0]),\n",
       "  'classes': array([b'0'], dtype=object),\n",
       "  'logistic': array([ 0.13825995], dtype=float32),\n",
       "  'logits': array([-1.82981801], dtype=float32),\n",
       "  'probabilities': array([ 0.86173999,  0.13825995], dtype=float32)},\n",
       " {'class_ids': array([0]),\n",
       "  'classes': array([b'0'], dtype=object),\n",
       "  'logistic': array([ 0.26266935], dtype=float32),\n",
       "  'logits': array([-1.03214037], dtype=float32),\n",
       "  'probabilities': array([ 0.73733068,  0.26266938], dtype=float32)},\n",
       " {'class_ids': array([1]),\n",
       "  'classes': array([b'1'], dtype=object),\n",
       "  'logistic': array([ 0.51477665], dtype=float32),\n",
       "  'logits': array([ 0.05912375], dtype=float32),\n",
       "  'probabilities': array([ 0.48522338,  0.51477665], dtype=float32)},\n",
       " {'class_ids': array([0]),\n",
       "  'classes': array([b'0'], dtype=object),\n",
       "  'logistic': array([ 0.18244612], dtype=float32),\n",
       "  'logits': array([-1.49986184], dtype=float32),\n",
       "  'probabilities': array([ 0.81755388,  0.18244612], dtype=float32)},\n",
       " {'class_ids': array([0]),\n",
       "  'classes': array([b'0'], dtype=object),\n",
       "  'logistic': array([ 0.33507717], dtype=float32),\n",
       "  'logits': array([-0.68531013], dtype=float32),\n",
       "  'probabilities': array([ 0.66492283,  0.33507717], dtype=float32)},\n",
       " {'class_ids': array([0]),\n",
       "  'classes': array([b'0'], dtype=object),\n",
       "  'logistic': array([ 0.36135072], dtype=float32),\n",
       "  'logits': array([-0.56950647], dtype=float32),\n",
       "  'probabilities': array([ 0.63864928,  0.36135072], dtype=float32)},\n",
       " {'class_ids': array([0]),\n",
       "  'classes': array([b'0'], dtype=object),\n",
       "  'logistic': array([ 0.13367043], dtype=float32),\n",
       "  'logits': array([-1.86888814], dtype=float32),\n",
       "  'probabilities': array([ 0.86632961,  0.13367043], dtype=float32)},\n",
       " {'class_ids': array([0]),\n",
       "  'classes': array([b'0'], dtype=object),\n",
       "  'logistic': array([ 0.33195648], dtype=float32),\n",
       "  'logits': array([-0.6993494], dtype=float32),\n",
       "  'probabilities': array([ 0.66804355,  0.33195651], dtype=float32)},\n",
       " {'class_ids': array([0]),\n",
       "  'classes': array([b'0'], dtype=object),\n",
       "  'logistic': array([ 0.13178186], dtype=float32),\n",
       "  'logits': array([-1.88529491], dtype=float32),\n",
       "  'probabilities': array([ 0.86821812,  0.13178186], dtype=float32)},\n",
       " {'class_ids': array([0]),\n",
       "  'classes': array([b'0'], dtype=object),\n",
       "  'logistic': array([ 0.20735316], dtype=float32),\n",
       "  'logits': array([-1.34095442], dtype=float32),\n",
       "  'probabilities': array([ 0.79264688,  0.20735316], dtype=float32)},\n",
       " {'class_ids': array([0]),\n",
       "  'classes': array([b'0'], dtype=object),\n",
       "  'logistic': array([ 0.27595824], dtype=float32),\n",
       "  'logits': array([-0.96459961], dtype=float32),\n",
       "  'probabilities': array([ 0.72404182,  0.27595824], dtype=float32)},\n",
       " {'class_ids': array([1]),\n",
       "  'classes': array([b'1'], dtype=object),\n",
       "  'logistic': array([ 0.60717165], dtype=float32),\n",
       "  'logits': array([ 0.43543887], dtype=float32),\n",
       "  'probabilities': array([ 0.39282832,  0.60717165], dtype=float32)},\n",
       " {'class_ids': array([0]),\n",
       "  'classes': array([b'0'], dtype=object),\n",
       "  'logistic': array([ 0.1843798], dtype=float32),\n",
       "  'logits': array([-1.48695111], dtype=float32),\n",
       "  'probabilities': array([ 0.81562018,  0.18437979], dtype=float32)},\n",
       " {'class_ids': array([0]),\n",
       "  'classes': array([b'0'], dtype=object),\n",
       "  'logistic': array([ 0.18467051], dtype=float32),\n",
       "  'logits': array([-1.48501921], dtype=float32),\n",
       "  'probabilities': array([ 0.81532949,  0.18467049], dtype=float32)},\n",
       " {'class_ids': array([1]),\n",
       "  'classes': array([b'1'], dtype=object),\n",
       "  'logistic': array([ 0.73574185], dtype=float32),\n",
       "  'logits': array([ 1.02395308], dtype=float32),\n",
       "  'probabilities': array([ 0.26425809,  0.73574185], dtype=float32)},\n",
       " {'class_ids': array([0]),\n",
       "  'classes': array([b'0'], dtype=object),\n",
       "  'logistic': array([ 0.17242926], dtype=float32),\n",
       "  'logits': array([-1.56850743], dtype=float32),\n",
       "  'probabilities': array([ 0.82757074,  0.17242928], dtype=float32)},\n",
       " {'class_ids': array([0]),\n",
       "  'classes': array([b'0'], dtype=object),\n",
       "  'logistic': array([ 0.30909446], dtype=float32),\n",
       "  'logits': array([-0.80435616], dtype=float32),\n",
       "  'probabilities': array([ 0.69090551,  0.30909446], dtype=float32)},\n",
       " {'class_ids': array([0]),\n",
       "  'classes': array([b'0'], dtype=object),\n",
       "  'logistic': array([ 0.11438782], dtype=float32),\n",
       "  'logits': array([-2.0466845], dtype=float32),\n",
       "  'probabilities': array([ 0.88561219,  0.11438783], dtype=float32)},\n",
       " {'class_ids': array([1]),\n",
       "  'classes': array([b'1'], dtype=object),\n",
       "  'logistic': array([ 0.53487009], dtype=float32),\n",
       "  'logits': array([ 0.13970721], dtype=float32),\n",
       "  'probabilities': array([ 0.46512988,  0.53487009], dtype=float32)},\n",
       " {'class_ids': array([1]),\n",
       "  'classes': array([b'1'], dtype=object),\n",
       "  'logistic': array([ 0.90782541], dtype=float32),\n",
       "  'logits': array([ 2.28736782], dtype=float32),\n",
       "  'probabilities': array([ 0.09217457,  0.90782541], dtype=float32)},\n",
       " {'class_ids': array([0]),\n",
       "  'classes': array([b'0'], dtype=object),\n",
       "  'logistic': array([ 0.33690524], dtype=float32),\n",
       "  'logits': array([-0.67711627], dtype=float32),\n",
       "  'probabilities': array([ 0.66309482,  0.33690527], dtype=float32)},\n",
       " {'class_ids': array([0]),\n",
       "  'classes': array([b'0'], dtype=object),\n",
       "  'logistic': array([ 0.29003873], dtype=float32),\n",
       "  'logits': array([-0.89519584], dtype=float32),\n",
       "  'probabilities': array([ 0.70996124,  0.29003873], dtype=float32)},\n",
       " {'class_ids': array([1]),\n",
       "  'classes': array([b'1'], dtype=object),\n",
       "  'logistic': array([ 0.51117468], dtype=float32),\n",
       "  'logits': array([ 0.04470623], dtype=float32),\n",
       "  'probabilities': array([ 0.48882529,  0.51117468], dtype=float32)},\n",
       " {'class_ids': array([0]),\n",
       "  'classes': array([b'0'], dtype=object),\n",
       "  'logistic': array([ 0.2477227], dtype=float32),\n",
       "  'logits': array([-1.11079502], dtype=float32),\n",
       "  'probabilities': array([ 0.75227731,  0.24772272], dtype=float32)},\n",
       " {'class_ids': array([0]),\n",
       "  'classes': array([b'0'], dtype=object),\n",
       "  'logistic': array([ 0.37006646], dtype=float32),\n",
       "  'logits': array([-0.53193176], dtype=float32),\n",
       "  'probabilities': array([ 0.62993354,  0.37006646], dtype=float32)},\n",
       " {'class_ids': array([0]),\n",
       "  'classes': array([b'0'], dtype=object),\n",
       "  'logistic': array([ 0.46510336], dtype=float32),\n",
       "  'logits': array([-0.1398139], dtype=float32),\n",
       "  'probabilities': array([ 0.53489661,  0.46510333], dtype=float32)},\n",
       " {'class_ids': array([1]),\n",
       "  'classes': array([b'1'], dtype=object),\n",
       "  'logistic': array([ 0.58081543], dtype=float32),\n",
       "  'logits': array([ 0.32612169], dtype=float32),\n",
       "  'probabilities': array([ 0.4191846 ,  0.58081543], dtype=float32)},\n",
       " {'class_ids': array([1]),\n",
       "  'classes': array([b'1'], dtype=object),\n",
       "  'logistic': array([ 0.72611582], dtype=float32),\n",
       "  'logits': array([ 0.97500432], dtype=float32),\n",
       "  'probabilities': array([ 0.27388415,  0.72611582], dtype=float32)},\n",
       " {'class_ids': array([0]),\n",
       "  'classes': array([b'0'], dtype=object),\n",
       "  'logistic': array([ 0.28375423], dtype=float32),\n",
       "  'logits': array([-0.92591488], dtype=float32),\n",
       "  'probabilities': array([ 0.71624577,  0.28375423], dtype=float32)},\n",
       " {'class_ids': array([0]),\n",
       "  'classes': array([b'0'], dtype=object),\n",
       "  'logistic': array([ 0.17270876], dtype=float32),\n",
       "  'logits': array([-1.56655002], dtype=float32),\n",
       "  'probabilities': array([ 0.82729119,  0.17270876], dtype=float32)},\n",
       " {'class_ids': array([1]),\n",
       "  'classes': array([b'1'], dtype=object),\n",
       "  'logistic': array([ 0.50062573], dtype=float32),\n",
       "  'logits': array([ 0.00250304], dtype=float32),\n",
       "  'probabilities': array([ 0.49937424,  0.50062573], dtype=float32)},\n",
       " {'class_ids': array([0]),\n",
       "  'classes': array([b'0'], dtype=object),\n",
       "  'logistic': array([ 0.15951793], dtype=float32),\n",
       "  'logits': array([-1.66181934], dtype=float32),\n",
       "  'probabilities': array([ 0.84048212,  0.15951793], dtype=float32)},\n",
       " {'class_ids': array([0]),\n",
       "  'classes': array([b'0'], dtype=object),\n",
       "  'logistic': array([ 0.47841418], dtype=float32),\n",
       "  'logits': array([-0.08639693], dtype=float32),\n",
       "  'probabilities': array([ 0.52158582,  0.47841421], dtype=float32)},\n",
       " {'class_ids': array([0]),\n",
       "  'classes': array([b'0'], dtype=object),\n",
       "  'logistic': array([ 0.14822285], dtype=float32),\n",
       "  'logits': array([-1.74860811], dtype=float32),\n",
       "  'probabilities': array([ 0.85177714,  0.14822283], dtype=float32)},\n",
       " {'class_ids': array([0]),\n",
       "  'classes': array([b'0'], dtype=object),\n",
       "  'logistic': array([ 0.12174106], dtype=float32),\n",
       "  'logits': array([-1.97604513], dtype=float32),\n",
       "  'probabilities': array([ 0.87825894,  0.12174106], dtype=float32)},\n",
       " {'class_ids': array([1]),\n",
       "  'classes': array([b'1'], dtype=object),\n",
       "  'logistic': array([ 0.53244448], dtype=float32),\n",
       "  'logits': array([ 0.12996054], dtype=float32),\n",
       "  'probabilities': array([ 0.46755552,  0.53244448], dtype=float32)},\n",
       " {'class_ids': array([0]),\n",
       "  'classes': array([b'0'], dtype=object),\n",
       "  'logistic': array([ 0.15829337], dtype=float32),\n",
       "  'logits': array([-1.67098153], dtype=float32),\n",
       "  'probabilities': array([ 0.84170663,  0.15829335], dtype=float32)},\n",
       " {'class_ids': array([0]),\n",
       "  'classes': array([b'0'], dtype=object),\n",
       "  'logistic': array([ 0.19918127], dtype=float32),\n",
       "  'logits': array([-1.39141929], dtype=float32),\n",
       "  'probabilities': array([ 0.80081868,  0.19918126], dtype=float32)},\n",
       " {'class_ids': array([0]),\n",
       "  'classes': array([b'0'], dtype=object),\n",
       "  'logistic': array([ 0.15292901], dtype=float32),\n",
       "  'logits': array([-1.71181071], dtype=float32),\n",
       "  'probabilities': array([ 0.84707093,  0.15292899], dtype=float32)},\n",
       " {'class_ids': array([0]),\n",
       "  'classes': array([b'0'], dtype=object),\n",
       "  'logistic': array([ 0.15760268], dtype=float32),\n",
       "  'logits': array([-1.67617452], dtype=float32),\n",
       "  'probabilities': array([ 0.84239733,  0.1576027 ], dtype=float32)},\n",
       " {'class_ids': array([0]),\n",
       "  'classes': array([b'0'], dtype=object),\n",
       "  'logistic': array([ 0.2408378], dtype=float32),\n",
       "  'logits': array([-1.14809179], dtype=float32),\n",
       "  'probabilities': array([ 0.75916219,  0.24083778], dtype=float32)},\n",
       " {'class_ids': array([0]),\n",
       "  'classes': array([b'0'], dtype=object),\n",
       "  'logistic': array([ 0.23236971], dtype=float32),\n",
       "  'logits': array([-1.19497859], dtype=float32),\n",
       "  'probabilities': array([ 0.76763034,  0.23236972], dtype=float32)},\n",
       " {'class_ids': array([0]),\n",
       "  'classes': array([b'0'], dtype=object),\n",
       "  'logistic': array([ 0.32295471], dtype=float32),\n",
       "  'logits': array([-0.74022609], dtype=float32),\n",
       "  'probabilities': array([ 0.67704529,  0.32295468], dtype=float32)},\n",
       " {'class_ids': array([0]),\n",
       "  'classes': array([b'0'], dtype=object),\n",
       "  'logistic': array([ 0.13162743], dtype=float32),\n",
       "  'logits': array([-1.88664556], dtype=float32),\n",
       "  'probabilities': array([ 0.86837262,  0.13162743], dtype=float32)},\n",
       " {'class_ids': array([0]),\n",
       "  'classes': array([b'0'], dtype=object),\n",
       "  'logistic': array([ 0.20090069], dtype=float32),\n",
       "  'logits': array([-1.3806746], dtype=float32),\n",
       "  'probabilities': array([ 0.79909933,  0.20090069], dtype=float32)},\n",
       " {'class_ids': array([0]),\n",
       "  'classes': array([b'0'], dtype=object),\n",
       "  'logistic': array([ 0.17726132], dtype=float32),\n",
       "  'logits': array([-1.53501356], dtype=float32),\n",
       "  'probabilities': array([ 0.82273865,  0.17726132], dtype=float32)},\n",
       " {'class_ids': array([0]),\n",
       "  'classes': array([b'0'], dtype=object),\n",
       "  'logistic': array([ 0.21076369], dtype=float32),\n",
       "  'logits': array([-1.32032824], dtype=float32),\n",
       "  'probabilities': array([ 0.78923631,  0.21076369], dtype=float32)},\n",
       " {'class_ids': array([0]),\n",
       "  'classes': array([b'0'], dtype=object),\n",
       "  'logistic': array([ 0.45431831], dtype=float32),\n",
       "  'logits': array([-0.18323755], dtype=float32),\n",
       "  'probabilities': array([ 0.54568166,  0.45431834], dtype=float32)},\n",
       " {'class_ids': array([0]),\n",
       "  'classes': array([b'0'], dtype=object),\n",
       "  'logistic': array([ 0.14530197], dtype=float32),\n",
       "  'logits': array([-1.77193415], dtype=float32),\n",
       "  'probabilities': array([ 0.854698  ,  0.14530197], dtype=float32)},\n",
       " {'class_ids': array([0]),\n",
       "  'classes': array([b'0'], dtype=object),\n",
       "  'logistic': array([ 0.21734256], dtype=float32),\n",
       "  'logits': array([-1.28122044], dtype=float32),\n",
       "  'probabilities': array([ 0.78265744,  0.21734256], dtype=float32)},\n",
       " {'class_ids': array([1]),\n",
       "  'classes': array([b'1'], dtype=object),\n",
       "  'logistic': array([ 0.5736894], dtype=float32),\n",
       "  'logits': array([ 0.29691994], dtype=float32),\n",
       "  'probabilities': array([ 0.4263106,  0.5736894], dtype=float32)},\n",
       " {'class_ids': array([1]),\n",
       "  'classes': array([b'1'], dtype=object),\n",
       "  'logistic': array([ 0.58498472], dtype=float32),\n",
       "  'logits': array([ 0.34327018], dtype=float32),\n",
       "  'probabilities': array([ 0.41501537,  0.58498472], dtype=float32)},\n",
       " {'class_ids': array([0]),\n",
       "  'classes': array([b'0'], dtype=object),\n",
       "  'logistic': array([ 0.4817757], dtype=float32),\n",
       "  'logits': array([-0.0729295], dtype=float32),\n",
       "  'probabilities': array([ 0.5182243 ,  0.48177573], dtype=float32)},\n",
       " {'class_ids': array([0]),\n",
       "  'classes': array([b'0'], dtype=object),\n",
       "  'logistic': array([ 0.32958835], dtype=float32),\n",
       "  'logits': array([-0.71004736], dtype=float32),\n",
       "  'probabilities': array([ 0.67041165,  0.32958838], dtype=float32)},\n",
       " {'class_ids': array([0]),\n",
       "  'classes': array([b'0'], dtype=object),\n",
       "  'logistic': array([ 0.44011787], dtype=float32),\n",
       "  'logits': array([-0.24068367], dtype=float32),\n",
       "  'probabilities': array([ 0.5598821 ,  0.44011787], dtype=float32)},\n",
       " {'class_ids': array([0]),\n",
       "  'classes': array([b'0'], dtype=object),\n",
       "  'logistic': array([ 0.18464586], dtype=float32),\n",
       "  'logits': array([-1.48518276], dtype=float32),\n",
       "  'probabilities': array([ 0.81535417,  0.18464588], dtype=float32)},\n",
       " {'class_ids': array([0]),\n",
       "  'classes': array([b'0'], dtype=object),\n",
       "  'logistic': array([ 0.2006169], dtype=float32),\n",
       "  'logits': array([-1.38244319], dtype=float32),\n",
       "  'probabilities': array([ 0.7993831,  0.2006169], dtype=float32)},\n",
       " {'class_ids': array([0]),\n",
       "  'classes': array([b'0'], dtype=object),\n",
       "  'logistic': array([ 0.14901668], dtype=float32),\n",
       "  'logits': array([-1.74233437], dtype=float32),\n",
       "  'probabilities': array([ 0.85098332,  0.14901666], dtype=float32)},\n",
       " {'class_ids': array([0]),\n",
       "  'classes': array([b'0'], dtype=object),\n",
       "  'logistic': array([ 0.12914127], dtype=float32),\n",
       "  'logits': array([-1.90857279], dtype=float32),\n",
       "  'probabilities': array([ 0.87085879,  0.12914129], dtype=float32)},\n",
       " {'class_ids': array([1]),\n",
       "  'classes': array([b'1'], dtype=object),\n",
       "  'logistic': array([ 0.57227612], dtype=float32),\n",
       "  'logits': array([ 0.29114377], dtype=float32),\n",
       "  'probabilities': array([ 0.42772385,  0.57227612], dtype=float32)},\n",
       " {'class_ids': array([0]),\n",
       "  'classes': array([b'0'], dtype=object),\n",
       "  'logistic': array([ 0.24032214], dtype=float32),\n",
       "  'logits': array([-1.15091407], dtype=float32),\n",
       "  'probabilities': array([ 0.75967783,  0.24032217], dtype=float32)},\n",
       " {'class_ids': array([0]),\n",
       "  'classes': array([b'0'], dtype=object),\n",
       "  'logistic': array([ 0.37097675], dtype=float32),\n",
       "  'logits': array([-0.52802873], dtype=float32),\n",
       "  'probabilities': array([ 0.62902325,  0.37097678], dtype=float32)},\n",
       " {'class_ids': array([1]),\n",
       "  'classes': array([b'1'], dtype=object),\n",
       "  'logistic': array([ 0.51101297], dtype=float32),\n",
       "  'logits': array([ 0.04405916], dtype=float32),\n",
       "  'probabilities': array([ 0.48898697,  0.51101297], dtype=float32)},\n",
       " {'class_ids': array([0]),\n",
       "  'classes': array([b'0'], dtype=object),\n",
       "  'logistic': array([ 0.31051168], dtype=float32),\n",
       "  'logits': array([-0.79772824], dtype=float32),\n",
       "  'probabilities': array([ 0.68948835,  0.31051168], dtype=float32)},\n",
       " {'class_ids': array([1]),\n",
       "  'classes': array([b'1'], dtype=object),\n",
       "  'logistic': array([ 0.5726589], dtype=float32),\n",
       "  'logits': array([ 0.29270792], dtype=float32),\n",
       "  'probabilities': array([ 0.42734101,  0.5726589 ], dtype=float32)},\n",
       " {'class_ids': array([0]),\n",
       "  'classes': array([b'0'], dtype=object),\n",
       "  'logistic': array([ 0.11602414], dtype=float32),\n",
       "  'logits': array([-2.03063154], dtype=float32),\n",
       "  'probabilities': array([ 0.8839758 ,  0.11602412], dtype=float32)},\n",
       " {'class_ids': array([1]),\n",
       "  'classes': array([b'1'], dtype=object),\n",
       "  'logistic': array([ 0.59047312], dtype=float32),\n",
       "  'logits': array([ 0.36592162], dtype=float32),\n",
       "  'probabilities': array([ 0.40952685,  0.59047312], dtype=float32)},\n",
       " {'class_ids': array([0]),\n",
       "  'classes': array([b'0'], dtype=object),\n",
       "  'logistic': array([ 0.13080294], dtype=float32),\n",
       "  'logits': array([-1.89387798], dtype=float32),\n",
       "  'probabilities': array([ 0.86919707,  0.13080294], dtype=float32)},\n",
       " {'class_ids': array([1]),\n",
       "  'classes': array([b'1'], dtype=object),\n",
       "  'logistic': array([ 0.5194608], dtype=float32),\n",
       "  'logits': array([ 0.07788253], dtype=float32),\n",
       "  'probabilities': array([ 0.4805392,  0.5194608], dtype=float32)},\n",
       " {'class_ids': array([0]),\n",
       "  'classes': array([b'0'], dtype=object),\n",
       "  'logistic': array([ 0.32746348], dtype=float32),\n",
       "  'logits': array([-0.71967995], dtype=float32),\n",
       "  'probabilities': array([ 0.67253655,  0.32746348], dtype=float32)},\n",
       " {'class_ids': array([0]),\n",
       "  'classes': array([b'0'], dtype=object),\n",
       "  'logistic': array([ 0.17122184], dtype=float32),\n",
       "  'logits': array([-1.57699251], dtype=float32),\n",
       "  'probabilities': array([ 0.82877815,  0.17122184], dtype=float32)},\n",
       " {'class_ids': array([1]),\n",
       "  'classes': array([b'1'], dtype=object),\n",
       "  'logistic': array([ 0.51547271], dtype=float32),\n",
       "  'logits': array([ 0.06191051], dtype=float32),\n",
       "  'probabilities': array([ 0.48452732,  0.51547271], dtype=float32)},\n",
       " {'class_ids': array([1]),\n",
       "  'classes': array([b'1'], dtype=object),\n",
       "  'logistic': array([ 0.51285177], dtype=float32),\n",
       "  'logits': array([ 0.05141842], dtype=float32),\n",
       "  'probabilities': array([ 0.48714823,  0.51285177], dtype=float32)},\n",
       " {'class_ids': array([1]),\n",
       "  'classes': array([b'1'], dtype=object),\n",
       "  'logistic': array([ 0.50816184], dtype=float32),\n",
       "  'logits': array([ 0.03265035], dtype=float32),\n",
       "  'probabilities': array([ 0.49183813,  0.50816184], dtype=float32)},\n",
       " {'class_ids': array([0]),\n",
       "  'classes': array([b'0'], dtype=object),\n",
       "  'logistic': array([ 0.16445103], dtype=float32),\n",
       "  'logits': array([-1.62547612], dtype=float32),\n",
       "  'probabilities': array([ 0.835549  ,  0.16445103], dtype=float32)},\n",
       " {'class_ids': array([0]),\n",
       "  'classes': array([b'0'], dtype=object),\n",
       "  'logistic': array([ 0.36717615], dtype=float32),\n",
       "  'logits': array([-0.54435045], dtype=float32),\n",
       "  'probabilities': array([ 0.63282388,  0.36717615], dtype=float32)},\n",
       " {'class_ids': array([0]),\n",
       "  'classes': array([b'0'], dtype=object),\n",
       "  'logistic': array([ 0.14658989], dtype=float32),\n",
       "  'logits': array([-1.76160145], dtype=float32),\n",
       "  'probabilities': array([ 0.85341007,  0.14658988], dtype=float32)},\n",
       " {'class_ids': array([1]),\n",
       "  'classes': array([b'1'], dtype=object),\n",
       "  'logistic': array([ 0.67333335], dtype=float32),\n",
       "  'logits': array([ 0.72330034], dtype=float32),\n",
       "  'probabilities': array([ 0.32666662,  0.67333335], dtype=float32)},\n",
       " {'class_ids': array([1]),\n",
       "  'classes': array([b'1'], dtype=object),\n",
       "  'logistic': array([ 0.78491855], dtype=float32),\n",
       "  'logits': array([ 1.29456294], dtype=float32),\n",
       "  'probabilities': array([ 0.2150815 ,  0.78491855], dtype=float32)},\n",
       " {'class_ids': array([1]),\n",
       "  'classes': array([b'1'], dtype=object),\n",
       "  'logistic': array([ 0.54675239], dtype=float32),\n",
       "  'logits': array([ 0.18755758], dtype=float32),\n",
       "  'probabilities': array([ 0.45324758,  0.54675239], dtype=float32)},\n",
       " {'class_ids': array([0]),\n",
       "  'classes': array([b'0'], dtype=object),\n",
       "  'logistic': array([ 0.18699306], dtype=float32),\n",
       "  'logits': array([-1.46966815], dtype=float32),\n",
       "  'probabilities': array([ 0.81300694,  0.18699305], dtype=float32)},\n",
       " {'class_ids': array([0]),\n",
       "  'classes': array([b'0'], dtype=object),\n",
       "  'logistic': array([ 0.45010912], dtype=float32),\n",
       "  'logits': array([-0.20022976], dtype=float32),\n",
       "  'probabilities': array([ 0.54989088,  0.45010915], dtype=float32)},\n",
       " {'class_ids': array([0]),\n",
       "  'classes': array([b'0'], dtype=object),\n",
       "  'logistic': array([ 0.32088599], dtype=float32),\n",
       "  'logits': array([-0.74970317], dtype=float32),\n",
       "  'probabilities': array([ 0.67911404,  0.32088599], dtype=float32)},\n",
       " {'class_ids': array([0]),\n",
       "  'classes': array([b'0'], dtype=object),\n",
       "  'logistic': array([ 0.43091246], dtype=float32),\n",
       "  'logits': array([-0.27812934], dtype=float32),\n",
       "  'probabilities': array([ 0.56908756,  0.43091246], dtype=float32)},\n",
       " {'class_ids': array([0]),\n",
       "  'classes': array([b'0'], dtype=object),\n",
       "  'logistic': array([ 0.33230892], dtype=float32),\n",
       "  'logits': array([-0.69776064], dtype=float32),\n",
       "  'probabilities': array([ 0.66769111,  0.33230892], dtype=float32)},\n",
       " {'class_ids': array([0]),\n",
       "  'classes': array([b'0'], dtype=object),\n",
       "  'logistic': array([ 0.40746567], dtype=float32),\n",
       "  'logits': array([-0.37445217], dtype=float32),\n",
       "  'probabilities': array([ 0.5925343 ,  0.40746564], dtype=float32)},\n",
       " {'class_ids': array([0]),\n",
       "  'classes': array([b'0'], dtype=object),\n",
       "  'logistic': array([ 0.16151188], dtype=float32),\n",
       "  'logits': array([-1.64702165], dtype=float32),\n",
       "  'probabilities': array([ 0.8384881 ,  0.16151188], dtype=float32)},\n",
       " {'class_ids': array([1]),\n",
       "  'classes': array([b'1'], dtype=object),\n",
       "  'logistic': array([ 0.52064538], dtype=float32),\n",
       "  'logits': array([ 0.08262849], dtype=float32),\n",
       "  'probabilities': array([ 0.47935465,  0.52064538], dtype=float32)},\n",
       " {'class_ids': array([0]),\n",
       "  'classes': array([b'0'], dtype=object),\n",
       "  'logistic': array([ 0.48511305], dtype=float32),\n",
       "  'logits': array([-0.05956531], dtype=float32),\n",
       "  'probabilities': array([ 0.51488692,  0.48511308], dtype=float32)},\n",
       " {'class_ids': array([0]),\n",
       "  'classes': array([b'0'], dtype=object),\n",
       "  'logistic': array([ 0.21025653], dtype=float32),\n",
       "  'logits': array([-1.32337987], dtype=float32),\n",
       "  'probabilities': array([ 0.78974348,  0.21025653], dtype=float32)},\n",
       " {'class_ids': array([0]),\n",
       "  'classes': array([b'0'], dtype=object),\n",
       "  'logistic': array([ 0.18011437], dtype=float32),\n",
       "  'logits': array([-1.51557279], dtype=float32),\n",
       "  'probabilities': array([ 0.81988561,  0.18011437], dtype=float32)},\n",
       " {'class_ids': array([0]),\n",
       "  'classes': array([b'0'], dtype=object),\n",
       "  'logistic': array([ 0.1634015], dtype=float32),\n",
       "  'logits': array([-1.63313389], dtype=float32),\n",
       "  'probabilities': array([ 0.83659846,  0.1634015 ], dtype=float32)},\n",
       " {'class_ids': array([0]),\n",
       "  'classes': array([b'0'], dtype=object),\n",
       "  'logistic': array([ 0.23913355], dtype=float32),\n",
       "  'logits': array([-1.15743566], dtype=float32),\n",
       "  'probabilities': array([ 0.76086646,  0.23913355], dtype=float32)},\n",
       " {'class_ids': array([0]),\n",
       "  'classes': array([b'0'], dtype=object),\n",
       "  'logistic': array([ 0.34519315], dtype=float32),\n",
       "  'logits': array([-0.64023614], dtype=float32),\n",
       "  'probabilities': array([ 0.65480685,  0.34519318], dtype=float32)},\n",
       " {'class_ids': array([0]),\n",
       "  'classes': array([b'0'], dtype=object),\n",
       "  'logistic': array([ 0.1437148], dtype=float32),\n",
       "  'logits': array([-1.78477263], dtype=float32),\n",
       "  'probabilities': array([ 0.85628515,  0.14371482], dtype=float32)},\n",
       " {'class_ids': array([0]),\n",
       "  'classes': array([b'0'], dtype=object),\n",
       "  'logistic': array([ 0.26884601], dtype=float32),\n",
       "  'logits': array([-1.00048542], dtype=float32),\n",
       "  'probabilities': array([ 0.73115396,  0.26884598], dtype=float32)},\n",
       " {'class_ids': array([0]),\n",
       "  'classes': array([b'0'], dtype=object),\n",
       "  'logistic': array([ 0.20764819], dtype=float32),\n",
       "  'logits': array([-1.3391602], dtype=float32),\n",
       "  'probabilities': array([ 0.79235178,  0.20764819], dtype=float32)},\n",
       " {'class_ids': array([0]),\n",
       "  'classes': array([b'0'], dtype=object),\n",
       "  'logistic': array([ 0.09740025], dtype=float32),\n",
       "  'logits': array([-2.22645044], dtype=float32),\n",
       "  'probabilities': array([ 0.90259975,  0.09740026], dtype=float32)},\n",
       " {'class_ids': array([0]),\n",
       "  'classes': array([b'0'], dtype=object),\n",
       "  'logistic': array([ 0.13451573], dtype=float32),\n",
       "  'logits': array([-1.86160803], dtype=float32),\n",
       "  'probabilities': array([ 0.8654843 ,  0.13451575], dtype=float32)},\n",
       " {'class_ids': array([1]),\n",
       "  'classes': array([b'1'], dtype=object),\n",
       "  'logistic': array([ 0.68016434], dtype=float32),\n",
       "  'logits': array([ 0.75452697], dtype=float32),\n",
       "  'probabilities': array([ 0.31983572,  0.68016434], dtype=float32)},\n",
       " {'class_ids': array([0]),\n",
       "  'classes': array([b'0'], dtype=object),\n",
       "  'logistic': array([ 0.173729], dtype=float32),\n",
       "  'logits': array([-1.55942619], dtype=float32),\n",
       "  'probabilities': array([ 0.826271,  0.173729], dtype=float32)},\n",
       " {'class_ids': array([0]),\n",
       "  'classes': array([b'0'], dtype=object),\n",
       "  'logistic': array([ 0.14052208], dtype=float32),\n",
       "  'logits': array([-1.81096053], dtype=float32),\n",
       "  'probabilities': array([ 0.85947794,  0.14052208], dtype=float32)},\n",
       " {'class_ids': array([0]),\n",
       "  'classes': array([b'0'], dtype=object),\n",
       "  'logistic': array([ 0.15352939], dtype=float32),\n",
       "  'logits': array([-1.70718336], dtype=float32),\n",
       "  'probabilities': array([ 0.84647059,  0.15352941], dtype=float32)},\n",
       " {'class_ids': array([0]),\n",
       "  'classes': array([b'0'], dtype=object),\n",
       "  'logistic': array([ 0.44842243], dtype=float32),\n",
       "  'logits': array([-0.20704675], dtype=float32),\n",
       "  'probabilities': array([ 0.55157757,  0.44842246], dtype=float32)},\n",
       " {'class_ids': array([0]),\n",
       "  'classes': array([b'0'], dtype=object),\n",
       "  'logistic': array([ 0.39159039], dtype=float32),\n",
       "  'logits': array([-0.44063193], dtype=float32),\n",
       "  'probabilities': array([ 0.60840958,  0.39159039], dtype=float32)},\n",
       " {'class_ids': array([0]),\n",
       "  'classes': array([b'0'], dtype=object),\n",
       "  'logistic': array([ 0.23453528], dtype=float32),\n",
       "  'logits': array([-1.18287718], dtype=float32),\n",
       "  'probabilities': array([ 0.76546472,  0.23453526], dtype=float32)},\n",
       " {'class_ids': array([0]),\n",
       "  'classes': array([b'0'], dtype=object),\n",
       "  'logistic': array([ 0.37089708], dtype=float32),\n",
       "  'logits': array([-0.52837026], dtype=float32),\n",
       "  'probabilities': array([ 0.62910289,  0.37089705], dtype=float32)},\n",
       " {'class_ids': array([0]),\n",
       "  'classes': array([b'0'], dtype=object),\n",
       "  'logistic': array([ 0.1936623], dtype=float32),\n",
       "  'logits': array([-1.42638671], dtype=float32),\n",
       "  'probabilities': array([ 0.80633771,  0.1936623 ], dtype=float32)},\n",
       " {'class_ids': array([0]),\n",
       "  'classes': array([b'0'], dtype=object),\n",
       "  'logistic': array([ 0.20260449], dtype=float32),\n",
       "  'logits': array([-1.37009501], dtype=float32),\n",
       "  'probabilities': array([ 0.79739553,  0.20260452], dtype=float32)},\n",
       " {'class_ids': array([0]),\n",
       "  'classes': array([b'0'], dtype=object),\n",
       "  'logistic': array([ 0.4686766], dtype=float32),\n",
       "  'logits': array([-0.125458], dtype=float32),\n",
       "  'probabilities': array([ 0.53132343,  0.4686766 ], dtype=float32)},\n",
       " {'class_ids': array([0]),\n",
       "  'classes': array([b'0'], dtype=object),\n",
       "  'logistic': array([ 0.45899791], dtype=float32),\n",
       "  'logits': array([-0.16437757], dtype=float32),\n",
       "  'probabilities': array([ 0.54100215,  0.45899794], dtype=float32)},\n",
       " {'class_ids': array([0]),\n",
       "  'classes': array([b'0'], dtype=object),\n",
       "  'logistic': array([ 0.14038722], dtype=float32),\n",
       "  'logits': array([-1.81207764], dtype=float32),\n",
       "  'probabilities': array([ 0.85961282,  0.14038722], dtype=float32)},\n",
       " {'class_ids': array([0]),\n",
       "  'classes': array([b'0'], dtype=object),\n",
       "  'logistic': array([ 0.33902964], dtype=float32),\n",
       "  'logits': array([-0.66762137], dtype=float32),\n",
       "  'probabilities': array([ 0.66097033,  0.33902964], dtype=float32)},\n",
       " {'class_ids': array([1]),\n",
       "  'classes': array([b'1'], dtype=object),\n",
       "  'logistic': array([ 0.62210035], dtype=float32),\n",
       "  'logits': array([ 0.49847293], dtype=float32),\n",
       "  'probabilities': array([ 0.37789959,  0.62210035], dtype=float32)},\n",
       " {'class_ids': array([0]),\n",
       "  'classes': array([b'0'], dtype=object),\n",
       "  'logistic': array([ 0.49088362], dtype=float32),\n",
       "  'logits': array([-0.03646958], dtype=float32),\n",
       "  'probabilities': array([ 0.50911641,  0.49088365], dtype=float32)},\n",
       " {'class_ids': array([0]),\n",
       "  'classes': array([b'0'], dtype=object),\n",
       "  'logistic': array([ 0.36383957], dtype=float32),\n",
       "  'logits': array([-0.55873775], dtype=float32),\n",
       "  'probabilities': array([ 0.63616043,  0.36383957], dtype=float32)},\n",
       " {'class_ids': array([1]),\n",
       "  'classes': array([b'1'], dtype=object),\n",
       "  'logistic': array([ 0.52868015], dtype=float32),\n",
       "  'logits': array([ 0.11484659], dtype=float32),\n",
       "  'probabilities': array([ 0.47131988,  0.52868015], dtype=float32)},\n",
       " {'class_ids': array([0]),\n",
       "  'classes': array([b'0'], dtype=object),\n",
       "  'logistic': array([ 0.20492777], dtype=float32),\n",
       "  'logits': array([-1.35577536], dtype=float32),\n",
       "  'probabilities': array([ 0.7950722 ,  0.20492777], dtype=float32)},\n",
       " {'class_ids': array([0]),\n",
       "  'classes': array([b'0'], dtype=object),\n",
       "  'logistic': array([ 0.19126517], dtype=float32),\n",
       "  'logits': array([-1.44181025], dtype=float32),\n",
       "  'probabilities': array([ 0.80873477,  0.19126517], dtype=float32)},\n",
       " {'class_ids': array([0]),\n",
       "  'classes': array([b'0'], dtype=object),\n",
       "  'logistic': array([ 0.14125985], dtype=float32),\n",
       "  'logits': array([-1.80486524], dtype=float32),\n",
       "  'probabilities': array([ 0.85874009,  0.14125985], dtype=float32)},\n",
       " {'class_ids': array([0]),\n",
       "  'classes': array([b'0'], dtype=object),\n",
       "  'logistic': array([ 0.26122651], dtype=float32),\n",
       "  'logits': array([-1.03960347], dtype=float32),\n",
       "  'probabilities': array([ 0.73877347,  0.26122651], dtype=float32)},\n",
       " {'class_ids': array([0]),\n",
       "  'classes': array([b'0'], dtype=object),\n",
       "  'logistic': array([ 0.46270996], dtype=float32),\n",
       "  'logits': array([-0.14943767], dtype=float32),\n",
       "  'probabilities': array([ 0.53729004,  0.46270993], dtype=float32)},\n",
       " {'class_ids': array([1]),\n",
       "  'classes': array([b'1'], dtype=object),\n",
       "  'logistic': array([ 0.63879025], dtype=float32),\n",
       "  'logits': array([ 0.57011759], dtype=float32),\n",
       "  'probabilities': array([ 0.36120966,  0.63879025], dtype=float32)},\n",
       " {'class_ids': array([0]),\n",
       "  'classes': array([b'0'], dtype=object),\n",
       "  'logistic': array([ 0.23104046], dtype=float32),\n",
       "  'logits': array([-1.20244539], dtype=float32),\n",
       "  'probabilities': array([ 0.76895952,  0.23104049], dtype=float32)},\n",
       " {'class_ids': array([0]),\n",
       "  'classes': array([b'0'], dtype=object),\n",
       "  'logistic': array([ 0.16537999], dtype=float32),\n",
       "  'logits': array([-1.61873078], dtype=float32),\n",
       "  'probabilities': array([ 0.83462   ,  0.16537999], dtype=float32)},\n",
       " {'class_ids': array([0]),\n",
       "  'classes': array([b'0'], dtype=object),\n",
       "  'logistic': array([ 0.34367824], dtype=float32),\n",
       "  'logits': array([-0.6469453], dtype=float32),\n",
       "  'probabilities': array([ 0.65632176,  0.34367824], dtype=float32)},\n",
       " {'class_ids': array([0]),\n",
       "  'classes': array([b'0'], dtype=object),\n",
       "  'logistic': array([ 0.22339304], dtype=float32),\n",
       "  'logits': array([-1.2460016], dtype=float32),\n",
       "  'probabilities': array([ 0.77660698,  0.22339305], dtype=float32)},\n",
       " {'class_ids': array([0]),\n",
       "  'classes': array([b'0'], dtype=object),\n",
       "  'logistic': array([ 0.14650856], dtype=float32),\n",
       "  'logits': array([-1.76225173], dtype=float32),\n",
       "  'probabilities': array([ 0.85349143,  0.14650854], dtype=float32)},\n",
       " {'class_ids': array([0]),\n",
       "  'classes': array([b'0'], dtype=object),\n",
       "  'logistic': array([ 0.16669762], dtype=float32),\n",
       "  'logits': array([-1.60921502], dtype=float32),\n",
       "  'probabilities': array([ 0.83330232,  0.16669762], dtype=float32)},\n",
       " {'class_ids': array([0]),\n",
       "  'classes': array([b'0'], dtype=object),\n",
       "  'logistic': array([ 0.13497917], dtype=float32),\n",
       "  'logits': array([-1.85763311], dtype=float32),\n",
       "  'probabilities': array([ 0.86502087,  0.13497919], dtype=float32)},\n",
       " {'class_ids': array([0]),\n",
       "  'classes': array([b'0'], dtype=object),\n",
       "  'logistic': array([ 0.38215834], dtype=float32),\n",
       "  'logits': array([-0.48039722], dtype=float32),\n",
       "  'probabilities': array([ 0.61784166,  0.38215834], dtype=float32)},\n",
       " {'class_ids': array([1]),\n",
       "  'classes': array([b'1'], dtype=object),\n",
       "  'logistic': array([ 0.70189589], dtype=float32),\n",
       "  'logits': array([ 0.85634243], dtype=float32),\n",
       "  'probabilities': array([ 0.29810408,  0.70189589], dtype=float32)},\n",
       " {'class_ids': array([1]),\n",
       "  'classes': array([b'1'], dtype=object),\n",
       "  'logistic': array([ 0.7269187], dtype=float32),\n",
       "  'logits': array([ 0.9790448], dtype=float32),\n",
       "  'probabilities': array([ 0.27308139,  0.7269187 ], dtype=float32)},\n",
       " {'class_ids': array([0]),\n",
       "  'classes': array([b'0'], dtype=object),\n",
       "  'logistic': array([ 0.49166009], dtype=float32),\n",
       "  'logits': array([-0.03336263], dtype=float32),\n",
       "  'probabilities': array([ 0.50833988,  0.49166012], dtype=float32)},\n",
       " {'class_ids': array([0]),\n",
       "  'classes': array([b'0'], dtype=object),\n",
       "  'logistic': array([ 0.46802413], dtype=float32),\n",
       "  'logits': array([-0.12807834], dtype=float32),\n",
       "  'probabilities': array([ 0.53197587,  0.4680241 ], dtype=float32)},\n",
       " {'class_ids': array([1]),\n",
       "  'classes': array([b'1'], dtype=object),\n",
       "  'logistic': array([ 0.52179992], dtype=float32),\n",
       "  'logits': array([ 0.08725488], dtype=float32),\n",
       "  'probabilities': array([ 0.47820014,  0.52179992], dtype=float32)},\n",
       " {'class_ids': array([0]),\n",
       "  'classes': array([b'0'], dtype=object),\n",
       "  'logistic': array([ 0.11556278], dtype=float32),\n",
       "  'logits': array([-2.03513765], dtype=float32),\n",
       "  'probabilities': array([ 0.88443726,  0.11556278], dtype=float32)},\n",
       " {'class_ids': array([0]),\n",
       "  'classes': array([b'0'], dtype=object),\n",
       "  'logistic': array([ 0.48113555], dtype=float32),\n",
       "  'logits': array([-0.07549357], dtype=float32),\n",
       "  'probabilities': array([ 0.51886445,  0.48113558], dtype=float32)},\n",
       " {'class_ids': array([1]),\n",
       "  'classes': array([b'1'], dtype=object),\n",
       "  'logistic': array([ 0.70359415], dtype=float32),\n",
       "  'logits': array([ 0.86447179], dtype=float32),\n",
       "  'probabilities': array([ 0.29640591,  0.70359415], dtype=float32)},\n",
       " {'class_ids': array([0]),\n",
       "  'classes': array([b'0'], dtype=object),\n",
       "  'logistic': array([ 0.38616219], dtype=float32),\n",
       "  'logits': array([-0.46347332], dtype=float32),\n",
       "  'probabilities': array([ 0.61383778,  0.38616213], dtype=float32)},\n",
       " {'class_ids': array([0]),\n",
       "  'classes': array([b'0'], dtype=object),\n",
       "  'logistic': array([ 0.26077935], dtype=float32),\n",
       "  'logits': array([-1.04192185], dtype=float32),\n",
       "  'probabilities': array([ 0.73922068,  0.26077935], dtype=float32)},\n",
       " {'class_ids': array([0]),\n",
       "  'classes': array([b'0'], dtype=object),\n",
       "  'logistic': array([ 0.31045201], dtype=float32),\n",
       "  'logits': array([-0.79800695], dtype=float32),\n",
       "  'probabilities': array([ 0.68954802,  0.31045201], dtype=float32)},\n",
       " {'class_ids': array([1]),\n",
       "  'classes': array([b'1'], dtype=object),\n",
       "  'logistic': array([ 0.50206596], dtype=float32),\n",
       "  'logits': array([ 0.00826371], dtype=float32),\n",
       "  'probabilities': array([ 0.49793413,  0.50206596], dtype=float32)},\n",
       " {'class_ids': array([0]),\n",
       "  'classes': array([b'0'], dtype=object),\n",
       "  'logistic': array([ 0.22524847], dtype=float32),\n",
       "  'logits': array([-1.23533821], dtype=float32),\n",
       "  'probabilities': array([ 0.77475148,  0.22524846], dtype=float32)},\n",
       " {'class_ids': array([1]),\n",
       "  'classes': array([b'1'], dtype=object),\n",
       "  'logistic': array([ 0.58553487], dtype=float32),\n",
       "  'logits': array([ 0.34553695], dtype=float32),\n",
       "  'probabilities': array([ 0.41446513,  0.58553487], dtype=float32)},\n",
       " {'class_ids': array([0]),\n",
       "  'classes': array([b'0'], dtype=object),\n",
       "  'logistic': array([ 0.39081231], dtype=float32),\n",
       "  'logits': array([-0.44389904], dtype=float32),\n",
       "  'probabilities': array([ 0.60918772,  0.39081231], dtype=float32)},\n",
       " {'class_ids': array([0]),\n",
       "  'classes': array([b'0'], dtype=object),\n",
       "  'logistic': array([ 0.38083112], dtype=float32),\n",
       "  'logits': array([-0.486022], dtype=float32),\n",
       "  'probabilities': array([ 0.61916888,  0.38083112], dtype=float32)},\n",
       " {'class_ids': array([0]),\n",
       "  'classes': array([b'0'], dtype=object),\n",
       "  'logistic': array([ 0.15163183], dtype=float32),\n",
       "  'logits': array([-1.72185934], dtype=float32),\n",
       "  'probabilities': array([ 0.84836823,  0.15163183], dtype=float32)},\n",
       " {'class_ids': array([0]),\n",
       "  'classes': array([b'0'], dtype=object),\n",
       "  'logistic': array([ 0.19688331], dtype=float32),\n",
       "  'logits': array([-1.4058888], dtype=float32),\n",
       "  'probabilities': array([ 0.80311662,  0.19688329], dtype=float32)},\n",
       " {'class_ids': array([0]),\n",
       "  'classes': array([b'0'], dtype=object),\n",
       "  'logistic': array([ 0.18400013], dtype=float32),\n",
       "  'logits': array([-1.48947775], dtype=float32),\n",
       "  'probabilities': array([ 0.81599993,  0.18400015], dtype=float32)},\n",
       " {'class_ids': array([0]),\n",
       "  'classes': array([b'0'], dtype=object),\n",
       "  'logistic': array([ 0.39453444], dtype=float32),\n",
       "  'logits': array([-0.42829126], dtype=float32),\n",
       "  'probabilities': array([ 0.60546559,  0.39453444], dtype=float32)},\n",
       " {'class_ids': array([0]),\n",
       "  'classes': array([b'0'], dtype=object),\n",
       "  'logistic': array([ 0.15045102], dtype=float32),\n",
       "  'logits': array([-1.73106802], dtype=float32),\n",
       "  'probabilities': array([ 0.849549  ,  0.15045103], dtype=float32)},\n",
       " {'class_ids': array([1]),\n",
       "  'classes': array([b'1'], dtype=object),\n",
       "  'logistic': array([ 0.7315532], dtype=float32),\n",
       "  'logits': array([ 1.0025171], dtype=float32),\n",
       "  'probabilities': array([ 0.26844683,  0.7315532 ], dtype=float32)},\n",
       " {'class_ids': array([0]),\n",
       "  'classes': array([b'0'], dtype=object),\n",
       "  'logistic': array([ 0.1855682], dtype=float32),\n",
       "  'logits': array([-1.47906828], dtype=float32),\n",
       "  'probabilities': array([ 0.81443185,  0.1855682 ], dtype=float32)},\n",
       " {'class_ids': array([0]),\n",
       "  'classes': array([b'0'], dtype=object),\n",
       "  'logistic': array([ 0.43965718], dtype=float32),\n",
       "  'logits': array([-0.24255359], dtype=float32),\n",
       "  'probabilities': array([ 0.56034285,  0.43965718], dtype=float32)},\n",
       " {'class_ids': array([0]),\n",
       "  'classes': array([b'0'], dtype=object),\n",
       "  'logistic': array([ 0.15717515], dtype=float32),\n",
       "  'logits': array([-1.6793983], dtype=float32),\n",
       "  'probabilities': array([ 0.84282488,  0.15717517], dtype=float32)},\n",
       " {'class_ids': array([1]),\n",
       "  'classes': array([b'1'], dtype=object),\n",
       "  'logistic': array([ 0.63218701], dtype=float32),\n",
       "  'logits': array([ 0.54161072], dtype=float32),\n",
       "  'probabilities': array([ 0.36781296,  0.63218701], dtype=float32)},\n",
       " {'class_ids': array([0]),\n",
       "  'classes': array([b'0'], dtype=object),\n",
       "  'logistic': array([ 0.2864351], dtype=float32),\n",
       "  'logits': array([-0.91276133], dtype=float32),\n",
       "  'probabilities': array([ 0.71356487,  0.2864351 ], dtype=float32)},\n",
       " {'class_ids': array([0]),\n",
       "  'classes': array([b'0'], dtype=object),\n",
       "  'logistic': array([ 0.1697336], dtype=float32),\n",
       "  'logits': array([-1.58751643], dtype=float32),\n",
       "  'probabilities': array([ 0.83026636,  0.1697336 ], dtype=float32)},\n",
       " {'class_ids': array([0]),\n",
       "  'classes': array([b'0'], dtype=object),\n",
       "  'logistic': array([ 0.30160809], dtype=float32),\n",
       "  'logits': array([-0.83965188], dtype=float32),\n",
       "  'probabilities': array([ 0.69839191,  0.30160812], dtype=float32)},\n",
       " {'class_ids': array([0]),\n",
       "  'classes': array([b'0'], dtype=object),\n",
       "  'logistic': array([ 0.31499866], dtype=float32),\n",
       "  'logits': array([-0.77685249], dtype=float32),\n",
       "  'probabilities': array([ 0.68500137,  0.31499866], dtype=float32)},\n",
       " {'class_ids': array([0]),\n",
       "  'classes': array([b'0'], dtype=object),\n",
       "  'logistic': array([ 0.15774749], dtype=float32),\n",
       "  'logits': array([-1.67508423], dtype=float32),\n",
       "  'probabilities': array([ 0.84225255,  0.15774749], dtype=float32)},\n",
       " {'class_ids': array([1]),\n",
       "  'classes': array([b'1'], dtype=object),\n",
       "  'logistic': array([ 0.63948727], dtype=float32),\n",
       "  'logits': array([ 0.57313943], dtype=float32),\n",
       "  'probabilities': array([ 0.3605127 ,  0.63948727], dtype=float32)},\n",
       " {'class_ids': array([0]),\n",
       "  'classes': array([b'0'], dtype=object),\n",
       "  'logistic': array([ 0.16746362], dtype=float32),\n",
       "  'logits': array([-1.60371089], dtype=float32),\n",
       "  'probabilities': array([ 0.83253634,  0.16746359], dtype=float32)},\n",
       " {'class_ids': array([0]),\n",
       "  'classes': array([b'0'], dtype=object),\n",
       "  'logistic': array([ 0.16358933], dtype=float32),\n",
       "  'logits': array([-1.6317606], dtype=float32),\n",
       "  'probabilities': array([ 0.8364107 ,  0.16358933], dtype=float32)},\n",
       " {'class_ids': array([0]),\n",
       "  'classes': array([b'0'], dtype=object),\n",
       "  'logistic': array([ 0.24412742], dtype=float32),\n",
       "  'logits': array([-1.1301825], dtype=float32),\n",
       "  'probabilities': array([ 0.75587255,  0.24412742], dtype=float32)},\n",
       " {'class_ids': array([0]),\n",
       "  'classes': array([b'0'], dtype=object),\n",
       "  'logistic': array([ 0.43302962], dtype=float32),\n",
       "  'logits': array([-0.26950097], dtype=float32),\n",
       "  'probabilities': array([ 0.56697041,  0.43302965], dtype=float32)},\n",
       " {'class_ids': array([0]),\n",
       "  'classes': array([b'0'], dtype=object),\n",
       "  'logistic': array([ 0.24471024], dtype=float32),\n",
       "  'logits': array([-1.1270268], dtype=float32),\n",
       "  'probabilities': array([ 0.75528979,  0.24471021], dtype=float32)},\n",
       " {'class_ids': array([0]),\n",
       "  'classes': array([b'0'], dtype=object),\n",
       "  'logistic': array([ 0.12451371], dtype=float32),\n",
       "  'logits': array([-1.95036376], dtype=float32),\n",
       "  'probabilities': array([ 0.87548631,  0.1245137 ], dtype=float32)},\n",
       " {'class_ids': array([1]),\n",
       "  'classes': array([b'1'], dtype=object),\n",
       "  'logistic': array([ 0.78007728], dtype=float32),\n",
       "  'logits': array([ 1.26611698], dtype=float32),\n",
       "  'probabilities': array([ 0.21992268,  0.78007728], dtype=float32)},\n",
       " {'class_ids': array([1]),\n",
       "  'classes': array([b'1'], dtype=object),\n",
       "  'logistic': array([ 0.61296088], dtype=float32),\n",
       "  'logits': array([ 0.45977533], dtype=float32),\n",
       "  'probabilities': array([ 0.38703912,  0.61296088], dtype=float32)},\n",
       " {'class_ids': array([0]),\n",
       "  'classes': array([b'0'], dtype=object),\n",
       "  'logistic': array([ 0.48323902], dtype=float32),\n",
       "  'logits': array([-0.06706917], dtype=float32),\n",
       "  'probabilities': array([ 0.516761,  0.483239], dtype=float32)},\n",
       " {'class_ids': array([1]),\n",
       "  'classes': array([b'1'], dtype=object),\n",
       "  'logistic': array([ 0.69017601], dtype=float32),\n",
       "  'logits': array([ 0.80094206], dtype=float32),\n",
       "  'probabilities': array([ 0.30982405,  0.69017601], dtype=float32)},\n",
       " {'class_ids': array([0]),\n",
       "  'classes': array([b'0'], dtype=object),\n",
       "  'logistic': array([ 0.14604253], dtype=float32),\n",
       "  'logits': array([-1.76598358], dtype=float32),\n",
       "  'probabilities': array([ 0.85395747,  0.14604253], dtype=float32)},\n",
       " {'class_ids': array([0]),\n",
       "  'classes': array([b'0'], dtype=object),\n",
       "  'logistic': array([ 0.13977283], dtype=float32),\n",
       "  'logits': array([-1.81717801], dtype=float32),\n",
       "  'probabilities': array([ 0.86022711,  0.13977283], dtype=float32)},\n",
       " {'class_ids': array([0]),\n",
       "  'classes': array([b'0'], dtype=object),\n",
       "  'logistic': array([ 0.21872969], dtype=float32),\n",
       "  'logits': array([-1.27308452], dtype=float32),\n",
       "  'probabilities': array([ 0.78127033,  0.21872969], dtype=float32)},\n",
       " {'class_ids': array([0]),\n",
       "  'classes': array([b'0'], dtype=object),\n",
       "  'logistic': array([ 0.29876867], dtype=float32),\n",
       "  'logits': array([-0.85316819], dtype=float32),\n",
       "  'probabilities': array([ 0.7012313 ,  0.29876867], dtype=float32)},\n",
       " {'class_ids': array([0]),\n",
       "  'classes': array([b'0'], dtype=object),\n",
       "  'logistic': array([ 0.34608823], dtype=float32),\n",
       "  'logits': array([-0.63627881], dtype=float32),\n",
       "  'probabilities': array([ 0.65391177,  0.3460882 ], dtype=float32)},\n",
       " {'class_ids': array([1]),\n",
       "  'classes': array([b'1'], dtype=object),\n",
       "  'logistic': array([ 0.51424903], dtype=float32),\n",
       "  'logits': array([ 0.05701149], dtype=float32),\n",
       "  'probabilities': array([ 0.485751  ,  0.51424903], dtype=float32)},\n",
       " {'class_ids': array([1]),\n",
       "  'classes': array([b'1'], dtype=object),\n",
       "  'logistic': array([ 0.51654708], dtype=float32),\n",
       "  'logits': array([ 0.06621253], dtype=float32),\n",
       "  'probabilities': array([ 0.48345292,  0.51654708], dtype=float32)},\n",
       " {'class_ids': array([0]),\n",
       "  'classes': array([b'0'], dtype=object),\n",
       "  'logistic': array([ 0.35556], dtype=float32),\n",
       "  'logits': array([-0.59468758], dtype=float32),\n",
       "  'probabilities': array([ 0.64443994,  0.35556   ], dtype=float32)},\n",
       " {'class_ids': array([0]),\n",
       "  'classes': array([b'0'], dtype=object),\n",
       "  'logistic': array([ 0.33606774], dtype=float32),\n",
       "  'logits': array([-0.68086743], dtype=float32),\n",
       "  'probabilities': array([ 0.66393232,  0.33606777], dtype=float32)},\n",
       " {'class_ids': array([0]),\n",
       "  'classes': array([b'0'], dtype=object),\n",
       "  'logistic': array([ 0.29718456], dtype=float32),\n",
       "  'logits': array([-0.86074102], dtype=float32),\n",
       "  'probabilities': array([ 0.70281541,  0.29718456], dtype=float32)},\n",
       " {'class_ids': array([0]),\n",
       "  'classes': array([b'0'], dtype=object),\n",
       "  'logistic': array([ 0.17107353], dtype=float32),\n",
       "  'logits': array([-1.5780381], dtype=float32),\n",
       "  'probabilities': array([ 0.82892644,  0.1710735 ], dtype=float32)},\n",
       " {'class_ids': array([1]),\n",
       "  'classes': array([b'1'], dtype=object),\n",
       "  'logistic': array([ 0.59128022], dtype=float32),\n",
       "  'logits': array([ 0.36926007], dtype=float32),\n",
       "  'probabilities': array([ 0.40871987,  0.59128022], dtype=float32)},\n",
       " {'class_ids': array([0]),\n",
       "  'classes': array([b'0'], dtype=object),\n",
       "  'logistic': array([ 0.13839474], dtype=float32),\n",
       "  'logits': array([-1.82868719], dtype=float32),\n",
       "  'probabilities': array([ 0.86160529,  0.13839474], dtype=float32)},\n",
       " {'class_ids': array([0]),\n",
       "  'classes': array([b'0'], dtype=object),\n",
       "  'logistic': array([ 0.21505894], dtype=float32),\n",
       "  'logits': array([-1.29469645], dtype=float32),\n",
       "  'probabilities': array([ 0.78494108,  0.21505895], dtype=float32)},\n",
       " {'class_ids': array([1]),\n",
       "  'classes': array([b'1'], dtype=object),\n",
       "  'logistic': array([ 0.53295153], dtype=float32),\n",
       "  'logits': array([ 0.13199747], dtype=float32),\n",
       "  'probabilities': array([ 0.46704844,  0.53295153], dtype=float32)},\n",
       " {'class_ids': array([0]),\n",
       "  'classes': array([b'0'], dtype=object),\n",
       "  'logistic': array([ 0.34497869], dtype=float32),\n",
       "  'logits': array([-0.6411851], dtype=float32),\n",
       "  'probabilities': array([ 0.65502131,  0.34497869], dtype=float32)},\n",
       " {'class_ids': array([0]),\n",
       "  'classes': array([b'0'], dtype=object),\n",
       "  'logistic': array([ 0.17538485], dtype=float32),\n",
       "  'logits': array([-1.54793417], dtype=float32),\n",
       "  'probabilities': array([ 0.82461518,  0.17538485], dtype=float32)},\n",
       " {'class_ids': array([0]),\n",
       "  'classes': array([b'0'], dtype=object),\n",
       "  'logistic': array([ 0.28487176], dtype=float32),\n",
       "  'logits': array([-0.92042279], dtype=float32),\n",
       "  'probabilities': array([ 0.71512824,  0.28487176], dtype=float32)},\n",
       " {'class_ids': array([0]),\n",
       "  'classes': array([b'0'], dtype=object),\n",
       "  'logistic': array([ 0.23347197], dtype=float32),\n",
       "  'logits': array([-1.18880916], dtype=float32),\n",
       "  'probabilities': array([ 0.76652801,  0.23347197], dtype=float32)},\n",
       " {'class_ids': array([0]),\n",
       "  'classes': array([b'0'], dtype=object),\n",
       "  'logistic': array([ 0.13932019], dtype=float32),\n",
       "  'logits': array([-1.82094765], dtype=float32),\n",
       "  'probabilities': array([ 0.86067981,  0.13932021], dtype=float32)},\n",
       " {'class_ids': array([0]),\n",
       "  'classes': array([b'0'], dtype=object),\n",
       "  'logistic': array([ 0.22305045], dtype=float32),\n",
       "  'logits': array([-1.2479775], dtype=float32),\n",
       "  'probabilities': array([ 0.77694958,  0.22305046], dtype=float32)},\n",
       " {'class_ids': array([1]),\n",
       "  'classes': array([b'1'], dtype=object),\n",
       "  'logistic': array([ 0.50731754], dtype=float32),\n",
       "  'logits': array([ 0.0292722], dtype=float32),\n",
       "  'probabilities': array([ 0.49268249,  0.50731754], dtype=float32)},\n",
       " {'class_ids': array([1]),\n",
       "  'classes': array([b'1'], dtype=object),\n",
       "  'logistic': array([ 0.66007113], dtype=float32),\n",
       "  'logits': array([ 0.66361141], dtype=float32),\n",
       "  'probabilities': array([ 0.33992881,  0.66007113], dtype=float32)},\n",
       " {'class_ids': array([1]),\n",
       "  'classes': array([b'1'], dtype=object),\n",
       "  'logistic': array([ 0.56954169], dtype=float32),\n",
       "  'logits': array([ 0.27998161], dtype=float32),\n",
       "  'probabilities': array([ 0.43045825,  0.56954169], dtype=float32)},\n",
       " {'class_ids': array([1]),\n",
       "  'classes': array([b'1'], dtype=object),\n",
       "  'logistic': array([ 0.66072404], dtype=float32),\n",
       "  'logits': array([ 0.6665225], dtype=float32),\n",
       "  'probabilities': array([ 0.33927596,  0.66072404], dtype=float32)},\n",
       " {'class_ids': array([0]),\n",
       "  'classes': array([b'0'], dtype=object),\n",
       "  'logistic': array([ 0.35407621], dtype=float32),\n",
       "  'logits': array([-0.60116923], dtype=float32),\n",
       "  'probabilities': array([ 0.64592373,  0.35407624], dtype=float32)},\n",
       " {'class_ids': array([0]),\n",
       "  'classes': array([b'0'], dtype=object),\n",
       "  'logistic': array([ 0.27749485], dtype=float32),\n",
       "  'logits': array([-0.95692217], dtype=float32),\n",
       "  'probabilities': array([ 0.72250509,  0.27749485], dtype=float32)},\n",
       " {'class_ids': array([0]),\n",
       "  'classes': array([b'0'], dtype=object),\n",
       "  'logistic': array([ 0.47150609], dtype=float32),\n",
       "  'logits': array([-0.11409926], dtype=float32),\n",
       "  'probabilities': array([ 0.52849388,  0.47150609], dtype=float32)},\n",
       " {'class_ids': array([0]),\n",
       "  'classes': array([b'0'], dtype=object),\n",
       "  'logistic': array([ 0.19567487], dtype=float32),\n",
       "  'logits': array([-1.41354918], dtype=float32),\n",
       "  'probabilities': array([ 0.80432516,  0.19567487], dtype=float32)},\n",
       " {'class_ids': array([0]),\n",
       "  'classes': array([b'0'], dtype=object),\n",
       "  'logistic': array([ 0.16434376], dtype=float32),\n",
       "  'logits': array([-1.62625706], dtype=float32),\n",
       "  'probabilities': array([ 0.83565623,  0.16434374], dtype=float32)},\n",
       " {'class_ids': array([0]),\n",
       "  'classes': array([b'0'], dtype=object),\n",
       "  'logistic': array([ 0.1800814], dtype=float32),\n",
       "  'logits': array([-1.51579607], dtype=float32),\n",
       "  'probabilities': array([ 0.81991857,  0.18008141], dtype=float32)},\n",
       " {'class_ids': array([0]),\n",
       "  'classes': array([b'0'], dtype=object),\n",
       "  'logistic': array([ 0.44419506], dtype=float32),\n",
       "  'logits': array([-0.22415352], dtype=float32),\n",
       "  'probabilities': array([ 0.55580491,  0.44419506], dtype=float32)},\n",
       " {'class_ids': array([0]),\n",
       "  'classes': array([b'0'], dtype=object),\n",
       "  'logistic': array([ 0.06077571], dtype=float32),\n",
       "  'logits': array([-2.73786402], dtype=float32),\n",
       "  'probabilities': array([ 0.93922424,  0.06077571], dtype=float32)},\n",
       " {'class_ids': array([0]),\n",
       "  'classes': array([b'0'], dtype=object),\n",
       "  'logistic': array([ 0.26315936], dtype=float32),\n",
       "  'logits': array([-1.02961183], dtype=float32),\n",
       "  'probabilities': array([ 0.73684067,  0.26315936], dtype=float32)},\n",
       " {'class_ids': array([0]),\n",
       "  'classes': array([b'0'], dtype=object),\n",
       "  'logistic': array([ 0.15535943], dtype=float32),\n",
       "  'logits': array([-1.69316983], dtype=float32),\n",
       "  'probabilities': array([ 0.84464061,  0.15535943], dtype=float32)},\n",
       " {'class_ids': array([0]),\n",
       "  'classes': array([b'0'], dtype=object),\n",
       "  'logistic': array([ 0.22210261], dtype=float32),\n",
       "  'logits': array([-1.25345504], dtype=float32),\n",
       "  'probabilities': array([ 0.77789736,  0.22210263], dtype=float32)},\n",
       " {'class_ids': array([0]),\n",
       "  'classes': array([b'0'], dtype=object),\n",
       "  'logistic': array([ 0.25750148], dtype=float32),\n",
       "  'logits': array([-1.05899549], dtype=float32),\n",
       "  'probabilities': array([ 0.74249852,  0.25750148], dtype=float32)},\n",
       " {'class_ids': array([0]),\n",
       "  'classes': array([b'0'], dtype=object),\n",
       "  'logistic': array([ 0.2782943], dtype=float32),\n",
       "  'logits': array([-0.95293832], dtype=float32),\n",
       "  'probabilities': array([ 0.72170573,  0.2782943 ], dtype=float32)},\n",
       " {'class_ids': array([1]),\n",
       "  'classes': array([b'1'], dtype=object),\n",
       "  'logistic': array([ 0.74000043], dtype=float32),\n",
       "  'logits': array([ 1.04597104], dtype=float32),\n",
       "  'probabilities': array([ 0.25999951,  0.74000043], dtype=float32)},\n",
       " {'class_ids': array([0]),\n",
       "  'classes': array([b'0'], dtype=object),\n",
       "  'logistic': array([ 0.18321143], dtype=float32),\n",
       "  'logits': array([-1.49473941], dtype=float32),\n",
       "  'probabilities': array([ 0.81678855,  0.18321143], dtype=float32)},\n",
       " {'class_ids': array([0]),\n",
       "  'classes': array([b'0'], dtype=object),\n",
       "  'logistic': array([ 0.13536346], dtype=float32),\n",
       "  'logits': array([-1.8543458], dtype=float32),\n",
       "  'probabilities': array([ 0.86463654,  0.13536346], dtype=float32)},\n",
       " {'class_ids': array([1]),\n",
       "  'classes': array([b'1'], dtype=object),\n",
       "  'logistic': array([ 0.54808176], dtype=float32),\n",
       "  'logits': array([ 0.19292319], dtype=float32),\n",
       "  'probabilities': array([ 0.45191824,  0.54808176], dtype=float32)},\n",
       " {'class_ids': array([0]),\n",
       "  'classes': array([b'0'], dtype=object),\n",
       "  'logistic': array([ 0.39831811], dtype=float32),\n",
       "  'logits': array([-0.41247791], dtype=float32),\n",
       "  'probabilities': array([ 0.60168189,  0.39831811], dtype=float32)},\n",
       " {'class_ids': array([1]),\n",
       "  'classes': array([b'1'], dtype=object),\n",
       "  'logistic': array([ 0.82324862], dtype=float32),\n",
       "  'logits': array([ 1.53851402], dtype=float32),\n",
       "  'probabilities': array([ 0.17675141,  0.82324862], dtype=float32)},\n",
       " {'class_ids': array([1]),\n",
       "  'classes': array([b'1'], dtype=object),\n",
       "  'logistic': array([ 0.56291628], dtype=float32),\n",
       "  'logits': array([ 0.25300622], dtype=float32),\n",
       "  'probabilities': array([ 0.43708369,  0.56291628], dtype=float32)},\n",
       " {'class_ids': array([0]),\n",
       "  'classes': array([b'0'], dtype=object),\n",
       "  'logistic': array([ 0.13504851], dtype=float32),\n",
       "  'logits': array([-1.85703933], dtype=float32),\n",
       "  'probabilities': array([ 0.86495143,  0.13504851], dtype=float32)},\n",
       " {'class_ids': array([1]),\n",
       "  'classes': array([b'1'], dtype=object),\n",
       "  'logistic': array([ 0.55644053], dtype=float32),\n",
       "  'logits': array([ 0.22672832], dtype=float32),\n",
       "  'probabilities': array([ 0.44355953,  0.55644053], dtype=float32)}]"
      ]
     },
     "execution_count": 672,
     "metadata": {},
     "output_type": "execute_result"
    }
   ],
   "source": [
    "my_pred = list(predictions)\n",
    "my_pred"
   ]
  },
  {
   "cell_type": "code",
   "execution_count": 673,
   "metadata": {},
   "outputs": [
    {
     "name": "stdout",
     "output_type": "stream",
     "text": [
      "INFO:tensorflow:Using default config.\n",
      "WARNING:tensorflow:Using temporary folder as model directory: /var/folders/s1/h9x0_mhx4tn1dfstx3w6gvhc0000gn/T/tmp_t2s47as\n",
      "INFO:tensorflow:Using config: {'_keep_checkpoint_every_n_hours': 10000, '_save_checkpoints_steps': None, '_model_dir': '/var/folders/s1/h9x0_mhx4tn1dfstx3w6gvhc0000gn/T/tmp_t2s47as', '_keep_checkpoint_max': 5, '_save_checkpoints_secs': 600, '_session_config': None, '_save_summary_steps': 100, '_tf_random_seed': 1, '_log_step_count_steps': 100}\n"
     ]
    }
   ],
   "source": [
    "\n",
    "#  hidden units: Iterable of number hidden units per layer. All layers are \n",
    "#  fully connected. Ex. `[64, 32]` means first layer has 64 nodes and \n",
    "#  second one has 32.\n",
    "dnn_model = tf.estimator.DNNClassifier(hidden_units = [10,10,10],\n",
    "                                       feature_columns=feat_cols, \n",
    "                                       n_classes=2)"
   ]
  },
  {
   "cell_type": "code",
   "execution_count": 674,
   "metadata": {},
   "outputs": [
    {
     "name": "stdout",
     "output_type": "stream",
     "text": [
      "INFO:tensorflow:Create CheckpointSaverHook.\n",
      "INFO:tensorflow:Saving checkpoints for 1 into /var/folders/s1/h9x0_mhx4tn1dfstx3w6gvhc0000gn/T/tmp_t2s47as/model.ckpt.\n",
      "INFO:tensorflow:loss = 7.02631, step = 1\n",
      "INFO:tensorflow:global_step/sec: 241.926\n",
      "INFO:tensorflow:loss = 5.84209, step = 101 (0.422 sec)\n",
      "INFO:tensorflow:global_step/sec: 283.831\n",
      "INFO:tensorflow:loss = 4.88944, step = 201 (0.349 sec)\n",
      "INFO:tensorflow:global_step/sec: 261.111\n",
      "INFO:tensorflow:loss = 3.51729, step = 301 (0.387 sec)\n",
      "INFO:tensorflow:global_step/sec: 263.739\n",
      "INFO:tensorflow:loss = 3.02605, step = 401 (0.374 sec)\n",
      "INFO:tensorflow:global_step/sec: 225.151\n",
      "INFO:tensorflow:loss = 4.9818, step = 501 (0.445 sec)\n",
      "INFO:tensorflow:global_step/sec: 251.712\n",
      "INFO:tensorflow:loss = 5.53747, step = 601 (0.396 sec)\n",
      "INFO:tensorflow:global_step/sec: 274.485\n",
      "INFO:tensorflow:loss = 3.96606, step = 701 (0.367 sec)\n",
      "INFO:tensorflow:global_step/sec: 235.819\n",
      "INFO:tensorflow:loss = 3.87457, step = 801 (0.424 sec)\n",
      "INFO:tensorflow:global_step/sec: 205.738\n",
      "INFO:tensorflow:loss = 7.09624, step = 901 (0.490 sec)\n",
      "INFO:tensorflow:Saving checkpoints for 1000 into /var/folders/s1/h9x0_mhx4tn1dfstx3w6gvhc0000gn/T/tmp_t2s47as/model.ckpt.\n",
      "INFO:tensorflow:Loss for final step: 6.99219.\n"
     ]
    },
    {
     "data": {
      "text/plain": [
       "<tensorflow.python.estimator.canned.dnn.DNNClassifier at 0x11dd6ba58>"
      ]
     },
     "execution_count": 674,
     "metadata": {},
     "output_type": "execute_result"
    }
   ],
   "source": [
    "dnn_model.train(input_fn = input_func, steps =1000)"
   ]
  },
  {
   "cell_type": "code",
   "execution_count": 676,
   "metadata": {},
   "outputs": [],
   "source": [
    "embedded_group_col = tf.column.embedding_column(assigned_group,\n",
    "                                                dimension=4)"
   ]
  },
  {
   "cell_type": "code",
   "execution_count": 677,
   "metadata": {},
   "outputs": [],
   "source": [
    "feat_cols = [num_preg,plasma_gluc,dias_press,tricep,insulin,bmi,\n",
    "             diabetes_pedigress,embedded_group_col, age_bucket]"
   ]
  },
  {
   "cell_type": "code",
   "execution_count": 678,
   "metadata": {},
   "outputs": [],
   "source": [
    "input_func = tf.estimator.inputs.pandas_input_fn(X_train,y_train,batch_size=10,\n",
    "                                                 num_epochs=1000, shuffle=True)"
   ]
  },
  {
   "cell_type": "code",
   "execution_count": 684,
   "metadata": {},
   "outputs": [
    {
     "name": "stdout",
     "output_type": "stream",
     "text": [
      "INFO:tensorflow:Using default config.\n",
      "WARNING:tensorflow:Using temporary folder as model directory: /var/folders/s1/h9x0_mhx4tn1dfstx3w6gvhc0000gn/T/tmpkt10dgiu\n",
      "INFO:tensorflow:Using config: {'_keep_checkpoint_every_n_hours': 10000, '_save_checkpoints_steps': None, '_model_dir': '/var/folders/s1/h9x0_mhx4tn1dfstx3w6gvhc0000gn/T/tmpkt10dgiu', '_keep_checkpoint_max': 5, '_save_checkpoints_secs': 600, '_session_config': None, '_save_summary_steps': 100, '_tf_random_seed': 1, '_log_step_count_steps': 100}\n"
     ]
    }
   ],
   "source": [
    "dnn_model = tf.estimator.DNNClassifier(hidden_units=[10,20, 20, 10,10],\n",
    "                                       feature_columns=feat_cols,n_classes=2)"
   ]
  },
  {
   "cell_type": "code",
   "execution_count": 685,
   "metadata": {},
   "outputs": [
    {
     "name": "stdout",
     "output_type": "stream",
     "text": [
      "INFO:tensorflow:Create CheckpointSaverHook.\n",
      "INFO:tensorflow:Saving checkpoints for 1 into /var/folders/s1/h9x0_mhx4tn1dfstx3w6gvhc0000gn/T/tmpkt10dgiu/model.ckpt.\n",
      "INFO:tensorflow:loss = 7.38697, step = 1\n",
      "INFO:tensorflow:global_step/sec: 244.204\n",
      "INFO:tensorflow:loss = 4.02467, step = 101 (0.414 sec)\n",
      "INFO:tensorflow:global_step/sec: 251.819\n",
      "INFO:tensorflow:loss = 7.89994, step = 201 (0.401 sec)\n",
      "INFO:tensorflow:global_step/sec: 280.874\n",
      "INFO:tensorflow:loss = 5.62955, step = 301 (0.352 sec)\n",
      "INFO:tensorflow:global_step/sec: 262.374\n",
      "INFO:tensorflow:loss = 3.33474, step = 401 (0.384 sec)\n",
      "INFO:tensorflow:global_step/sec: 287.493\n",
      "INFO:tensorflow:loss = 5.15105, step = 501 (0.344 sec)\n",
      "INFO:tensorflow:global_step/sec: 273.807\n",
      "INFO:tensorflow:loss = 5.12869, step = 601 (0.367 sec)\n",
      "INFO:tensorflow:global_step/sec: 288.793\n",
      "INFO:tensorflow:loss = 3.81231, step = 701 (0.349 sec)\n",
      "INFO:tensorflow:global_step/sec: 274.257\n",
      "INFO:tensorflow:loss = 5.20013, step = 801 (0.366 sec)\n",
      "INFO:tensorflow:global_step/sec: 250.027\n",
      "INFO:tensorflow:loss = 3.12023, step = 901 (0.398 sec)\n",
      "INFO:tensorflow:Saving checkpoints for 1000 into /var/folders/s1/h9x0_mhx4tn1dfstx3w6gvhc0000gn/T/tmpkt10dgiu/model.ckpt.\n",
      "INFO:tensorflow:Loss for final step: 3.42348.\n"
     ]
    },
    {
     "data": {
      "text/plain": [
       "<tensorflow.python.estimator.canned.dnn.DNNClassifier at 0x1226f6278>"
      ]
     },
     "execution_count": 685,
     "metadata": {},
     "output_type": "execute_result"
    }
   ],
   "source": [
    "dnn_model.train(input_fn=input_func,steps=1000)"
   ]
  },
  {
   "cell_type": "code",
   "execution_count": 686,
   "metadata": {},
   "outputs": [],
   "source": [
    "eval_input_func = tf.estimator.inputs.pandas_input_fn(x=X_test,y=y_test,\n",
    "                                                      batch_size=10,num_epochs=1,shuffle=False)"
   ]
  },
  {
   "cell_type": "code",
   "execution_count": 687,
   "metadata": {},
   "outputs": [
    {
     "name": "stdout",
     "output_type": "stream",
     "text": [
      "WARNING:tensorflow:Casting <dtype: 'float32'> labels to bool.\n",
      "WARNING:tensorflow:Casting <dtype: 'float32'> labels to bool.\n",
      "INFO:tensorflow:Starting evaluation at 2019-06-20-18:15:02\n",
      "INFO:tensorflow:Restoring parameters from /var/folders/s1/h9x0_mhx4tn1dfstx3w6gvhc0000gn/T/tmpkt10dgiu/model.ckpt-1000\n",
      "INFO:tensorflow:Finished evaluation at 2019-06-20-18:15:04\n",
      "INFO:tensorflow:Saving dict for global step 1000: accuracy = 0.748918, accuracy_baseline = 0.649351, auc = 0.822058, auc_precision_recall = 0.713476, average_loss = 0.495765, global_step = 1000, label/mean = 0.350649, loss = 4.77174, prediction/mean = 0.383373\n"
     ]
    },
    {
     "data": {
      "text/plain": [
       "{'accuracy': 0.74891776,\n",
       " 'accuracy_baseline': 0.64935064,\n",
       " 'auc': 0.8220576,\n",
       " 'auc_precision_recall': 0.71347594,\n",
       " 'average_loss': 0.49576545,\n",
       " 'global_step': 1000,\n",
       " 'label/mean': 0.35064936,\n",
       " 'loss': 4.7717423,\n",
       " 'prediction/mean': 0.38337272}"
      ]
     },
     "execution_count": 687,
     "metadata": {},
     "output_type": "execute_result"
    }
   ],
   "source": [
    "dnn_model.evaluate(eval_input_func)"
   ]
  },
  {
   "cell_type": "code",
   "execution_count": null,
   "metadata": {},
   "outputs": [],
   "source": []
  }
 ],
 "metadata": {
  "kernelspec": {
   "display_name": "lab_tensorflow",
   "language": "python",
   "name": "lab_tensorflow"
  },
  "language_info": {
   "codemirror_mode": {
    "name": "ipython",
    "version": 3
   },
   "file_extension": ".py",
   "mimetype": "text/x-python",
   "name": "python",
   "nbconvert_exporter": "python",
   "pygments_lexer": "ipython3",
   "version": "3.5.4"
  }
 },
 "nbformat": 4,
 "nbformat_minor": 2
}
